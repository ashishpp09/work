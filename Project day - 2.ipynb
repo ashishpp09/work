{
 "cells": [
  {
   "cell_type": "code",
   "execution_count": 104,
   "id": "c85cc195",
   "metadata": {},
   "outputs": [],
   "source": [
    "import pandas as pd\n",
    "import numpy as np\n",
    "import mysql.connector as sql\n",
    "import matplotlib.pyplot as plt\n",
    "import seaborn as sns\n",
    "\n",
    "from sklearn.model_selection import train_test_split\n",
    "from sklearn.preprocessing import MinMaxScaler , StandardScaler\n",
    "\n",
    "from sklearn.linear_model import LogisticRegression\n",
    "\n",
    "from sklearn.metrics import classification_report , confusion_matrix , accuracy_score , f1_score \n",
    "\n",
    "import warnings\n",
    "warnings.filterwarnings('ignore')"
   ]
  },
  {
   "cell_type": "code",
   "execution_count": null,
   "id": "2c912205",
   "metadata": {},
   "outputs": [],
   "source": []
  },
  {
   "cell_type": "code",
   "execution_count": null,
   "id": "3a2e2772",
   "metadata": {},
   "outputs": [],
   "source": []
  },
  {
   "cell_type": "code",
   "execution_count": 2,
   "id": "e81d3f4d",
   "metadata": {},
   "outputs": [
    {
     "name": "stdout",
     "output_type": "stream",
     "text": [
      "<mysql.connector.connection.MySQLConnection object at 0x00000205FA56EE20>\n"
     ]
    }
   ],
   "source": [
    "mydb = sql.connect(host = 'localhost',\n",
    "                  user = 'root',\n",
    "                  passwd = '14920151',\n",
    "                  use_pure = True,\n",
    "                  database = 'loan_data')\n",
    "\n",
    "print(mydb)"
   ]
  },
  {
   "cell_type": "code",
   "execution_count": 3,
   "id": "479e4474",
   "metadata": {},
   "outputs": [],
   "source": [
    "mycursor = mydb.cursor()"
   ]
  },
  {
   "cell_type": "code",
   "execution_count": 4,
   "id": "4b29bc18",
   "metadata": {},
   "outputs": [
    {
     "name": "stdout",
     "output_type": "stream",
     "text": [
      "('aditya',)\n",
      "('album',)\n",
      "('db2',)\n",
      "('information_schema',)\n",
      "('loan_data',)\n",
      "('myaditya',)\n",
      "('mydatabase',)\n",
      "('mysql',)\n",
      "('new_schema',)\n",
      "('performance_schema',)\n",
      "('sql_hr',)\n",
      "('sql_inventory',)\n",
      "('sql_store',)\n",
      "('sys',)\n",
      "('test',)\n",
      "('velocity_new',)\n",
      "('world',)\n"
     ]
    }
   ],
   "source": [
    "mycursor.execute('show databases')\n",
    "for db in mycursor:\n",
    "    print(db)"
   ]
  },
  {
   "cell_type": "code",
   "execution_count": 5,
   "id": "2415552d",
   "metadata": {},
   "outputs": [
    {
     "name": "stdout",
     "output_type": "stream",
     "text": [
      "('LP001002', 'Male', 'No', 0, 'Graduate', 'No', 5849, 0, '', 360, 1, 'Urban', 'Y')\n",
      "('LP001003', 'Male', 'Yes', 1, 'Graduate', 'No', 4583, 1508, '128', 360, 1, 'Rural', 'N')\n",
      "('LP001005', 'Male', 'Yes', 0, 'Graduate', 'Yes', 3000, 0, '66', 360, 1, 'Urban', 'Y')\n",
      "('LP001006', 'Male', 'Yes', 0, 'Not Graduate', 'No', 2583, 2358, '120', 360, 1, 'Urban', 'Y')\n",
      "('LP001008', 'Male', 'No', 0, 'Graduate', 'No', 6000, 0, '141', 360, 1, 'Urban', 'Y')\n",
      "('LP001011', 'Male', 'Yes', 2, 'Graduate', 'Yes', 5417, 4196, '267', 360, 1, 'Urban', 'Y')\n",
      "('LP001013', 'Male', 'Yes', 0, 'Not Graduate', 'No', 2333, 1516, '95', 360, 1, 'Urban', 'Y')\n",
      "('LP001018', 'Male', 'Yes', 2, 'Graduate', 'No', 4006, 1526, '168', 360, 1, 'Urban', 'Y')\n",
      "('LP001020', 'Male', 'Yes', 1, 'Graduate', 'No', 12841, 10968, '349', 360, 1, 'Semiurban', 'N')\n",
      "('LP001024', 'Male', 'Yes', 2, 'Graduate', 'No', 3200, 700, '70', 360, 1, 'Urban', 'Y')\n",
      "('LP001027', 'Male', 'Yes', 2, 'Graduate', '', 2500, 1840, '109', 360, 1, 'Urban', 'Y')\n",
      "('LP001028', 'Male', 'Yes', 2, 'Graduate', 'No', 3073, 8106, '200', 360, 1, 'Urban', 'Y')\n",
      "('LP001029', 'Male', 'No', 0, 'Graduate', 'No', 1853, 2840, '114', 360, 1, 'Rural', 'N')\n",
      "('LP001030', 'Male', 'Yes', 2, 'Graduate', 'No', 1299, 1086, '17', 120, 1, 'Urban', 'Y')\n",
      "('LP001032', 'Male', 'No', 0, 'Graduate', 'No', 4950, 0, '125', 360, 1, 'Urban', 'Y')\n",
      "('LP001034', 'Male', 'No', 1, 'Not Graduate', 'No', 3596, 0, '100', 240, 0, 'Urban', 'Y')\n",
      "('LP001036', 'Female', 'No', 0, 'Graduate', 'No', 3510, 0, '76', 360, 0, 'Urban', 'N')\n",
      "('LP001038', 'Male', 'Yes', 0, 'Not Graduate', 'No', 4887, 0, '133', 360, 1, 'Rural', 'N')\n",
      "('LP001041', 'Male', 'Yes', 0, 'Graduate', '', 2600, 3500, '115', 0, 1, 'Urban', 'Y')\n",
      "('LP001043', 'Male', 'Yes', 0, 'Not Graduate', 'No', 7660, 0, '104', 360, 0, 'Urban', 'N')\n",
      "('LP001046', 'Male', 'Yes', 1, 'Graduate', 'No', 5955, 5625, '315', 360, 1, 'Urban', 'Y')\n",
      "('LP001047', 'Male', 'Yes', 0, 'Not Graduate', 'No', 2600, 1911, '116', 360, 0, 'Semiurban', 'N')\n",
      "('LP001050', '', 'Yes', 2, 'Not Graduate', 'No', 3365, 1917, '112', 360, 0, 'Rural', 'N')\n",
      "('LP001052', 'Male', 'Yes', 1, 'Graduate', '', 3717, 2925, '151', 360, 0, 'Semiurban', 'N')\n",
      "('LP001066', 'Male', 'Yes', 0, 'Graduate', 'Yes', 9560, 0, '191', 360, 1, 'Semiurban', 'Y')\n",
      "('LP001068', 'Male', 'Yes', 0, 'Graduate', 'No', 2799, 2253, '122', 360, 1, 'Semiurban', 'Y')\n",
      "('LP001073', 'Male', 'Yes', 2, 'Not Graduate', 'No', 4226, 1040, '110', 360, 1, 'Urban', 'Y')\n",
      "('LP001086', 'Male', 'No', 0, 'Not Graduate', 'No', 1442, 0, '35', 360, 1, 'Urban', 'N')\n",
      "('LP001087', 'Female', 'No', 2, 'Graduate', '', 3750, 2083, '120', 360, 1, 'Semiurban', 'Y')\n",
      "('LP001091', 'Male', 'Yes', 1, 'Graduate', '', 4166, 3369, '201', 360, 0, 'Urban', 'N')\n",
      "('LP001095', 'Male', 'No', 0, 'Graduate', 'No', 3167, 0, '74', 360, 1, 'Urban', 'N')\n",
      "('LP001097', 'Male', 'No', 1, 'Graduate', 'Yes', 4692, 0, '106', 360, 1, 'Rural', 'N')\n",
      "('LP001098', 'Male', 'Yes', 0, 'Graduate', 'No', 3500, 1667, '114', 360, 1, 'Semiurban', 'Y')\n",
      "('LP001106', 'Male', 'Yes', 0, 'Graduate', 'No', 2275, 2067, '', 360, 1, 'Urban', 'Y')\n",
      "('LP001109', 'Male', 'Yes', 0, 'Graduate', 'No', 1828, 1330, '100', 0, 0, 'Urban', 'N')\n",
      "('LP001112', 'Female', 'Yes', 0, 'Graduate', 'No', 3667, 1459, '144', 360, 1, 'Semiurban', 'Y')\n",
      "('LP001114', 'Male', 'No', 0, 'Graduate', 'No', 4166, 7210, '184', 360, 1, 'Urban', 'Y')\n",
      "('LP001116', 'Male', 'No', 0, 'Not Graduate', 'No', 3748, 1668, '110', 360, 1, 'Semiurban', 'Y')\n",
      "('LP001119', 'Male', 'No', 0, 'Graduate', 'No', 3600, 0, '80', 360, 1, 'Urban', 'N')\n",
      "('LP001120', 'Male', 'No', 0, 'Graduate', 'No', 1800, 1213, '47', 360, 1, 'Urban', 'Y')\n",
      "('LP001123', 'Male', 'Yes', 0, 'Graduate', 'No', 2400, 0, '75', 360, 0, 'Urban', 'Y')\n",
      "('LP001131', 'Male', 'Yes', 0, 'Graduate', 'No', 3941, 2336, '134', 360, 1, 'Semiurban', 'Y')\n",
      "('LP001136', 'Male', 'Yes', 0, 'Not Graduate', 'Yes', 4695, 0, '96', 0, 1, 'Urban', 'Y')\n",
      "('LP001137', 'Female', 'No', 0, 'Graduate', 'No', 3410, 0, '88', 0, 1, 'Urban', 'Y')\n",
      "('LP001138', 'Male', 'Yes', 1, 'Graduate', 'No', 5649, 0, '44', 360, 1, 'Urban', 'Y')\n",
      "('LP001144', 'Male', 'Yes', 0, 'Graduate', 'No', 5821, 0, '144', 360, 1, 'Urban', 'Y')\n",
      "('LP001146', 'Female', 'Yes', 0, 'Graduate', 'No', 2645, 3440, '120', 360, 0, 'Urban', 'N')\n",
      "('LP001151', 'Female', 'No', 0, 'Graduate', 'No', 4000, 2275, '144', 360, 1, 'Semiurban', 'Y')\n",
      "('LP001155', 'Female', 'Yes', 0, 'Not Graduate', 'No', 1928, 1644, '100', 360, 1, 'Semiurban', 'Y')\n",
      "('LP001157', 'Female', 'No', 0, 'Graduate', 'No', 3086, 0, '120', 360, 1, 'Semiurban', 'Y')\n",
      "('LP001164', 'Female', 'No', 0, 'Graduate', 'No', 4230, 0, '112', 360, 1, 'Semiurban', 'N')\n",
      "('LP001179', 'Male', 'Yes', 2, 'Graduate', 'No', 4616, 0, '134', 360, 1, 'Urban', 'N')\n",
      "('LP001186', 'Female', 'Yes', 1, 'Graduate', 'Yes', 11500, 0, '286', 360, 0, 'Urban', 'N')\n",
      "('LP001194', 'Male', 'Yes', 2, 'Graduate', 'No', 2708, 1167, '97', 360, 1, 'Semiurban', 'Y')\n",
      "('LP001195', 'Male', 'Yes', 0, 'Graduate', 'No', 2132, 1591, '96', 360, 1, 'Semiurban', 'Y')\n",
      "('LP001197', 'Male', 'Yes', 0, 'Graduate', 'No', 3366, 2200, '135', 360, 1, 'Rural', 'N')\n",
      "('LP001198', 'Male', 'Yes', 1, 'Graduate', 'No', 8080, 2250, '180', 360, 1, 'Urban', 'Y')\n",
      "('LP001199', 'Male', 'Yes', 2, 'Not Graduate', 'No', 3357, 2859, '144', 360, 1, 'Urban', 'Y')\n",
      "('LP001205', 'Male', 'Yes', 0, 'Graduate', 'No', 2500, 3796, '120', 360, 1, 'Urban', 'Y')\n",
      "('LP001207', 'Male', 'Yes', 0, 'Not Graduate', 'Yes', 2609, 3449, '165', 180, 0, 'Rural', 'N')\n",
      "('LP001213', 'Male', 'Yes', 1, 'Graduate', 'No', 4945, 0, '', 360, 0, 'Rural', 'N')\n",
      "('LP001222', 'Female', 'No', 0, 'Graduate', 'No', 4166, 0, '116', 360, 0, 'Semiurban', 'N')\n",
      "('LP001225', 'Male', 'Yes', 0, 'Graduate', 'No', 5726, 4595, '258', 360, 1, 'Semiurban', 'N')\n",
      "('LP001228', 'Male', 'No', 0, 'Not Graduate', 'No', 3200, 2254, '126', 180, 0, 'Urban', 'N')\n",
      "('LP001233', 'Male', 'Yes', 1, 'Graduate', 'No', 10750, 0, '312', 360, 1, 'Urban', 'Y')\n",
      "('LP001241', 'Female', 'No', 0, 'Graduate', 'No', 4300, 0, '136', 360, 0, 'Semiurban', 'N')\n",
      "('LP001243', 'Male', 'Yes', 0, 'Graduate', 'No', 3208, 3066, '172', 360, 1, 'Urban', 'Y')\n",
      "('LP001245', 'Male', 'Yes', 2, 'Not Graduate', 'Yes', 1875, 1875, '97', 360, 1, 'Semiurban', 'Y')\n",
      "('LP001248', 'Male', 'No', 0, 'Graduate', 'No', 3500, 0, '81', 300, 1, 'Semiurban', 'Y')\n",
      "('LP001255', 'Male', 'No', 0, 'Graduate', 'No', 3750, 0, '113', 480, 1, 'Urban', 'N')\n",
      "('LP001256', 'Male', 'No', 0, 'Graduate', 'No', 3750, 4750, '176', 360, 1, 'Urban', 'N')\n",
      "('LP001259', 'Male', 'Yes', 1, 'Graduate', 'Yes', 1000, 3022, '110', 360, 1, 'Urban', 'N')\n",
      "('LP001265', 'Female', 'No', 0, 'Graduate', 'No', 3846, 0, '111', 360, 1, 'Semiurban', 'Y')\n",
      "('LP001266', 'Male', 'Yes', 1, 'Graduate', 'Yes', 2395, 0, '', 360, 1, 'Semiurban', 'Y')\n",
      "('LP001267', 'Female', 'Yes', 2, 'Graduate', 'No', 1378, 1881, '167', 360, 1, 'Urban', 'N')\n",
      "('LP001273', 'Male', 'Yes', 0, 'Graduate', 'No', 6000, 2250, '265', 360, 0, 'Semiurban', 'N')\n",
      "('LP001275', 'Male', 'Yes', 1, 'Graduate', 'No', 3988, 0, '50', 240, 1, 'Urban', 'Y')\n",
      "('LP001279', 'Male', 'No', 0, 'Graduate', 'No', 2366, 2531, '136', 360, 1, 'Semiurban', 'Y')\n",
      "('LP001280', 'Male', 'Yes', 2, 'Not Graduate', 'No', 3333, 2000, '99', 360, 0, 'Semiurban', 'Y')\n",
      "('LP001282', 'Male', 'Yes', 0, 'Graduate', 'No', 2500, 2118, '104', 360, 1, 'Semiurban', 'Y')\n",
      "('LP001289', 'Male', 'No', 0, 'Graduate', 'No', 8566, 0, '210', 360, 1, 'Urban', 'Y')\n",
      "('LP001310', 'Male', 'Yes', 0, 'Graduate', 'No', 5695, 4167, '175', 360, 1, 'Semiurban', 'Y')\n",
      "('LP001316', 'Male', 'Yes', 0, 'Graduate', 'No', 2958, 2900, '131', 360, 1, 'Semiurban', 'Y')\n",
      "('LP001318', 'Male', 'Yes', 2, 'Graduate', 'No', 6250, 5654, '188', 180, 1, 'Semiurban', 'Y')\n",
      "('LP001319', 'Male', 'Yes', 2, 'Not Graduate', 'No', 3273, 1820, '81', 360, 1, 'Urban', 'Y')\n",
      "('LP001322', 'Male', 'No', 0, 'Graduate', 'No', 4133, 0, '122', 360, 1, 'Semiurban', 'Y')\n",
      "('LP001325', 'Male', 'No', 0, 'Not Graduate', 'No', 3620, 0, '25', 120, 1, 'Semiurban', 'Y')\n",
      "('LP001326', 'Male', 'No', 0, 'Graduate', '', 6782, 0, '', 360, 0, 'Urban', 'N')\n",
      "('LP001327', 'Female', 'Yes', 0, 'Graduate', 'No', 2484, 2302, '137', 360, 1, 'Semiurban', 'Y')\n",
      "('LP001333', 'Male', 'Yes', 0, 'Graduate', 'No', 1977, 997, '50', 360, 1, 'Semiurban', 'Y')\n",
      "('LP001334', 'Male', 'Yes', 0, 'Not Graduate', 'No', 4188, 0, '115', 180, 1, 'Semiurban', 'Y')\n",
      "('LP001343', 'Male', 'Yes', 0, 'Graduate', 'No', 1759, 3541, '131', 360, 1, 'Semiurban', 'Y')\n",
      "('LP001345', 'Male', 'Yes', 2, 'Not Graduate', 'No', 4288, 3263, '133', 180, 1, 'Urban', 'Y')\n",
      "('LP001349', 'Male', 'No', 0, 'Graduate', 'No', 4843, 3806, '151', 360, 1, 'Semiurban', 'Y')\n",
      "('LP001350', 'Male', 'Yes', 0, 'Graduate', 'No', 13650, 0, '', 360, 1, 'Urban', 'Y')\n",
      "('LP001356', 'Male', 'Yes', 0, 'Graduate', 'No', 4652, 3583, '', 360, 1, 'Semiurban', 'Y')\n",
      "('LP001357', 'Male', '', 0, 'Graduate', 'No', 3816, 754, '160', 360, 1, 'Urban', 'Y')\n",
      "('LP001367', 'Male', 'Yes', 1, 'Graduate', 'No', 3052, 1030, '100', 360, 1, 'Urban', 'Y')\n",
      "('LP001369', 'Male', 'Yes', 2, 'Graduate', 'No', 11417, 1126, '225', 360, 1, 'Urban', 'Y')\n",
      "('LP001370', 'Male', 'No', 0, 'Not Graduate', '', 7333, 0, '120', 360, 1, 'Rural', 'N')\n",
      "('LP001379', 'Male', 'Yes', 2, 'Graduate', 'No', 3800, 3600, '216', 360, 0, 'Urban', 'N')\n",
      "('LP001385', 'Male', 'No', 0, 'Graduate', 'No', 5316, 0, '136', 360, 1, 'Urban', 'Y')\n",
      "('LP001387', 'Female', 'Yes', 0, 'Graduate', '', 2929, 2333, '139', 360, 1, 'Semiurban', 'Y')\n",
      "('LP001391', 'Male', 'Yes', 0, 'Not Graduate', 'No', 3572, 4114, '152', 0, 0, 'Rural', 'N')\n",
      "('LP001392', 'Female', 'No', 1, 'Graduate', 'Yes', 7451, 0, '', 360, 1, 'Semiurban', 'Y')\n",
      "('LP001398', 'Male', 'No', 0, 'Graduate', '', 5050, 0, '118', 360, 1, 'Semiurban', 'Y')\n",
      "('LP001401', 'Male', 'Yes', 1, 'Graduate', 'No', 14583, 0, '185', 180, 1, 'Rural', 'Y')\n",
      "('LP001404', 'Female', 'Yes', 0, 'Graduate', 'No', 3167, 2283, '154', 360, 1, 'Semiurban', 'Y')\n",
      "('LP001405', 'Male', 'Yes', 1, 'Graduate', 'No', 2214, 1398, '85', 360, 0, 'Urban', 'Y')\n",
      "('LP001421', 'Male', 'Yes', 0, 'Graduate', 'No', 5568, 2142, '175', 360, 1, 'Rural', 'N')\n",
      "('LP001422', 'Female', 'No', 0, 'Graduate', 'No', 10408, 0, '259', 360, 1, 'Urban', 'Y')\n",
      "('LP001426', 'Male', 'Yes', 0, 'Graduate', 'No', 5667, 2667, '180', 360, 1, 'Rural', 'Y')\n",
      "('LP001430', 'Female', 'No', 0, 'Graduate', 'No', 4166, 0, '44', 360, 1, 'Semiurban', 'Y')\n",
      "('LP001431', 'Female', 'No', 0, 'Graduate', 'No', 2137, 8980, '137', 360, 0, 'Semiurban', 'Y')\n",
      "('LP001432', 'Male', 'Yes', 2, 'Graduate', 'No', 2957, 0, '81', 360, 1, 'Semiurban', 'Y')\n",
      "('LP001439', 'Male', 'Yes', 0, 'Not Graduate', 'No', 4300, 2014, '194', 360, 1, 'Rural', 'Y')\n",
      "('LP001443', 'Female', 'No', 0, 'Graduate', 'No', 3692, 0, '93', 360, 0, 'Rural', 'Y')\n",
      "('LP001449', 'Male', 'No', 0, 'Graduate', 'No', 3865, 1640, '', 360, 1, 'Rural', 'Y')\n",
      "('LP001451', 'Male', 'Yes', 1, 'Graduate', 'Yes', 10513, 3850, '160', 180, 0, 'Urban', 'N')\n",
      "('LP001465', 'Male', 'Yes', 0, 'Graduate', 'No', 6080, 2569, '182', 360, 0, 'Rural', 'N')\n",
      "('LP001469', 'Male', 'No', 0, 'Graduate', 'Yes', 20166, 0, '650', 480, 0, 'Urban', 'Y')\n",
      "('LP001473', 'Male', 'No', 0, 'Graduate', 'No', 2014, 1929, '74', 360, 1, 'Urban', 'Y')\n",
      "('LP001478', 'Male', 'No', 0, 'Graduate', 'No', 2718, 0, '70', 360, 1, 'Semiurban', 'Y')\n",
      "('LP001482', 'Male', 'Yes', 0, 'Graduate', 'Yes', 3459, 0, '25', 120, 1, 'Semiurban', 'Y')\n",
      "('LP001487', 'Male', 'No', 0, 'Graduate', 'No', 4895, 0, '102', 360, 1, 'Semiurban', 'Y')\n",
      "('LP001489', 'Female', 'Yes', 0, 'Graduate', 'No', 4583, 0, '84', 360, 1, 'Rural', 'N')\n",
      "('LP001491', 'Male', 'Yes', 2, 'Graduate', 'Yes', 3316, 3500, '88', 360, 1, 'Urban', 'Y')\n",
      "('LP001492', 'Male', 'No', 0, 'Graduate', 'No', 14999, 0, '242', 360, 0, 'Semiurban', 'N')\n",
      "('LP001493', 'Male', 'Yes', 2, 'Not Graduate', 'No', 4200, 1430, '129', 360, 1, 'Rural', 'N')\n",
      "('LP001497', 'Male', 'Yes', 2, 'Graduate', 'No', 5042, 2083, '185', 360, 1, 'Rural', 'N')\n",
      "('LP001498', 'Male', 'No', 0, 'Graduate', 'No', 5417, 0, '168', 360, 1, 'Urban', 'Y')\n",
      "('LP001504', 'Male', 'No', 0, 'Graduate', 'Yes', 6950, 0, '175', 180, 1, 'Semiurban', 'Y')\n",
      "('LP001507', 'Male', 'Yes', 0, 'Graduate', 'No', 2698, 2034, '122', 360, 1, 'Semiurban', 'Y')\n",
      "('LP001508', 'Male', 'Yes', 2, 'Graduate', 'No', 11757, 0, '187', 180, 1, 'Urban', 'Y')\n",
      "('LP001514', 'Female', 'Yes', 0, 'Graduate', 'No', 2330, 4486, '100', 360, 1, 'Semiurban', 'Y')\n",
      "('LP001516', 'Female', 'Yes', 2, 'Graduate', 'No', 14866, 0, '70', 360, 1, 'Urban', 'Y')\n",
      "('LP001518', 'Male', 'Yes', 1, 'Graduate', 'No', 1538, 1425, '30', 360, 1, 'Urban', 'Y')\n",
      "('LP001519', 'Female', 'No', 0, 'Graduate', 'No', 10000, 1666, '225', 360, 1, 'Rural', 'N')\n",
      "('LP001520', 'Male', 'Yes', 0, 'Graduate', 'No', 4860, 830, '125', 360, 1, 'Semiurban', 'Y')\n",
      "('LP001528', 'Male', 'No', 0, 'Graduate', 'No', 6277, 0, '118', 360, 0, 'Rural', 'N')\n",
      "('LP001529', 'Male', 'Yes', 0, 'Graduate', 'Yes', 2577, 3750, '152', 360, 1, 'Rural', 'Y')\n",
      "('LP001531', 'Male', 'No', 0, 'Graduate', 'No', 9166, 0, '244', 360, 1, 'Urban', 'N')\n",
      "('LP001532', 'Male', 'Yes', 2, 'Not Graduate', 'No', 2281, 0, '113', 360, 1, 'Rural', 'N')\n",
      "('LP001535', 'Male', 'No', 0, 'Graduate', 'No', 3254, 0, '50', 360, 1, 'Urban', 'Y')\n",
      "('LP001541', 'Male', 'Yes', 1, 'Graduate', 'No', 6000, 0, '160', 360, 0, 'Rural', 'Y')\n",
      "('LP001543', 'Male', 'Yes', 1, 'Graduate', 'No', 9538, 0, '187', 360, 1, 'Urban', 'Y')\n",
      "('LP001546', 'Male', 'No', 0, 'Graduate', '', 2980, 2083, '120', 360, 1, 'Rural', 'Y')\n",
      "('LP001552', 'Male', 'Yes', 0, 'Graduate', 'No', 4583, 5625, '255', 360, 1, 'Semiurban', 'Y')\n",
      "('LP001560', 'Male', 'Yes', 0, 'Not Graduate', 'No', 1863, 1041, '98', 360, 1, 'Semiurban', 'Y')\n",
      "('LP001562', 'Male', 'Yes', 0, 'Graduate', 'No', 7933, 0, '275', 360, 1, 'Urban', 'N')\n",
      "('LP001565', 'Male', 'Yes', 1, 'Graduate', 'No', 3089, 1280, '121', 360, 0, 'Semiurban', 'N')\n",
      "('LP001570', 'Male', 'Yes', 2, 'Graduate', 'No', 4167, 1447, '158', 360, 1, 'Rural', 'Y')\n",
      "('LP001572', 'Male', 'Yes', 0, 'Graduate', 'No', 9323, 0, '75', 180, 1, 'Urban', 'Y')\n",
      "('LP001574', 'Male', 'Yes', 0, 'Graduate', 'No', 3707, 3166, '182', 0, 1, 'Rural', 'Y')\n",
      "('LP001577', 'Female', 'Yes', 0, 'Graduate', 'No', 4583, 0, '112', 360, 1, 'Rural', 'N')\n",
      "('LP001578', 'Male', 'Yes', 0, 'Graduate', 'No', 2439, 3333, '129', 360, 1, 'Rural', 'Y')\n",
      "('LP001579', 'Male', 'No', 0, 'Graduate', 'No', 2237, 0, '63', 480, 0, 'Semiurban', 'N')\n",
      "('LP001580', 'Male', 'Yes', 2, 'Graduate', 'No', 8000, 0, '200', 360, 1, 'Semiurban', 'Y')\n",
      "('LP001581', 'Male', 'Yes', 0, 'Not Graduate', '', 1820, 1769, '95', 360, 1, 'Rural', 'Y')\n",
      "('LP001594', 'Male', 'Yes', 0, 'Graduate', 'No', 5708, 5625, '187', 360, 1, 'Semiurban', 'Y')\n",
      "('LP001603', 'Male', 'Yes', 0, 'Not Graduate', 'Yes', 4344, 736, '87', 360, 1, 'Semiurban', 'N')\n",
      "('LP001606', 'Male', 'Yes', 0, 'Graduate', 'No', 3497, 1964, '116', 360, 1, 'Rural', 'Y')\n",
      "('LP001608', 'Male', 'Yes', 2, 'Graduate', 'No', 2045, 1619, '101', 360, 1, 'Rural', 'Y')\n",
      "('LP001616', 'Male', 'Yes', 1, 'Graduate', 'No', 3750, 0, '116', 360, 1, 'Semiurban', 'Y')\n",
      "('LP001630', 'Male', 'No', 0, 'Not Graduate', 'No', 2333, 1451, '102', 480, 0, 'Urban', 'N')\n",
      "('LP001633', 'Male', 'Yes', 1, 'Graduate', 'No', 6400, 7250, '180', 360, 0, 'Urban', 'N')\n",
      "('LP001634', 'Male', 'No', 0, 'Graduate', 'No', 1916, 5063, '67', 360, 0, 'Rural', 'N')\n",
      "('LP001636', 'Male', 'Yes', 0, 'Graduate', 'No', 4600, 0, '73', 180, 1, 'Semiurban', 'Y')\n",
      "('LP001637', 'Male', 'Yes', 1, 'Graduate', 'No', 33846, 0, '260', 360, 1, 'Semiurban', 'N')\n",
      "('LP001639', 'Female', 'Yes', 0, 'Graduate', 'No', 3625, 0, '108', 360, 1, 'Semiurban', 'Y')\n",
      "('LP001640', 'Male', 'Yes', 0, 'Graduate', 'Yes', 39147, 4750, '120', 360, 1, 'Semiurban', 'Y')\n",
      "('LP001641', 'Male', 'Yes', 1, 'Graduate', 'Yes', 2178, 0, '66', 300, 0, 'Rural', 'N')\n",
      "('LP001643', 'Male', 'Yes', 0, 'Graduate', 'No', 2383, 2138, '58', 360, 0, 'Rural', 'Y')\n",
      "('LP001644', '', 'Yes', 0, 'Graduate', 'Yes', 674, 5296, '168', 360, 1, 'Rural', 'Y')\n",
      "('LP001647', 'Male', 'Yes', 0, 'Graduate', 'No', 9328, 0, '188', 180, 1, 'Rural', 'Y')\n",
      "('LP001653', 'Male', 'No', 0, 'Not Graduate', 'No', 4885, 0, '48', 360, 1, 'Rural', 'Y')\n",
      "('LP001656', 'Male', 'No', 0, 'Graduate', 'No', 12000, 0, '164', 360, 1, 'Semiurban', 'N')\n",
      "('LP001657', 'Male', 'Yes', 0, 'Not Graduate', 'No', 6033, 0, '160', 360, 1, 'Urban', 'N')\n",
      "('LP001658', 'Male', 'No', 0, 'Graduate', 'No', 3858, 0, '76', 360, 1, 'Semiurban', 'Y')\n",
      "('LP001664', 'Male', 'No', 0, 'Graduate', 'No', 4191, 0, '120', 360, 1, 'Rural', 'Y')\n",
      "('LP001665', 'Male', 'Yes', 1, 'Graduate', 'No', 3125, 2583, '170', 360, 1, 'Semiurban', 'N')\n",
      "('LP001666', 'Male', 'No', 0, 'Graduate', 'No', 8333, 3750, '187', 360, 1, 'Rural', 'Y')\n",
      "('LP001669', 'Female', 'No', 0, 'Not Graduate', 'No', 1907, 2365, '120', 0, 1, 'Urban', 'Y')\n",
      "('LP001671', 'Female', 'Yes', 0, 'Graduate', 'No', 3416, 2816, '113', 360, 0, 'Semiurban', 'Y')\n",
      "('LP001673', 'Male', 'No', 0, 'Graduate', 'Yes', 11000, 0, '83', 360, 1, 'Urban', 'N')\n",
      "('LP001674', 'Male', 'Yes', 1, 'Not Graduate', 'No', 2600, 2500, '90', 360, 1, 'Semiurban', 'Y')\n",
      "('LP001677', 'Male', 'No', 2, 'Graduate', 'No', 4923, 0, '166', 360, 0, 'Semiurban', 'Y')\n",
      "('LP001688', 'Male', 'Yes', 1, 'Not Graduate', 'No', 3500, 1083, '135', 360, 1, 'Urban', 'Y')\n",
      "('LP001691', 'Male', 'Yes', 2, 'Not Graduate', 'No', 3917, 0, '124', 360, 1, 'Semiurban', 'Y')\n",
      "('LP001692', 'Female', 'No', 0, 'Not Graduate', 'No', 4408, 0, '120', 360, 1, 'Semiurban', 'Y')\n",
      "('LP001693', 'Female', 'No', 0, 'Graduate', 'No', 3244, 0, '80', 360, 1, 'Urban', 'Y')\n",
      "('LP001698', 'Male', 'No', 0, 'Not Graduate', 'No', 3975, 2531, '55', 360, 1, 'Rural', 'Y')\n",
      "('LP001699', 'Male', 'No', 0, 'Graduate', 'No', 2479, 0, '59', 360, 1, 'Urban', 'Y')\n",
      "('LP001702', 'Male', 'No', 0, 'Graduate', 'No', 3418, 0, '127', 360, 1, 'Semiurban', 'N')\n",
      "('LP001708', 'Female', 'No', 0, 'Graduate', 'No', 10000, 0, '214', 360, 1, 'Semiurban', 'N')\n",
      "('LP001713', 'Male', 'Yes', 1, 'Graduate', 'Yes', 7787, 0, '240', 360, 1, 'Urban', 'Y')\n",
      "('LP001716', 'Male', 'Yes', 0, 'Graduate', 'No', 3173, 3021, '137', 360, 1, 'Urban', 'Y')\n",
      "('LP001722', 'Male', 'Yes', 0, 'Graduate', 'No', 150, 1800, '135', 360, 1, 'Rural', 'N')\n",
      "('LP001726', 'Male', 'Yes', 0, 'Graduate', 'No', 3727, 1775, '131', 360, 1, 'Semiurban', 'Y')\n",
      "('LP001732', 'Male', 'Yes', 2, 'Graduate', '', 5000, 0, '72', 360, 0, 'Semiurban', 'N')\n",
      "('LP001734', 'Female', 'Yes', 2, 'Graduate', 'No', 4283, 2383, '127', 360, 0, 'Semiurban', 'Y')\n",
      "('LP001736', 'Male', 'Yes', 0, 'Graduate', 'No', 2221, 0, '60', 360, 0, 'Urban', 'N')\n",
      "('LP001743', 'Male', 'Yes', 2, 'Graduate', 'No', 4009, 1717, '116', 360, 1, 'Semiurban', 'Y')\n",
      "('LP001744', 'Male', 'No', 0, 'Graduate', 'No', 2971, 2791, '144', 360, 1, 'Semiurban', 'Y')\n",
      "('LP001749', 'Male', 'Yes', 0, 'Graduate', 'No', 7578, 1010, '175', 0, 1, 'Semiurban', 'Y')\n",
      "('LP001750', 'Male', 'Yes', 0, 'Graduate', 'No', 6250, 0, '128', 360, 1, 'Semiurban', 'Y')\n",
      "('LP001751', 'Male', 'Yes', 0, 'Graduate', 'No', 3250, 0, '170', 360, 1, 'Rural', 'N')\n",
      "('LP001754', 'Male', 'Yes', 0, 'Not Graduate', 'Yes', 4735, 0, '138', 360, 1, 'Urban', 'N')\n",
      "('LP001758', 'Male', 'Yes', 2, 'Graduate', 'No', 6250, 1695, '210', 360, 1, 'Semiurban', 'Y')\n",
      "('LP001760', 'Male', '', 0, 'Graduate', 'No', 4758, 0, '158', 480, 1, 'Semiurban', 'Y')\n",
      "('LP001761', 'Male', 'No', 0, 'Graduate', 'Yes', 6400, 0, '200', 360, 1, 'Rural', 'Y')\n",
      "('LP001765', 'Male', 'Yes', 1, 'Graduate', 'No', 2491, 2054, '104', 360, 1, 'Semiurban', 'Y')\n",
      "('LP001768', 'Male', 'Yes', 0, 'Graduate', '', 3716, 0, '42', 180, 1, 'Rural', 'Y')\n",
      "('LP001770', 'Male', 'No', 0, 'Not Graduate', 'No', 3189, 2598, '120', 0, 1, 'Rural', 'Y')\n",
      "('LP001776', 'Female', 'No', 0, 'Graduate', 'No', 8333, 0, '280', 360, 1, 'Semiurban', 'Y')\n",
      "('LP001778', 'Male', 'Yes', 1, 'Graduate', 'No', 3155, 1779, '140', 360, 1, 'Semiurban', 'Y')\n",
      "('LP001784', 'Male', 'Yes', 1, 'Graduate', 'No', 5500, 1260, '170', 360, 1, 'Rural', 'Y')\n",
      "('LP001786', 'Male', 'Yes', 0, 'Graduate', '', 5746, 0, '255', 360, 0, 'Urban', 'N')\n",
      "('LP001788', 'Female', 'No', 0, 'Graduate', 'Yes', 3463, 0, '122', 360, 0, 'Urban', 'Y')\n",
      "('LP001790', 'Female', 'No', 1, 'Graduate', 'No', 3812, 0, '112', 360, 1, 'Rural', 'Y')\n",
      "('LP001792', 'Male', 'Yes', 1, 'Graduate', 'No', 3315, 0, '96', 360, 1, 'Semiurban', 'Y')\n",
      "('LP001798', 'Male', 'Yes', 2, 'Graduate', 'No', 5819, 5000, '120', 360, 1, 'Rural', 'Y')\n",
      "('LP001800', 'Male', 'Yes', 1, 'Not Graduate', 'No', 2510, 1983, '140', 180, 1, 'Urban', 'N')\n",
      "('LP001806', 'Male', 'No', 0, 'Graduate', 'No', 2965, 5701, '155', 60, 1, 'Urban', 'Y')\n",
      "('LP001807', 'Male', 'Yes', 2, 'Graduate', 'Yes', 6250, 1300, '108', 360, 1, 'Rural', 'Y')\n",
      "('LP001811', 'Male', 'Yes', 0, 'Not Graduate', 'No', 3406, 4417, '123', 360, 1, 'Semiurban', 'Y')\n",
      "('LP001813', 'Male', 'No', 0, 'Graduate', 'Yes', 6050, 4333, '120', 180, 1, 'Urban', 'N')\n",
      "('LP001814', 'Male', 'Yes', 2, 'Graduate', 'No', 9703, 0, '112', 360, 1, 'Urban', 'Y')\n",
      "('LP001819', 'Male', 'Yes', 1, 'Not Graduate', 'No', 6608, 0, '137', 180, 1, 'Urban', 'Y')\n",
      "('LP001824', 'Male', 'Yes', 1, 'Graduate', 'No', 2882, 1843, '123', 480, 1, 'Semiurban', 'Y')\n",
      "('LP001825', 'Male', 'Yes', 0, 'Graduate', 'No', 1809, 1868, '90', 360, 1, 'Urban', 'Y')\n",
      "('LP001835', 'Male', 'Yes', 0, 'Not Graduate', 'No', 1668, 3890, '201', 360, 0, 'Semiurban', 'N')\n",
      "('LP001836', 'Female', 'No', 2, 'Graduate', 'No', 3427, 0, '138', 360, 1, 'Urban', 'N')\n",
      "('LP001841', 'Male', 'No', 0, 'Not Graduate', 'Yes', 2583, 2167, '104', 360, 1, 'Rural', 'Y')\n",
      "('LP001843', 'Male', 'Yes', 1, 'Not Graduate', 'No', 2661, 7101, '279', 180, 1, 'Semiurban', 'Y')\n",
      "('LP001844', 'Male', 'No', 0, 'Graduate', 'Yes', 16250, 0, '192', 360, 0, 'Urban', 'N')\n",
      "('LP001849', 'Male', 'No', 0, 'Not Graduate', 'No', 6045, 0, '115', 360, 0, 'Rural', 'N')\n",
      "('LP001859', 'Male', 'Yes', 0, 'Graduate', 'No', 14683, 2100, '304', 360, 1, 'Rural', 'N')\n",
      "('LP001865', 'Male', 'Yes', 1, 'Graduate', 'No', 6083, 4250, '330', 360, 0, 'Urban', 'Y')\n",
      "('LP001868', 'Male', 'No', 0, 'Graduate', 'No', 2060, 2209, '134', 360, 1, 'Semiurban', 'Y')\n",
      "('LP001870', 'Female', 'No', 1, 'Graduate', 'No', 3481, 0, '155', 36, 1, 'Semiurban', 'N')\n",
      "('LP001871', 'Female', 'No', 0, 'Graduate', 'No', 7200, 0, '120', 360, 1, 'Rural', 'Y')\n",
      "('LP001872', 'Male', 'No', 0, 'Graduate', 'Yes', 5166, 0, '128', 360, 1, 'Semiurban', 'Y')\n",
      "('LP001875', 'Male', 'No', 0, 'Graduate', 'No', 4095, 3447, '151', 360, 1, 'Rural', 'Y')\n",
      "('LP001877', 'Male', 'Yes', 2, 'Graduate', 'No', 4708, 1387, '150', 360, 1, 'Semiurban', 'Y')\n",
      "('LP001883', 'Female', 'No', 0, 'Graduate', '', 3418, 0, '135', 360, 1, 'Rural', 'N')\n",
      "('LP001884', 'Female', 'No', 1, 'Graduate', 'No', 2876, 1560, '90', 360, 1, 'Urban', 'Y')\n",
      "('LP001888', 'Female', 'No', 0, 'Graduate', 'No', 3237, 0, '30', 360, 1, 'Urban', 'Y')\n",
      "('LP001891', 'Male', 'Yes', 0, 'Graduate', 'No', 11146, 0, '136', 360, 1, 'Urban', 'Y')\n",
      "('LP001892', 'Male', 'No', 0, 'Graduate', 'No', 2833, 1857, '126', 360, 1, 'Rural', 'Y')\n",
      "('LP001894', 'Male', 'Yes', 0, 'Graduate', 'No', 2620, 2223, '150', 360, 1, 'Semiurban', 'Y')\n",
      "('LP001896', 'Male', 'Yes', 2, 'Graduate', 'No', 3900, 0, '90', 360, 1, 'Semiurban', 'Y')\n",
      "('LP001900', 'Male', 'Yes', 1, 'Graduate', 'No', 2750, 1842, '115', 360, 1, 'Semiurban', 'Y')\n",
      "('LP001903', 'Male', 'Yes', 0, 'Graduate', 'No', 3993, 3274, '207', 360, 1, 'Semiurban', 'Y')\n",
      "('LP001904', 'Male', 'Yes', 0, 'Graduate', 'No', 3103, 1300, '80', 360, 1, 'Urban', 'Y')\n",
      "('LP001907', 'Male', 'Yes', 0, 'Graduate', 'No', 14583, 0, '436', 360, 1, 'Semiurban', 'Y')\n",
      "('LP001908', 'Female', 'Yes', 0, 'Not Graduate', 'No', 4100, 0, '124', 360, 0, 'Rural', 'Y')\n",
      "('LP001910', 'Male', 'No', 1, 'Not Graduate', 'Yes', 4053, 2426, '158', 360, 0, 'Urban', 'N')\n",
      "('LP001914', 'Male', 'Yes', 0, 'Graduate', 'No', 3927, 800, '112', 360, 1, 'Semiurban', 'Y')\n",
      "('LP001915', 'Male', 'Yes', 2, 'Graduate', 'No', 2301, 986, '78', 180, 1, 'Urban', 'Y')\n",
      "('LP001917', 'Female', 'No', 0, 'Graduate', 'No', 1811, 1666, '54', 360, 1, 'Urban', 'Y')\n",
      "('LP001922', 'Male', 'Yes', 0, 'Graduate', 'No', 20667, 0, '', 360, 1, 'Rural', 'N')\n",
      "('LP001924', 'Male', 'No', 0, 'Graduate', 'No', 3158, 3053, '89', 360, 1, 'Rural', 'Y')\n",
      "('LP001925', 'Female', 'No', 0, 'Graduate', 'Yes', 2600, 1717, '99', 300, 1, 'Semiurban', 'N')\n",
      "('LP001926', 'Male', 'Yes', 0, 'Graduate', 'No', 3704, 2000, '120', 360, 1, 'Rural', 'Y')\n",
      "('LP001931', 'Female', 'No', 0, 'Graduate', 'No', 4124, 0, '115', 360, 1, 'Semiurban', 'Y')\n",
      "('LP001935', 'Male', 'No', 0, 'Graduate', 'No', 9508, 0, '187', 360, 1, 'Rural', 'Y')\n",
      "('LP001936', 'Male', 'Yes', 0, 'Graduate', 'No', 3075, 2416, '139', 360, 1, 'Rural', 'Y')\n",
      "('LP001938', 'Male', 'Yes', 2, 'Graduate', 'No', 4400, 0, '127', 360, 0, 'Semiurban', 'N')\n",
      "('LP001940', 'Male', 'Yes', 2, 'Graduate', 'No', 3153, 1560, '134', 360, 1, 'Urban', 'Y')\n",
      "('LP001945', 'Female', 'No', 0, 'Graduate', 'No', 5417, 0, '143', 480, 0, 'Urban', 'N')\n",
      "('LP001947', 'Male', 'Yes', 0, 'Graduate', 'No', 2383, 3334, '172', 360, 1, 'Semiurban', 'Y')\n",
      "('LP001953', 'Male', 'Yes', 1, 'Graduate', 'No', 6875, 0, '200', 360, 1, 'Semiurban', 'Y')\n",
      "('LP001954', 'Female', 'Yes', 1, 'Graduate', 'No', 4666, 0, '135', 360, 1, 'Urban', 'Y')\n",
      "('LP001955', 'Female', 'No', 0, 'Graduate', 'No', 5000, 2541, '151', 480, 1, 'Rural', 'N')\n",
      "('LP001963', 'Male', 'Yes', 1, 'Graduate', 'No', 2014, 2925, '113', 360, 1, 'Urban', 'N')\n",
      "('LP001964', 'Male', 'Yes', 0, 'Not Graduate', 'No', 1800, 2934, '93', 360, 0, 'Urban', 'N')\n",
      "('LP001972', 'Male', 'Yes', 0, 'Not Graduate', 'No', 2875, 1750, '105', 360, 1, 'Semiurban', 'Y')\n",
      "('LP001974', 'Female', 'No', 0, 'Graduate', 'No', 5000, 0, '132', 360, 1, 'Rural', 'Y')\n",
      "('LP001977', 'Male', 'Yes', 1, 'Graduate', 'No', 1625, 1803, '96', 360, 1, 'Urban', 'Y')\n",
      "('LP001978', 'Male', 'No', 0, 'Graduate', 'No', 4000, 2500, '140', 360, 1, 'Rural', 'Y')\n",
      "('LP001990', 'Male', 'No', 0, 'Not Graduate', 'No', 2000, 0, '', 360, 1, 'Urban', 'N')\n",
      "('LP001993', 'Female', 'No', 0, 'Graduate', 'No', 3762, 1666, '135', 360, 1, 'Rural', 'Y')\n",
      "('LP001994', 'Female', 'No', 0, 'Graduate', 'No', 2400, 1863, '104', 360, 0, 'Urban', 'N')\n",
      "('LP001996', 'Male', 'No', 0, 'Graduate', 'No', 20233, 0, '480', 360, 1, 'Rural', 'N')\n",
      "('LP001998', 'Male', 'Yes', 2, 'Not Graduate', 'No', 7667, 0, '185', 360, 0, 'Rural', 'Y')\n",
      "('LP002002', 'Female', 'No', 0, 'Graduate', 'No', 2917, 0, '84', 360, 1, 'Semiurban', 'Y')\n",
      "('LP002004', 'Male', 'No', 0, 'Not Graduate', 'No', 2927, 2405, '111', 360, 1, 'Semiurban', 'Y')\n",
      "('LP002006', 'Female', 'No', 0, 'Graduate', 'No', 2507, 0, '56', 360, 1, 'Rural', 'Y')\n",
      "('LP002008', 'Male', 'Yes', 2, 'Graduate', 'Yes', 5746, 0, '144', 84, 0, 'Rural', 'Y')\n",
      "('LP002024', '', 'Yes', 0, 'Graduate', 'No', 2473, 1843, '159', 360, 1, 'Rural', 'N')\n",
      "('LP002031', 'Male', 'Yes', 1, 'Not Graduate', 'No', 3399, 1640, '111', 180, 1, 'Urban', 'Y')\n",
      "('LP002035', 'Male', 'Yes', 2, 'Graduate', 'No', 3717, 0, '120', 360, 1, 'Semiurban', 'Y')\n",
      "('LP002036', 'Male', 'Yes', 0, 'Graduate', 'No', 2058, 2134, '88', 360, 0, 'Urban', 'Y')\n",
      "('LP002043', 'Female', 'No', 1, 'Graduate', 'No', 3541, 0, '112', 360, 0, 'Semiurban', 'Y')\n",
      "('LP002050', 'Male', 'Yes', 1, 'Graduate', 'Yes', 10000, 0, '155', 360, 1, 'Rural', 'N')\n",
      "('LP002051', 'Male', 'Yes', 0, 'Graduate', 'No', 2400, 2167, '115', 360, 1, 'Semiurban', 'Y')\n",
      "('LP002054', 'Male', 'Yes', 2, 'Not Graduate', 'No', 3601, 1590, '', 360, 1, 'Rural', 'Y')\n",
      "('LP002055', 'Female', 'No', 0, 'Graduate', 'No', 3166, 2985, '132', 360, 0, 'Rural', 'Y')\n",
      "('LP002067', 'Male', 'Yes', 1, 'Graduate', 'Yes', 8666, 4983, '376', 360, 0, 'Rural', 'N')\n",
      "('LP002068', 'Male', 'No', 0, 'Graduate', 'No', 4917, 0, '130', 360, 0, 'Rural', 'Y')\n",
      "('LP002082', 'Male', 'Yes', 0, 'Graduate', 'Yes', 5818, 2160, '184', 360, 1, 'Semiurban', 'Y')\n",
      "('LP002086', 'Female', 'Yes', 0, 'Graduate', 'No', 4333, 2451, '110', 360, 1, 'Urban', 'N')\n",
      "('LP002087', 'Female', 'No', 0, 'Graduate', 'No', 2500, 0, '67', 360, 1, 'Urban', 'Y')\n",
      "('LP002097', 'Male', 'No', 1, 'Graduate', 'No', 4384, 1793, '117', 360, 1, 'Urban', 'Y')\n",
      "('LP002098', 'Male', 'No', 0, 'Graduate', 'No', 2935, 0, '98', 360, 1, 'Semiurban', 'Y')\n",
      "('LP002100', 'Male', 'No', 0, 'Graduate', 'No', 2833, 0, '71', 360, 1, 'Urban', 'Y')\n",
      "('LP002101', 'Male', 'Yes', 0, 'Graduate', '', 63337, 0, '490', 180, 1, 'Urban', 'Y')\n",
      "('LP002103', '', 'Yes', 1, 'Graduate', 'Yes', 9833, 1833, '182', 180, 1, 'Urban', 'Y')\n",
      "('LP002106', 'Male', 'Yes', 0, 'Graduate', 'Yes', 5503, 4490, '70', 0, 1, 'Semiurban', 'Y')\n",
      "('LP002110', 'Male', 'Yes', 1, 'Graduate', '', 5250, 688, '160', 360, 1, 'Rural', 'Y')\n",
      "('LP002112', 'Male', 'Yes', 2, 'Graduate', 'Yes', 2500, 4600, '176', 360, 1, 'Rural', 'Y')\n",
      "('LP002114', 'Female', 'No', 0, 'Graduate', 'No', 4160, 0, '71', 360, 1, 'Semiurban', 'Y')\n",
      "('LP002116', 'Female', 'No', 0, 'Graduate', 'No', 2378, 0, '46', 360, 1, 'Rural', 'N')\n",
      "('LP002119', 'Male', 'Yes', 1, 'Not Graduate', 'No', 4554, 1229, '158', 360, 1, 'Urban', 'Y')\n",
      "('LP002128', 'Male', 'Yes', 2, 'Graduate', '', 2583, 2330, '125', 360, 1, 'Rural', 'Y')\n",
      "('LP002129', 'Male', 'Yes', 0, 'Graduate', 'No', 2499, 2458, '160', 360, 1, 'Semiurban', 'Y')\n",
      "('LP002130', 'Male', 'Yes', 0, 'Not Graduate', 'No', 3523, 3230, '152', 360, 0, 'Rural', 'N')\n",
      "('LP002131', 'Male', 'Yes', 2, 'Not Graduate', 'No', 3083, 2168, '126', 360, 1, 'Urban', 'Y')\n",
      "('LP002137', 'Male', 'Yes', 0, 'Graduate', 'No', 6333, 4583, '259', 360, 0, 'Semiurban', 'Y')\n",
      "('LP002138', 'Male', 'Yes', 0, 'Graduate', 'No', 2625, 6250, '187', 360, 1, 'Rural', 'Y')\n",
      "('LP002139', 'Male', 'Yes', 0, 'Graduate', 'No', 9083, 0, '228', 360, 1, 'Semiurban', 'Y')\n",
      "('LP002140', 'Male', 'No', 0, 'Graduate', 'No', 8750, 4167, '308', 360, 1, 'Rural', 'N')\n",
      "('LP002142', 'Female', 'Yes', 0, 'Graduate', 'Yes', 5500, 0, '105', 360, 0, 'Rural', 'N')\n",
      "('LP002143', 'Female', 'Yes', 0, 'Graduate', 'No', 2423, 505, '130', 360, 1, 'Semiurban', 'Y')\n",
      "('LP002144', 'Female', 'No', 0, 'Graduate', 'No', 3813, 0, '116', 180, 1, 'Urban', 'Y')\n",
      "('LP002149', 'Male', 'Yes', 2, 'Graduate', 'No', 8333, 3167, '165', 360, 1, 'Rural', 'Y')\n",
      "('LP002151', 'Male', 'Yes', 1, 'Graduate', 'No', 3875, 0, '67', 360, 1, 'Urban', 'N')\n",
      "('LP002158', 'Male', 'Yes', 0, 'Not Graduate', 'No', 3000, 1666, '100', 480, 0, 'Urban', 'N')\n",
      "('LP002161', 'Female', 'No', 1, 'Graduate', 'No', 4723, 0, '81', 360, 1, 'Semiurban', 'N')\n",
      "('LP002170', 'Male', 'Yes', 2, 'Graduate', 'No', 5000, 3667, '236', 360, 1, 'Semiurban', 'Y')\n",
      "('LP002175', 'Male', 'Yes', 0, 'Graduate', 'No', 4750, 2333, '130', 360, 1, 'Urban', 'Y')\n",
      "('LP002178', 'Male', 'Yes', 0, 'Graduate', 'No', 3013, 3033, '95', 300, 0, 'Urban', 'Y')\n",
      "('LP002180', 'Male', 'No', 0, 'Graduate', 'Yes', 6822, 0, '141', 360, 1, 'Rural', 'Y')\n",
      "('LP002181', 'Male', 'No', 0, 'Not Graduate', 'No', 6216, 0, '133', 360, 1, 'Rural', 'N')\n",
      "('LP002187', 'Male', 'No', 0, 'Graduate', 'No', 2500, 0, '96', 480, 1, 'Semiurban', 'N')\n",
      "('LP002188', 'Male', 'No', 0, 'Graduate', 'No', 5124, 0, '124', 0, 0, 'Rural', 'N')\n",
      "('LP002190', 'Male', 'Yes', 1, 'Graduate', 'No', 6325, 0, '175', 360, 1, 'Semiurban', 'Y')\n",
      "('LP002191', 'Male', 'Yes', 0, 'Graduate', 'No', 19730, 5266, '570', 360, 1, 'Rural', 'N')\n",
      "('LP002194', 'Female', 'No', 0, 'Graduate', 'Yes', 15759, 0, '55', 360, 1, 'Semiurban', 'Y')\n",
      "('LP002197', 'Male', 'Yes', 2, 'Graduate', 'No', 5185, 0, '155', 360, 1, 'Semiurban', 'Y')\n",
      "('LP002201', 'Male', 'Yes', 2, 'Graduate', 'Yes', 9323, 7873, '380', 300, 1, 'Rural', 'Y')\n",
      "('LP002205', 'Male', 'No', 1, 'Graduate', 'No', 3062, 1987, '111', 180, 0, 'Urban', 'N')\n",
      "('LP002209', 'Female', 'No', 0, 'Graduate', '', 2764, 1459, '110', 360, 1, 'Urban', 'Y')\n",
      "('LP002211', 'Male', 'Yes', 0, 'Graduate', 'No', 4817, 923, '120', 180, 1, 'Urban', 'Y')\n",
      "('LP002223', 'Male', 'Yes', 0, 'Graduate', 'No', 4310, 0, '130', 360, 0, 'Semiurban', 'Y')\n",
      "('LP002224', 'Male', 'No', 0, 'Graduate', 'No', 3069, 0, '71', 480, 1, 'Urban', 'N')\n",
      "('LP002225', 'Male', 'Yes', 2, 'Graduate', 'No', 5391, 0, '130', 360, 1, 'Urban', 'Y')\n",
      "('LP002226', 'Male', 'Yes', 0, 'Graduate', '', 3333, 2500, '128', 360, 1, 'Semiurban', 'Y')\n",
      "('LP002229', 'Male', 'No', 0, 'Graduate', 'No', 5941, 4232, '296', 360, 1, 'Semiurban', 'Y')\n",
      "('LP002231', 'Female', 'No', 0, 'Graduate', 'No', 6000, 0, '156', 360, 1, 'Urban', 'Y')\n",
      "('LP002234', 'Male', 'No', 0, 'Graduate', 'Yes', 7167, 0, '128', 360, 1, 'Urban', 'Y')\n",
      "('LP002236', 'Male', 'Yes', 2, 'Graduate', 'No', 4566, 0, '100', 360, 1, 'Urban', 'N')\n",
      "('LP002237', 'Male', 'No', 1, 'Graduate', '', 3667, 0, '113', 180, 1, 'Urban', 'Y')\n",
      "('LP002239', 'Male', 'No', 0, 'Not Graduate', 'No', 2346, 1600, '132', 360, 1, 'Semiurban', 'Y')\n",
      "('LP002243', 'Male', 'Yes', 0, 'Not Graduate', 'No', 3010, 3136, '', 360, 0, 'Urban', 'N')\n",
      "('LP002244', 'Male', 'Yes', 0, 'Graduate', 'No', 2333, 2417, '136', 360, 1, 'Urban', 'Y')\n",
      "('LP002250', 'Male', 'Yes', 0, 'Graduate', 'No', 5488, 0, '125', 360, 1, 'Rural', 'Y')\n",
      "('LP002263', 'Male', 'Yes', 0, 'Graduate', 'No', 2583, 2115, '120', 360, 0, 'Urban', 'Y')\n",
      "('LP002265', 'Male', 'Yes', 2, 'Not Graduate', 'No', 1993, 1625, '113', 180, 1, 'Semiurban', 'Y')\n",
      "('LP002266', 'Male', 'Yes', 2, 'Graduate', 'No', 3100, 1400, '113', 360, 1, 'Urban', 'Y')\n",
      "('LP002272', 'Male', 'Yes', 2, 'Graduate', 'No', 3276, 484, '135', 360, 0, 'Semiurban', 'Y')\n",
      "('LP002277', 'Female', 'No', 0, 'Graduate', 'No', 3180, 0, '71', 360, 0, 'Urban', 'N')\n",
      "('LP002281', 'Male', 'Yes', 0, 'Graduate', 'No', 3033, 1459, '95', 360, 1, 'Urban', 'Y')\n",
      "('LP002284', 'Male', 'No', 0, 'Not Graduate', 'No', 3902, 1666, '109', 360, 1, 'Rural', 'Y')\n",
      "('LP002287', 'Female', 'No', 0, 'Graduate', 'No', 1500, 1800, '103', 360, 0, 'Semiurban', 'N')\n",
      "('LP002288', 'Male', 'Yes', 2, 'Not Graduate', 'No', 2889, 0, '45', 180, 0, 'Urban', 'N')\n",
      "('LP002296', 'Male', 'No', 0, 'Not Graduate', 'No', 2755, 0, '65', 300, 1, 'Rural', 'N')\n",
      "('LP002297', 'Male', 'No', 0, 'Graduate', 'No', 2500, 20000, '103', 360, 1, 'Semiurban', 'Y')\n",
      "('LP002300', 'Female', 'No', 0, 'Not Graduate', 'No', 1963, 0, '53', 360, 1, 'Semiurban', 'Y')\n",
      "('LP002301', 'Female', 'No', 0, 'Graduate', 'Yes', 7441, 0, '194', 360, 1, 'Rural', 'N')\n",
      "('LP002305', 'Female', 'No', 0, 'Graduate', 'No', 4547, 0, '115', 360, 1, 'Semiurban', 'Y')\n",
      "('LP002308', 'Male', 'Yes', 0, 'Not Graduate', 'No', 2167, 2400, '115', 360, 1, 'Urban', 'Y')\n",
      "('LP002314', 'Female', 'No', 0, 'Not Graduate', 'No', 2213, 0, '66', 360, 1, 'Rural', 'Y')\n",
      "('LP002315', 'Male', 'Yes', 1, 'Graduate', 'No', 8300, 0, '152', 300, 0, 'Semiurban', 'N')\n",
      "('LP002318', 'Female', 'No', 1, 'Not Graduate', 'Yes', 3867, 0, '62', 360, 1, 'Semiurban', 'N')\n",
      "('LP002319', 'Male', 'Yes', 0, 'Graduate', '', 6256, 0, '160', 360, 0, 'Urban', 'Y')\n",
      "('LP002328', 'Male', 'Yes', 0, 'Not Graduate', 'No', 6096, 0, '218', 360, 0, 'Rural', 'N')\n",
      "('LP002332', 'Male', 'Yes', 0, 'Not Graduate', 'No', 2253, 2033, '110', 360, 1, 'Rural', 'Y')\n",
      "('LP002335', 'Female', 'Yes', 0, 'Not Graduate', 'No', 2149, 3237, '178', 360, 0, 'Semiurban', 'N')\n",
      "('LP002337', 'Female', 'No', 0, 'Graduate', 'No', 2995, 0, '60', 360, 1, 'Urban', 'Y')\n",
      "('LP002341', 'Female', 'No', 1, 'Graduate', 'No', 2600, 0, '160', 360, 1, 'Urban', 'N')\n",
      "('LP002342', 'Male', 'Yes', 2, 'Graduate', 'Yes', 1600, 20000, '239', 360, 1, 'Urban', 'N')\n",
      "('LP002345', 'Male', 'Yes', 0, 'Graduate', 'No', 1025, 2773, '112', 360, 1, 'Rural', 'Y')\n",
      "('LP002347', 'Male', 'Yes', 0, 'Graduate', 'No', 3246, 1417, '138', 360, 1, 'Semiurban', 'Y')\n",
      "('LP002348', 'Male', 'Yes', 0, 'Graduate', 'No', 5829, 0, '138', 360, 1, 'Rural', 'Y')\n",
      "('LP002357', 'Female', 'No', 0, 'Not Graduate', 'No', 2720, 0, '80', 0, 0, 'Urban', 'N')\n",
      "('LP002361', 'Male', 'Yes', 0, 'Graduate', 'No', 1820, 1719, '100', 360, 1, 'Urban', 'Y')\n",
      "('LP002362', 'Male', 'Yes', 1, 'Graduate', 'No', 7250, 1667, '110', 0, 0, 'Urban', 'N')\n",
      "('LP002364', 'Male', 'Yes', 0, 'Graduate', 'No', 14880, 0, '96', 360, 1, 'Semiurban', 'Y')\n",
      "('LP002366', 'Male', 'Yes', 0, 'Graduate', 'No', 2666, 4300, '121', 360, 1, 'Rural', 'Y')\n",
      "('LP002367', 'Female', 'No', 1, 'Not Graduate', 'No', 4606, 0, '81', 360, 1, 'Rural', 'N')\n",
      "('LP002368', 'Male', 'Yes', 2, 'Graduate', 'No', 5935, 0, '133', 360, 1, 'Semiurban', 'Y')\n",
      "('LP002369', 'Male', 'Yes', 0, 'Graduate', 'No', 2920, 16, '87', 360, 1, 'Rural', 'Y')\n",
      "('LP002370', 'Male', 'No', 0, 'Not Graduate', 'No', 2717, 0, '60', 180, 1, 'Urban', 'Y')\n",
      "('LP002377', 'Female', 'No', 1, 'Graduate', 'Yes', 8624, 0, '150', 360, 1, 'Semiurban', 'Y')\n",
      "('LP002379', 'Male', 'No', 0, 'Graduate', 'No', 6500, 0, '105', 360, 0, 'Rural', 'N')\n",
      "('LP002386', 'Male', 'No', 0, 'Graduate', '', 12876, 0, '405', 360, 1, 'Semiurban', 'Y')\n",
      "('LP002387', 'Male', 'Yes', 0, 'Graduate', 'No', 2425, 2340, '143', 360, 1, 'Semiurban', 'Y')\n",
      "('LP002390', 'Male', 'No', 0, 'Graduate', 'No', 3750, 0, '100', 360, 1, 'Urban', 'Y')\n",
      "('LP002393', 'Female', '', 0, 'Graduate', 'No', 10047, 0, '', 240, 1, 'Semiurban', 'Y')\n",
      "('LP002398', 'Male', 'No', 0, 'Graduate', 'No', 1926, 1851, '50', 360, 1, 'Semiurban', 'Y')\n",
      "('LP002401', 'Male', 'Yes', 0, 'Graduate', 'No', 2213, 1125, '', 360, 1, 'Urban', 'Y')\n",
      "('LP002403', 'Male', 'No', 0, 'Graduate', 'Yes', 10416, 0, '187', 360, 0, 'Urban', 'N')\n",
      "('LP002407', 'Female', 'Yes', 0, 'Not Graduate', 'Yes', 7142, 0, '138', 360, 1, 'Rural', 'Y')\n",
      "('LP002408', 'Male', 'No', 0, 'Graduate', 'No', 3660, 5064, '187', 360, 1, 'Semiurban', 'Y')\n",
      "('LP002409', 'Male', 'Yes', 0, 'Graduate', 'No', 7901, 1833, '180', 360, 1, 'Rural', 'Y')\n",
      "('LP002422', 'Male', 'No', 1, 'Graduate', 'No', 37719, 0, '152', 360, 1, 'Semiurban', 'Y')\n",
      "('LP002424', 'Male', 'Yes', 0, 'Graduate', 'No', 7333, 8333, '175', 300, 0, 'Rural', 'Y')\n",
      "('LP002429', 'Male', 'Yes', 1, 'Graduate', 'Yes', 3466, 1210, '130', 360, 1, 'Rural', 'Y')\n",
      "('LP002434', 'Male', 'Yes', 2, 'Not Graduate', 'No', 4652, 0, '110', 360, 1, 'Rural', 'Y')\n",
      "('LP002435', 'Male', 'Yes', 0, 'Graduate', '', 3539, 1376, '55', 360, 1, 'Rural', 'N')\n",
      "('LP002443', 'Male', 'Yes', 2, 'Graduate', 'No', 3340, 1710, '150', 360, 0, 'Rural', 'N')\n",
      "('LP002444', 'Male', 'No', 1, 'Not Graduate', 'Yes', 2769, 1542, '190', 360, 0, 'Semiurban', 'N')\n",
      "('LP002446', 'Male', 'Yes', 2, 'Not Graduate', 'No', 2309, 1255, '125', 360, 0, 'Rural', 'N')\n",
      "('LP002447', 'Male', 'Yes', 2, 'Not Graduate', 'No', 1958, 1456, '60', 300, 0, 'Urban', 'Y')\n"
     ]
    },
    {
     "name": "stdout",
     "output_type": "stream",
     "text": [
      "('LP002448', 'Male', 'Yes', 0, 'Graduate', 'No', 3948, 1733, '149', 360, 0, 'Rural', 'N')\n",
      "('LP002449', 'Male', 'Yes', 0, 'Graduate', 'No', 2483, 2466, '90', 180, 0, 'Rural', 'Y')\n",
      "('LP002453', 'Male', 'No', 0, 'Graduate', 'Yes', 7085, 0, '84', 360, 1, 'Semiurban', 'Y')\n",
      "('LP002455', 'Male', 'Yes', 2, 'Graduate', 'No', 3859, 0, '96', 360, 1, 'Semiurban', 'Y')\n",
      "('LP002459', 'Male', 'Yes', 0, 'Graduate', 'No', 4301, 0, '118', 360, 1, 'Urban', 'Y')\n",
      "('LP002467', 'Male', 'Yes', 0, 'Graduate', 'No', 3708, 2569, '173', 360, 1, 'Urban', 'N')\n",
      "('LP002472', 'Male', 'No', 2, 'Graduate', 'No', 4354, 0, '136', 360, 1, 'Rural', 'Y')\n",
      "('LP002473', 'Male', 'Yes', 0, 'Graduate', 'No', 8334, 0, '160', 360, 1, 'Semiurban', 'N')\n",
      "('LP002478', '', 'Yes', 0, 'Graduate', 'Yes', 2083, 4083, '160', 360, 0, 'Semiurban', 'Y')\n",
      "('LP002487', 'Male', 'Yes', 0, 'Graduate', 'No', 3015, 2188, '153', 360, 1, 'Rural', 'Y')\n",
      "('LP002489', 'Female', 'No', 1, 'Not Graduate', '', 5191, 0, '132', 360, 1, 'Semiurban', 'Y')\n",
      "('LP002493', 'Male', 'No', 0, 'Graduate', 'No', 4166, 0, '98', 360, 0, 'Semiurban', 'N')\n",
      "('LP002494', 'Male', 'No', 0, 'Graduate', 'No', 6000, 0, '140', 360, 1, 'Rural', 'Y')\n",
      "('LP002501', '', 'Yes', 0, 'Graduate', 'No', 16692, 0, '110', 360, 1, 'Semiurban', 'Y')\n",
      "('LP002502', 'Female', 'Yes', 2, 'Not Graduate', '', 210, 2917, '98', 360, 1, 'Semiurban', 'Y')\n",
      "('LP002505', 'Male', 'Yes', 0, 'Graduate', 'No', 4333, 2451, '110', 360, 1, 'Urban', 'N')\n",
      "('LP002515', 'Male', 'Yes', 1, 'Graduate', 'Yes', 3450, 2079, '162', 360, 1, 'Semiurban', 'Y')\n",
      "('LP002517', 'Male', 'Yes', 1, 'Not Graduate', 'No', 2653, 1500, '113', 180, 0, 'Rural', 'N')\n",
      "('LP002522', 'Female', 'No', 0, 'Graduate', 'Yes', 2500, 0, '93', 360, 0, 'Urban', 'Y')\n",
      "('LP002524', 'Male', 'No', 2, 'Graduate', 'No', 5532, 4648, '162', 360, 1, 'Rural', 'Y')\n",
      "('LP002527', 'Male', 'Yes', 2, 'Graduate', 'Yes', 16525, 1014, '150', 360, 1, 'Rural', 'Y')\n",
      "('LP002529', 'Male', 'Yes', 2, 'Graduate', 'No', 6700, 1750, '230', 300, 1, 'Semiurban', 'Y')\n",
      "('LP002530', '', 'Yes', 2, 'Graduate', 'No', 2873, 1872, '132', 360, 0, 'Semiurban', 'N')\n",
      "('LP002531', 'Male', 'Yes', 1, 'Graduate', 'Yes', 16667, 2250, '86', 360, 1, 'Semiurban', 'Y')\n",
      "('LP002533', 'Male', 'Yes', 2, 'Graduate', 'No', 2947, 1603, '', 360, 1, 'Urban', 'N')\n",
      "('LP002534', 'Female', 'No', 0, 'Not Graduate', 'No', 4350, 0, '154', 360, 1, 'Rural', 'Y')\n",
      "('LP002537', 'Male', 'Yes', 0, 'Graduate', 'No', 2083, 3150, '128', 360, 1, 'Semiurban', 'Y')\n",
      "('LP002541', 'Male', 'Yes', 0, 'Graduate', 'No', 10833, 0, '234', 360, 1, 'Semiurban', 'Y')\n",
      "('LP002543', 'Male', 'Yes', 2, 'Graduate', 'No', 8333, 0, '246', 360, 1, 'Semiurban', 'Y')\n",
      "('LP002544', 'Male', 'Yes', 1, 'Not Graduate', 'No', 1958, 2436, '131', 360, 1, 'Rural', 'Y')\n",
      "('LP002545', 'Male', 'No', 2, 'Graduate', 'No', 3547, 0, '80', 360, 0, 'Rural', 'N')\n",
      "('LP002547', 'Male', 'Yes', 1, 'Graduate', 'No', 18333, 0, '500', 360, 1, 'Urban', 'N')\n",
      "('LP002555', 'Male', 'Yes', 2, 'Graduate', 'Yes', 4583, 2083, '160', 360, 1, 'Semiurban', 'Y')\n",
      "('LP002556', 'Male', 'No', 0, 'Graduate', 'No', 2435, 0, '75', 360, 1, 'Urban', 'N')\n",
      "('LP002560', 'Male', 'No', 0, 'Not Graduate', 'No', 2699, 2785, '96', 360, 0, 'Semiurban', 'Y')\n",
      "('LP002562', 'Male', 'Yes', 1, 'Not Graduate', 'No', 5333, 1131, '186', 360, 0, 'Urban', 'Y')\n",
      "('LP002571', 'Male', 'No', 0, 'Not Graduate', 'No', 3691, 0, '110', 360, 1, 'Rural', 'Y')\n",
      "('LP002582', 'Female', 'No', 0, 'Not Graduate', 'Yes', 17263, 0, '225', 360, 1, 'Semiurban', 'Y')\n",
      "('LP002585', 'Male', 'Yes', 0, 'Graduate', 'No', 3597, 2157, '119', 360, 0, 'Rural', 'N')\n",
      "('LP002586', 'Female', 'Yes', 1, 'Graduate', 'No', 3326, 913, '105', 84, 1, 'Semiurban', 'Y')\n",
      "('LP002587', 'Male', 'Yes', 0, 'Not Graduate', 'No', 2600, 1700, '107', 360, 1, 'Rural', 'Y')\n",
      "('LP002588', 'Male', 'Yes', 0, 'Graduate', 'No', 4625, 2857, '111', 12, 0, 'Urban', 'Y')\n",
      "('LP002600', 'Male', 'Yes', 1, 'Graduate', 'Yes', 2895, 0, '95', 360, 1, 'Semiurban', 'Y')\n",
      "('LP002602', 'Male', 'No', 0, 'Graduate', 'No', 6283, 4416, '209', 360, 0, 'Rural', 'N')\n",
      "('LP002603', 'Female', 'No', 0, 'Graduate', 'No', 645, 3683, '113', 480, 1, 'Rural', 'Y')\n",
      "('LP002606', 'Female', 'No', 0, 'Graduate', 'No', 3159, 0, '100', 360, 1, 'Semiurban', 'Y')\n",
      "('LP002615', 'Male', 'Yes', 2, 'Graduate', 'No', 4865, 5624, '208', 360, 1, 'Semiurban', 'Y')\n",
      "('LP002618', 'Male', 'Yes', 1, 'Not Graduate', 'No', 4050, 5302, '138', 360, 0, 'Rural', 'N')\n",
      "('LP002619', 'Male', 'Yes', 0, 'Not Graduate', 'No', 3814, 1483, '124', 300, 1, 'Semiurban', 'Y')\n",
      "('LP002622', 'Male', 'Yes', 2, 'Graduate', 'No', 3510, 4416, '243', 360, 1, 'Rural', 'Y')\n",
      "('LP002624', 'Male', 'Yes', 0, 'Graduate', 'No', 20833, 6667, '480', 360, 0, 'Urban', 'Y')\n",
      "('LP002625', '', 'No', 0, 'Graduate', 'No', 3583, 0, '96', 360, 1, 'Urban', 'N')\n",
      "('LP002626', 'Male', 'Yes', 0, 'Graduate', 'Yes', 2479, 3013, '188', 360, 1, 'Urban', 'Y')\n",
      "('LP002634', 'Female', 'No', 1, 'Graduate', 'No', 13262, 0, '40', 360, 1, 'Urban', 'Y')\n",
      "('LP002637', 'Male', 'No', 0, 'Not Graduate', 'No', 3598, 1287, '100', 360, 1, 'Rural', 'N')\n",
      "('LP002640', 'Male', 'Yes', 1, 'Graduate', 'No', 6065, 2004, '250', 360, 1, 'Semiurban', 'Y')\n",
      "('LP002643', 'Male', 'Yes', 2, 'Graduate', 'No', 3283, 2035, '148', 360, 1, 'Urban', 'Y')\n",
      "('LP002648', 'Male', 'Yes', 0, 'Graduate', 'No', 2130, 6666, '70', 180, 1, 'Semiurban', 'N')\n",
      "('LP002652', 'Male', 'No', 0, 'Graduate', 'No', 5815, 3666, '311', 360, 1, 'Rural', 'N')\n",
      "('LP002670', 'Female', 'Yes', 2, 'Graduate', 'No', 2031, 1632, '113', 480, 1, 'Semiurban', 'Y')\n",
      "('LP002682', 'Male', 'Yes', 0, 'Not Graduate', 'No', 3074, 1800, '123', 360, 0, 'Semiurban', 'N')\n",
      "('LP002683', 'Male', 'No', 0, 'Graduate', 'No', 4683, 1915, '185', 360, 1, 'Semiurban', 'N')\n",
      "('LP002684', 'Female', 'No', 0, 'Not Graduate', 'No', 3400, 0, '95', 360, 1, 'Rural', 'N')\n",
      "('LP002689', 'Male', 'Yes', 2, 'Not Graduate', 'No', 2192, 1742, '45', 360, 1, 'Semiurban', 'Y')\n",
      "('LP002690', 'Male', 'No', 0, 'Graduate', 'No', 2500, 0, '55', 360, 1, 'Semiurban', 'Y')\n",
      "('LP002693', 'Male', 'Yes', 2, 'Graduate', 'Yes', 7948, 7166, '480', 360, 1, 'Rural', 'Y')\n",
      "('LP002697', 'Male', 'No', 0, 'Graduate', 'No', 4680, 2087, '', 360, 1, 'Semiurban', 'N')\n",
      "('LP002699', 'Male', 'Yes', 2, 'Graduate', 'Yes', 17500, 0, '400', 360, 1, 'Rural', 'Y')\n",
      "('LP002705', 'Male', 'Yes', 0, 'Graduate', 'No', 3775, 0, '110', 360, 1, 'Semiurban', 'Y')\n",
      "('LP002706', 'Male', 'Yes', 1, 'Not Graduate', 'No', 5285, 1430, '161', 360, 0, 'Semiurban', 'Y')\n",
      "('LP002714', 'Male', 'No', 1, 'Not Graduate', 'No', 2679, 1302, '94', 360, 1, 'Semiurban', 'Y')\n",
      "('LP002716', 'Male', 'No', 0, 'Not Graduate', 'No', 6783, 0, '130', 360, 1, 'Semiurban', 'Y')\n",
      "('LP002717', 'Male', 'Yes', 0, 'Graduate', 'No', 1025, 5500, '216', 360, 0, 'Rural', 'Y')\n",
      "('LP002723', 'Male', 'No', 2, 'Graduate', 'No', 3588, 0, '110', 360, 0, 'Rural', 'N')\n",
      "('LP002729', 'Male', 'No', 1, 'Graduate', 'No', 11250, 0, '196', 360, 0, 'Semiurban', 'N')\n",
      "('LP002731', 'Female', 'No', 0, 'Not Graduate', 'Yes', 18165, 0, '125', 360, 1, 'Urban', 'Y')\n",
      "('LP002732', 'Male', 'No', 0, 'Not Graduate', '', 2550, 2042, '126', 360, 1, 'Rural', 'Y')\n",
      "('LP002734', 'Male', 'Yes', 0, 'Graduate', 'No', 6133, 3906, '324', 360, 1, 'Urban', 'Y')\n",
      "('LP002738', 'Male', 'No', 2, 'Graduate', 'No', 3617, 0, '107', 360, 1, 'Semiurban', 'Y')\n",
      "('LP002739', 'Male', 'Yes', 0, 'Not Graduate', 'No', 2917, 536, '66', 360, 1, 'Rural', 'N')\n",
      "('LP002741', 'Female', 'Yes', 1, 'Graduate', 'No', 4608, 2845, '140', 180, 1, 'Semiurban', 'Y')\n",
      "('LP002743', 'Female', 'No', 0, 'Graduate', 'No', 2138, 0, '99', 360, 0, 'Semiurban', 'N')\n",
      "('LP002753', 'Female', 'No', 1, 'Graduate', '', 3652, 0, '95', 360, 1, 'Semiurban', 'Y')\n",
      "('LP002755', 'Male', 'Yes', 1, 'Not Graduate', 'No', 2239, 2524, '128', 360, 1, 'Urban', 'Y')\n",
      "('LP002757', 'Female', 'Yes', 0, 'Not Graduate', 'No', 3017, 663, '102', 360, 0, 'Semiurban', 'Y')\n",
      "('LP002767', 'Male', 'Yes', 0, 'Graduate', 'No', 2768, 1950, '155', 360, 1, 'Rural', 'Y')\n",
      "('LP002768', 'Male', 'No', 0, 'Not Graduate', 'No', 3358, 0, '80', 36, 1, 'Semiurban', 'N')\n",
      "('LP002772', 'Male', 'No', 0, 'Graduate', 'No', 2526, 1783, '145', 360, 1, 'Rural', 'Y')\n",
      "('LP002776', 'Female', 'No', 0, 'Graduate', 'No', 5000, 0, '103', 360, 0, 'Semiurban', 'N')\n",
      "('LP002777', 'Male', 'Yes', 0, 'Graduate', 'No', 2785, 2016, '110', 360, 1, 'Rural', 'Y')\n",
      "('LP002778', 'Male', 'Yes', 2, 'Graduate', 'Yes', 6633, 0, '', 360, 0, 'Rural', 'N')\n",
      "('LP002784', 'Male', 'Yes', 1, 'Not Graduate', 'No', 2492, 2375, '', 360, 1, 'Rural', 'Y')\n",
      "('LP002785', 'Male', 'Yes', 1, 'Graduate', 'No', 3333, 3250, '158', 360, 1, 'Urban', 'Y')\n",
      "('LP002788', 'Male', 'Yes', 0, 'Not Graduate', 'No', 2454, 2333, '181', 360, 0, 'Urban', 'N')\n",
      "('LP002789', 'Male', 'Yes', 0, 'Graduate', 'No', 3593, 4266, '132', 180, 0, 'Rural', 'N')\n",
      "('LP002792', 'Male', 'Yes', 1, 'Graduate', 'No', 5468, 1032, '26', 360, 1, 'Semiurban', 'Y')\n",
      "('LP002794', 'Female', 'No', 0, 'Graduate', 'No', 2667, 1625, '84', 360, 0, 'Urban', 'Y')\n",
      "('LP002798', 'Male', 'Yes', 0, 'Graduate', 'No', 3887, 2669, '162', 360, 1, 'Semiurban', 'Y')\n",
      "('LP002804', 'Female', 'Yes', 0, 'Graduate', 'No', 4180, 2306, '182', 360, 1, 'Semiurban', 'Y')\n",
      "('LP002807', 'Male', 'Yes', 2, 'Not Graduate', 'No', 3675, 242, '108', 360, 1, 'Semiurban', 'Y')\n",
      "('LP002813', 'Female', 'Yes', 1, 'Graduate', 'Yes', 19484, 0, '600', 360, 1, 'Semiurban', 'Y')\n",
      "('LP002820', 'Male', 'Yes', 0, 'Graduate', 'No', 5923, 2054, '211', 360, 1, 'Rural', 'Y')\n",
      "('LP002821', 'Male', 'No', 0, 'Not Graduate', 'Yes', 5800, 0, '132', 360, 1, 'Semiurban', 'Y')\n",
      "('LP002832', 'Male', 'Yes', 2, 'Graduate', 'No', 8799, 0, '258', 360, 0, 'Urban', 'N')\n",
      "('LP002833', 'Male', 'Yes', 0, 'Not Graduate', 'No', 4467, 0, '120', 360, 0, 'Rural', 'Y')\n",
      "('LP002836', 'Male', 'No', 0, 'Graduate', 'No', 3333, 0, '70', 360, 1, 'Urban', 'Y')\n",
      "('LP002840', 'Female', 'No', 0, 'Graduate', 'No', 2378, 0, '9', 360, 1, 'Urban', 'N')\n",
      "('LP002841', 'Male', 'Yes', 0, 'Graduate', 'No', 3166, 2064, '104', 360, 0, 'Urban', 'N')\n",
      "('LP002842', 'Male', 'Yes', 1, 'Graduate', 'No', 3417, 1750, '186', 360, 1, 'Urban', 'Y')\n",
      "('LP002847', 'Male', 'Yes', 0, 'Graduate', 'No', 5116, 1451, '165', 360, 0, 'Urban', 'N')\n",
      "('LP002855', 'Male', 'Yes', 2, 'Graduate', 'No', 16666, 0, '275', 360, 1, 'Urban', 'Y')\n",
      "('LP002862', 'Male', 'Yes', 2, 'Not Graduate', 'No', 6125, 1625, '187', 480, 1, 'Semiurban', 'N')\n",
      "('LP002868', 'Male', 'Yes', 2, 'Graduate', 'No', 3159, 461, '108', 84, 1, 'Urban', 'Y')\n",
      "('LP002872', '', 'Yes', 0, 'Graduate', 'No', 3087, 2210, '136', 360, 0, 'Semiurban', 'N')\n",
      "('LP002874', 'Male', 'No', 0, 'Graduate', 'No', 3229, 2739, '110', 360, 1, 'Urban', 'Y')\n",
      "('LP002877', 'Male', 'Yes', 1, 'Graduate', 'No', 1782, 2232, '107', 360, 1, 'Rural', 'Y')\n",
      "('LP002888', 'Male', 'No', 0, 'Graduate', '', 3182, 2917, '161', 360, 1, 'Urban', 'Y')\n",
      "('LP002892', 'Male', 'Yes', 2, 'Graduate', 'No', 6540, 0, '205', 360, 1, 'Semiurban', 'Y')\n",
      "('LP002893', 'Male', 'No', 0, 'Graduate', 'No', 1836, 33837, '90', 360, 1, 'Urban', 'N')\n",
      "('LP002894', 'Female', 'Yes', 0, 'Graduate', 'No', 3166, 0, '36', 360, 1, 'Semiurban', 'Y')\n",
      "('LP002898', 'Male', 'Yes', 1, 'Graduate', 'No', 1880, 0, '61', 360, 0, 'Rural', 'N')\n",
      "('LP002911', 'Male', 'Yes', 1, 'Graduate', 'No', 2787, 1917, '146', 360, 0, 'Rural', 'N')\n",
      "('LP002912', 'Male', 'Yes', 1, 'Graduate', 'No', 4283, 3000, '172', 84, 1, 'Rural', 'N')\n",
      "('LP002916', 'Male', 'Yes', 0, 'Graduate', 'No', 2297, 1522, '104', 360, 1, 'Urban', 'Y')\n",
      "('LP002917', 'Female', 'No', 0, 'Not Graduate', 'No', 2165, 0, '70', 360, 1, 'Semiurban', 'Y')\n",
      "('LP002925', '', 'No', 0, 'Graduate', 'No', 4750, 0, '94', 360, 1, 'Semiurban', 'Y')\n",
      "('LP002926', 'Male', 'Yes', 2, 'Graduate', 'Yes', 2726, 0, '106', 360, 0, 'Semiurban', 'N')\n",
      "('LP002928', 'Male', 'Yes', 0, 'Graduate', 'No', 3000, 3416, '56', 180, 1, 'Semiurban', 'Y')\n",
      "('LP002931', 'Male', 'Yes', 2, 'Graduate', 'Yes', 6000, 0, '205', 240, 1, 'Semiurban', 'N')\n",
      "('LP002936', 'Male', 'Yes', 0, 'Graduate', 'No', 3859, 3300, '142', 180, 1, 'Rural', 'Y')\n",
      "('LP002938', 'Male', 'Yes', 0, 'Graduate', 'Yes', 16120, 0, '260', 360, 1, 'Urban', 'Y')\n",
      "('LP002940', 'Male', 'No', 0, 'Not Graduate', 'No', 3833, 0, '110', 360, 1, 'Rural', 'Y')\n",
      "('LP002941', 'Male', 'Yes', 2, 'Not Graduate', 'Yes', 6383, 1000, '187', 360, 1, 'Rural', 'N')\n",
      "('LP002943', 'Male', 'No', 0, 'Graduate', 'No', 2987, 0, '88', 360, 0, 'Semiurban', 'N')\n",
      "('LP002945', 'Male', 'Yes', 0, 'Graduate', 'Yes', 9963, 0, '180', 360, 1, 'Rural', 'Y')\n",
      "('LP002948', 'Male', 'Yes', 2, 'Graduate', 'No', 5780, 0, '192', 360, 1, 'Urban', 'Y')\n",
      "('LP002950', 'Male', 'Yes', 0, 'Not Graduate', '', 2894, 2792, '155', 360, 1, 'Rural', 'Y')\n",
      "('LP002958', 'Male', 'No', 0, 'Graduate', 'No', 3676, 4301, '172', 360, 1, 'Rural', 'Y')\n",
      "('LP002959', 'Female', 'Yes', 1, 'Graduate', 'No', 12000, 0, '496', 360, 1, 'Semiurban', 'Y')\n",
      "('LP002960', 'Male', 'Yes', 0, 'Not Graduate', 'No', 2400, 3800, '', 180, 1, 'Urban', 'N')\n",
      "('LP002961', 'Male', 'Yes', 1, 'Graduate', 'No', 3400, 2500, '173', 360, 1, 'Semiurban', 'Y')\n",
      "('LP002964', 'Male', 'Yes', 2, 'Not Graduate', 'No', 3987, 1411, '157', 360, 1, 'Rural', 'Y')\n",
      "('LP002974', 'Male', 'Yes', 0, 'Graduate', 'No', 3232, 1950, '108', 360, 1, 'Rural', 'Y')\n",
      "('LP002978', 'Female', 'No', 0, 'Graduate', 'No', 2900, 0, '71', 360, 1, 'Rural', 'Y')\n",
      "('LP002983', 'Male', 'Yes', 1, 'Graduate', 'No', 8072, 240, '253', 360, 1, 'Urban', 'Y')\n",
      "('LP002984', 'Male', 'Yes', 2, 'Graduate', 'No', 7583, 0, '187', 360, 1, 'Urban', 'Y')\n",
      "('LP002990', 'Female', 'No', 0, 'Graduate', 'Yes', 4583, 0, '133', 360, 0, 'Semiurban', 'N')\n"
     ]
    }
   ],
   "source": [
    "mycursor.execute('select * from loan_data.simple_loan_data')\n",
    "result = mycursor.fetchall()\n",
    "for row in result:\n",
    "    print(row)"
   ]
  },
  {
   "cell_type": "code",
   "execution_count": 6,
   "id": "09ff4f25",
   "metadata": {},
   "outputs": [],
   "source": [
    "df = pd.DataFrame(result)"
   ]
  },
  {
   "cell_type": "code",
   "execution_count": 7,
   "id": "803bc6c5",
   "metadata": {},
   "outputs": [
    {
     "data": {
      "text/html": [
       "<div>\n",
       "<style scoped>\n",
       "    .dataframe tbody tr th:only-of-type {\n",
       "        vertical-align: middle;\n",
       "    }\n",
       "\n",
       "    .dataframe tbody tr th {\n",
       "        vertical-align: top;\n",
       "    }\n",
       "\n",
       "    .dataframe thead th {\n",
       "        text-align: right;\n",
       "    }\n",
       "</style>\n",
       "<table border=\"1\" class=\"dataframe\">\n",
       "  <thead>\n",
       "    <tr style=\"text-align: right;\">\n",
       "      <th></th>\n",
       "      <th>0</th>\n",
       "      <th>1</th>\n",
       "      <th>2</th>\n",
       "      <th>3</th>\n",
       "      <th>4</th>\n",
       "      <th>5</th>\n",
       "      <th>6</th>\n",
       "      <th>7</th>\n",
       "      <th>8</th>\n",
       "      <th>9</th>\n",
       "      <th>10</th>\n",
       "      <th>11</th>\n",
       "      <th>12</th>\n",
       "    </tr>\n",
       "  </thead>\n",
       "  <tbody>\n",
       "    <tr>\n",
       "      <th>0</th>\n",
       "      <td>LP001002</td>\n",
       "      <td>Male</td>\n",
       "      <td>No</td>\n",
       "      <td>0</td>\n",
       "      <td>Graduate</td>\n",
       "      <td>No</td>\n",
       "      <td>5849</td>\n",
       "      <td>0</td>\n",
       "      <td></td>\n",
       "      <td>360</td>\n",
       "      <td>1</td>\n",
       "      <td>Urban</td>\n",
       "      <td>Y</td>\n",
       "    </tr>\n",
       "    <tr>\n",
       "      <th>1</th>\n",
       "      <td>LP001003</td>\n",
       "      <td>Male</td>\n",
       "      <td>Yes</td>\n",
       "      <td>1</td>\n",
       "      <td>Graduate</td>\n",
       "      <td>No</td>\n",
       "      <td>4583</td>\n",
       "      <td>1508</td>\n",
       "      <td>128</td>\n",
       "      <td>360</td>\n",
       "      <td>1</td>\n",
       "      <td>Rural</td>\n",
       "      <td>N</td>\n",
       "    </tr>\n",
       "    <tr>\n",
       "      <th>2</th>\n",
       "      <td>LP001005</td>\n",
       "      <td>Male</td>\n",
       "      <td>Yes</td>\n",
       "      <td>0</td>\n",
       "      <td>Graduate</td>\n",
       "      <td>Yes</td>\n",
       "      <td>3000</td>\n",
       "      <td>0</td>\n",
       "      <td>66</td>\n",
       "      <td>360</td>\n",
       "      <td>1</td>\n",
       "      <td>Urban</td>\n",
       "      <td>Y</td>\n",
       "    </tr>\n",
       "    <tr>\n",
       "      <th>3</th>\n",
       "      <td>LP001006</td>\n",
       "      <td>Male</td>\n",
       "      <td>Yes</td>\n",
       "      <td>0</td>\n",
       "      <td>Not Graduate</td>\n",
       "      <td>No</td>\n",
       "      <td>2583</td>\n",
       "      <td>2358</td>\n",
       "      <td>120</td>\n",
       "      <td>360</td>\n",
       "      <td>1</td>\n",
       "      <td>Urban</td>\n",
       "      <td>Y</td>\n",
       "    </tr>\n",
       "    <tr>\n",
       "      <th>4</th>\n",
       "      <td>LP001008</td>\n",
       "      <td>Male</td>\n",
       "      <td>No</td>\n",
       "      <td>0</td>\n",
       "      <td>Graduate</td>\n",
       "      <td>No</td>\n",
       "      <td>6000</td>\n",
       "      <td>0</td>\n",
       "      <td>141</td>\n",
       "      <td>360</td>\n",
       "      <td>1</td>\n",
       "      <td>Urban</td>\n",
       "      <td>Y</td>\n",
       "    </tr>\n",
       "    <tr>\n",
       "      <th>...</th>\n",
       "      <td>...</td>\n",
       "      <td>...</td>\n",
       "      <td>...</td>\n",
       "      <td>...</td>\n",
       "      <td>...</td>\n",
       "      <td>...</td>\n",
       "      <td>...</td>\n",
       "      <td>...</td>\n",
       "      <td>...</td>\n",
       "      <td>...</td>\n",
       "      <td>...</td>\n",
       "      <td>...</td>\n",
       "      <td>...</td>\n",
       "    </tr>\n",
       "    <tr>\n",
       "      <th>558</th>\n",
       "      <td>LP002974</td>\n",
       "      <td>Male</td>\n",
       "      <td>Yes</td>\n",
       "      <td>0</td>\n",
       "      <td>Graduate</td>\n",
       "      <td>No</td>\n",
       "      <td>3232</td>\n",
       "      <td>1950</td>\n",
       "      <td>108</td>\n",
       "      <td>360</td>\n",
       "      <td>1</td>\n",
       "      <td>Rural</td>\n",
       "      <td>Y</td>\n",
       "    </tr>\n",
       "    <tr>\n",
       "      <th>559</th>\n",
       "      <td>LP002978</td>\n",
       "      <td>Female</td>\n",
       "      <td>No</td>\n",
       "      <td>0</td>\n",
       "      <td>Graduate</td>\n",
       "      <td>No</td>\n",
       "      <td>2900</td>\n",
       "      <td>0</td>\n",
       "      <td>71</td>\n",
       "      <td>360</td>\n",
       "      <td>1</td>\n",
       "      <td>Rural</td>\n",
       "      <td>Y</td>\n",
       "    </tr>\n",
       "    <tr>\n",
       "      <th>560</th>\n",
       "      <td>LP002983</td>\n",
       "      <td>Male</td>\n",
       "      <td>Yes</td>\n",
       "      <td>1</td>\n",
       "      <td>Graduate</td>\n",
       "      <td>No</td>\n",
       "      <td>8072</td>\n",
       "      <td>240</td>\n",
       "      <td>253</td>\n",
       "      <td>360</td>\n",
       "      <td>1</td>\n",
       "      <td>Urban</td>\n",
       "      <td>Y</td>\n",
       "    </tr>\n",
       "    <tr>\n",
       "      <th>561</th>\n",
       "      <td>LP002984</td>\n",
       "      <td>Male</td>\n",
       "      <td>Yes</td>\n",
       "      <td>2</td>\n",
       "      <td>Graduate</td>\n",
       "      <td>No</td>\n",
       "      <td>7583</td>\n",
       "      <td>0</td>\n",
       "      <td>187</td>\n",
       "      <td>360</td>\n",
       "      <td>1</td>\n",
       "      <td>Urban</td>\n",
       "      <td>Y</td>\n",
       "    </tr>\n",
       "    <tr>\n",
       "      <th>562</th>\n",
       "      <td>LP002990</td>\n",
       "      <td>Female</td>\n",
       "      <td>No</td>\n",
       "      <td>0</td>\n",
       "      <td>Graduate</td>\n",
       "      <td>Yes</td>\n",
       "      <td>4583</td>\n",
       "      <td>0</td>\n",
       "      <td>133</td>\n",
       "      <td>360</td>\n",
       "      <td>0</td>\n",
       "      <td>Semiurban</td>\n",
       "      <td>N</td>\n",
       "    </tr>\n",
       "  </tbody>\n",
       "</table>\n",
       "<p>563 rows × 13 columns</p>\n",
       "</div>"
      ],
      "text/plain": [
       "           0       1    2   3             4    5     6     7    8    9   10  \\\n",
       "0    LP001002    Male   No   0      Graduate   No  5849     0       360   1   \n",
       "1    LP001003    Male  Yes   1      Graduate   No  4583  1508  128  360   1   \n",
       "2    LP001005    Male  Yes   0      Graduate  Yes  3000     0   66  360   1   \n",
       "3    LP001006    Male  Yes   0  Not Graduate   No  2583  2358  120  360   1   \n",
       "4    LP001008    Male   No   0      Graduate   No  6000     0  141  360   1   \n",
       "..        ...     ...  ...  ..           ...  ...   ...   ...  ...  ...  ..   \n",
       "558  LP002974    Male  Yes   0      Graduate   No  3232  1950  108  360   1   \n",
       "559  LP002978  Female   No   0      Graduate   No  2900     0   71  360   1   \n",
       "560  LP002983    Male  Yes   1      Graduate   No  8072   240  253  360   1   \n",
       "561  LP002984    Male  Yes   2      Graduate   No  7583     0  187  360   1   \n",
       "562  LP002990  Female   No   0      Graduate  Yes  4583     0  133  360   0   \n",
       "\n",
       "            11 12  \n",
       "0        Urban  Y  \n",
       "1        Rural  N  \n",
       "2        Urban  Y  \n",
       "3        Urban  Y  \n",
       "4        Urban  Y  \n",
       "..         ... ..  \n",
       "558      Rural  Y  \n",
       "559      Rural  Y  \n",
       "560      Urban  Y  \n",
       "561      Urban  Y  \n",
       "562  Semiurban  N  \n",
       "\n",
       "[563 rows x 13 columns]"
      ]
     },
     "execution_count": 7,
     "metadata": {},
     "output_type": "execute_result"
    }
   ],
   "source": [
    "df"
   ]
  },
  {
   "cell_type": "code",
   "execution_count": 8,
   "id": "a61f9f27",
   "metadata": {},
   "outputs": [
    {
     "name": "stdout",
     "output_type": "stream",
     "text": [
      "[('Loan_ID', b'text', 'YES', '', None, ''), ('Gender', b'text', 'YES', '', None, ''), ('Married', b'text', 'YES', '', None, ''), ('Dependents', b'int', 'YES', '', None, ''), ('Education', b'text', 'YES', '', None, ''), ('Self_Employed', b'text', 'YES', '', None, ''), ('ApplicantIncome', b'int', 'YES', '', None, ''), ('CoapplicantIncome', b'int', 'YES', '', None, ''), ('LoanAmount', b'text', 'YES', '', None, ''), ('Loan_Amount_Term', b'int', 'YES', '', None, ''), ('Credit_History', b'int', 'YES', '', None, ''), ('Property_Area', b'text', 'YES', '', None, ''), ('Loan_Status', b'text', 'YES', '', None, '')]\n"
     ]
    }
   ],
   "source": [
    "mycursor.execute('DESCRIBE loan_data.simple_loan_data')\n",
    "result1 = mycursor.fetchall()\n",
    "print(result1)"
   ]
  },
  {
   "cell_type": "code",
   "execution_count": 9,
   "id": "3ff7c8bb",
   "metadata": {},
   "outputs": [
    {
     "name": "stdout",
     "output_type": "stream",
     "text": [
      "['Loan_ID', 'Gender', 'Married', 'Dependents', 'Education', 'Self_Employed', 'ApplicantIncome', 'CoapplicantIncome', 'LoanAmount', 'Loan_Amount_Term', 'Credit_History', 'Property_Area', 'Loan_Status']\n"
     ]
    }
   ],
   "source": [
    "column_list = []\n",
    "for column in result1:\n",
    "    column_list.append(column[0])\n",
    "print(column_list)"
   ]
  },
  {
   "cell_type": "code",
   "execution_count": 12,
   "id": "ada70eb5",
   "metadata": {},
   "outputs": [
    {
     "data": {
      "text/html": [
       "<div>\n",
       "<style scoped>\n",
       "    .dataframe tbody tr th:only-of-type {\n",
       "        vertical-align: middle;\n",
       "    }\n",
       "\n",
       "    .dataframe tbody tr th {\n",
       "        vertical-align: top;\n",
       "    }\n",
       "\n",
       "    .dataframe thead th {\n",
       "        text-align: right;\n",
       "    }\n",
       "</style>\n",
       "<table border=\"1\" class=\"dataframe\">\n",
       "  <thead>\n",
       "    <tr style=\"text-align: right;\">\n",
       "      <th></th>\n",
       "      <th>Loan_ID</th>\n",
       "      <th>Gender</th>\n",
       "      <th>Married</th>\n",
       "      <th>Dependents</th>\n",
       "      <th>Education</th>\n",
       "      <th>Self_Employed</th>\n",
       "      <th>ApplicantIncome</th>\n",
       "      <th>CoapplicantIncome</th>\n",
       "      <th>LoanAmount</th>\n",
       "      <th>Loan_Amount_Term</th>\n",
       "      <th>Credit_History</th>\n",
       "      <th>Property_Area</th>\n",
       "      <th>Loan_Status</th>\n",
       "    </tr>\n",
       "  </thead>\n",
       "  <tbody>\n",
       "    <tr>\n",
       "      <th>0</th>\n",
       "      <td>LP001002</td>\n",
       "      <td>Male</td>\n",
       "      <td>No</td>\n",
       "      <td>0</td>\n",
       "      <td>Graduate</td>\n",
       "      <td>No</td>\n",
       "      <td>5849</td>\n",
       "      <td>0</td>\n",
       "      <td></td>\n",
       "      <td>360</td>\n",
       "      <td>1</td>\n",
       "      <td>Urban</td>\n",
       "      <td>Y</td>\n",
       "    </tr>\n",
       "    <tr>\n",
       "      <th>1</th>\n",
       "      <td>LP001003</td>\n",
       "      <td>Male</td>\n",
       "      <td>Yes</td>\n",
       "      <td>1</td>\n",
       "      <td>Graduate</td>\n",
       "      <td>No</td>\n",
       "      <td>4583</td>\n",
       "      <td>1508</td>\n",
       "      <td>128</td>\n",
       "      <td>360</td>\n",
       "      <td>1</td>\n",
       "      <td>Rural</td>\n",
       "      <td>N</td>\n",
       "    </tr>\n",
       "    <tr>\n",
       "      <th>2</th>\n",
       "      <td>LP001005</td>\n",
       "      <td>Male</td>\n",
       "      <td>Yes</td>\n",
       "      <td>0</td>\n",
       "      <td>Graduate</td>\n",
       "      <td>Yes</td>\n",
       "      <td>3000</td>\n",
       "      <td>0</td>\n",
       "      <td>66</td>\n",
       "      <td>360</td>\n",
       "      <td>1</td>\n",
       "      <td>Urban</td>\n",
       "      <td>Y</td>\n",
       "    </tr>\n",
       "    <tr>\n",
       "      <th>3</th>\n",
       "      <td>LP001006</td>\n",
       "      <td>Male</td>\n",
       "      <td>Yes</td>\n",
       "      <td>0</td>\n",
       "      <td>Not Graduate</td>\n",
       "      <td>No</td>\n",
       "      <td>2583</td>\n",
       "      <td>2358</td>\n",
       "      <td>120</td>\n",
       "      <td>360</td>\n",
       "      <td>1</td>\n",
       "      <td>Urban</td>\n",
       "      <td>Y</td>\n",
       "    </tr>\n",
       "    <tr>\n",
       "      <th>4</th>\n",
       "      <td>LP001008</td>\n",
       "      <td>Male</td>\n",
       "      <td>No</td>\n",
       "      <td>0</td>\n",
       "      <td>Graduate</td>\n",
       "      <td>No</td>\n",
       "      <td>6000</td>\n",
       "      <td>0</td>\n",
       "      <td>141</td>\n",
       "      <td>360</td>\n",
       "      <td>1</td>\n",
       "      <td>Urban</td>\n",
       "      <td>Y</td>\n",
       "    </tr>\n",
       "    <tr>\n",
       "      <th>...</th>\n",
       "      <td>...</td>\n",
       "      <td>...</td>\n",
       "      <td>...</td>\n",
       "      <td>...</td>\n",
       "      <td>...</td>\n",
       "      <td>...</td>\n",
       "      <td>...</td>\n",
       "      <td>...</td>\n",
       "      <td>...</td>\n",
       "      <td>...</td>\n",
       "      <td>...</td>\n",
       "      <td>...</td>\n",
       "      <td>...</td>\n",
       "    </tr>\n",
       "    <tr>\n",
       "      <th>558</th>\n",
       "      <td>LP002974</td>\n",
       "      <td>Male</td>\n",
       "      <td>Yes</td>\n",
       "      <td>0</td>\n",
       "      <td>Graduate</td>\n",
       "      <td>No</td>\n",
       "      <td>3232</td>\n",
       "      <td>1950</td>\n",
       "      <td>108</td>\n",
       "      <td>360</td>\n",
       "      <td>1</td>\n",
       "      <td>Rural</td>\n",
       "      <td>Y</td>\n",
       "    </tr>\n",
       "    <tr>\n",
       "      <th>559</th>\n",
       "      <td>LP002978</td>\n",
       "      <td>Female</td>\n",
       "      <td>No</td>\n",
       "      <td>0</td>\n",
       "      <td>Graduate</td>\n",
       "      <td>No</td>\n",
       "      <td>2900</td>\n",
       "      <td>0</td>\n",
       "      <td>71</td>\n",
       "      <td>360</td>\n",
       "      <td>1</td>\n",
       "      <td>Rural</td>\n",
       "      <td>Y</td>\n",
       "    </tr>\n",
       "    <tr>\n",
       "      <th>560</th>\n",
       "      <td>LP002983</td>\n",
       "      <td>Male</td>\n",
       "      <td>Yes</td>\n",
       "      <td>1</td>\n",
       "      <td>Graduate</td>\n",
       "      <td>No</td>\n",
       "      <td>8072</td>\n",
       "      <td>240</td>\n",
       "      <td>253</td>\n",
       "      <td>360</td>\n",
       "      <td>1</td>\n",
       "      <td>Urban</td>\n",
       "      <td>Y</td>\n",
       "    </tr>\n",
       "    <tr>\n",
       "      <th>561</th>\n",
       "      <td>LP002984</td>\n",
       "      <td>Male</td>\n",
       "      <td>Yes</td>\n",
       "      <td>2</td>\n",
       "      <td>Graduate</td>\n",
       "      <td>No</td>\n",
       "      <td>7583</td>\n",
       "      <td>0</td>\n",
       "      <td>187</td>\n",
       "      <td>360</td>\n",
       "      <td>1</td>\n",
       "      <td>Urban</td>\n",
       "      <td>Y</td>\n",
       "    </tr>\n",
       "    <tr>\n",
       "      <th>562</th>\n",
       "      <td>LP002990</td>\n",
       "      <td>Female</td>\n",
       "      <td>No</td>\n",
       "      <td>0</td>\n",
       "      <td>Graduate</td>\n",
       "      <td>Yes</td>\n",
       "      <td>4583</td>\n",
       "      <td>0</td>\n",
       "      <td>133</td>\n",
       "      <td>360</td>\n",
       "      <td>0</td>\n",
       "      <td>Semiurban</td>\n",
       "      <td>N</td>\n",
       "    </tr>\n",
       "  </tbody>\n",
       "</table>\n",
       "<p>563 rows × 13 columns</p>\n",
       "</div>"
      ],
      "text/plain": [
       "      Loan_ID  Gender Married  Dependents     Education Self_Employed  \\\n",
       "0    LP001002    Male      No           0      Graduate            No   \n",
       "1    LP001003    Male     Yes           1      Graduate            No   \n",
       "2    LP001005    Male     Yes           0      Graduate           Yes   \n",
       "3    LP001006    Male     Yes           0  Not Graduate            No   \n",
       "4    LP001008    Male      No           0      Graduate            No   \n",
       "..        ...     ...     ...         ...           ...           ...   \n",
       "558  LP002974    Male     Yes           0      Graduate            No   \n",
       "559  LP002978  Female      No           0      Graduate            No   \n",
       "560  LP002983    Male     Yes           1      Graduate            No   \n",
       "561  LP002984    Male     Yes           2      Graduate            No   \n",
       "562  LP002990  Female      No           0      Graduate           Yes   \n",
       "\n",
       "     ApplicantIncome  CoapplicantIncome LoanAmount  Loan_Amount_Term  \\\n",
       "0               5849                  0                          360   \n",
       "1               4583               1508        128               360   \n",
       "2               3000                  0         66               360   \n",
       "3               2583               2358        120               360   \n",
       "4               6000                  0        141               360   \n",
       "..               ...                ...        ...               ...   \n",
       "558             3232               1950        108               360   \n",
       "559             2900                  0         71               360   \n",
       "560             8072                240        253               360   \n",
       "561             7583                  0        187               360   \n",
       "562             4583                  0        133               360   \n",
       "\n",
       "     Credit_History Property_Area Loan_Status  \n",
       "0                 1         Urban           Y  \n",
       "1                 1         Rural           N  \n",
       "2                 1         Urban           Y  \n",
       "3                 1         Urban           Y  \n",
       "4                 1         Urban           Y  \n",
       "..              ...           ...         ...  \n",
       "558               1         Rural           Y  \n",
       "559               1         Rural           Y  \n",
       "560               1         Urban           Y  \n",
       "561               1         Urban           Y  \n",
       "562               0     Semiurban           N  \n",
       "\n",
       "[563 rows x 13 columns]"
      ]
     },
     "execution_count": 12,
     "metadata": {},
     "output_type": "execute_result"
    }
   ],
   "source": [
    "df = pd.DataFrame(result,columns=column_list)\n",
    "df"
   ]
  },
  {
   "cell_type": "raw",
   "id": "d5cf1551",
   "metadata": {},
   "source": [
    "data ;\n",
    "1. csv file \n",
    "2. excel file\n",
    "3. client server / database\n",
    "4. company database\n",
    "5. Web scrapping  \n",
    "6. can vary \n",
    "\n",
    "Data was not in good format\n"
   ]
  },
  {
   "cell_type": "code",
   "execution_count": null,
   "id": "5eec20de",
   "metadata": {},
   "outputs": [],
   "source": []
  },
  {
   "cell_type": "code",
   "execution_count": 37,
   "id": "87f9db7c",
   "metadata": {},
   "outputs": [
    {
     "data": {
      "text/html": [
       "<div>\n",
       "<style scoped>\n",
       "    .dataframe tbody tr th:only-of-type {\n",
       "        vertical-align: middle;\n",
       "    }\n",
       "\n",
       "    .dataframe tbody tr th {\n",
       "        vertical-align: top;\n",
       "    }\n",
       "\n",
       "    .dataframe thead th {\n",
       "        text-align: right;\n",
       "    }\n",
       "</style>\n",
       "<table border=\"1\" class=\"dataframe\">\n",
       "  <thead>\n",
       "    <tr style=\"text-align: right;\">\n",
       "      <th></th>\n",
       "      <th>Loan_ID</th>\n",
       "      <th>Gender</th>\n",
       "      <th>Married</th>\n",
       "      <th>Dependents</th>\n",
       "      <th>Education</th>\n",
       "      <th>Self_Employed</th>\n",
       "      <th>ApplicantIncome</th>\n",
       "      <th>CoapplicantIncome</th>\n",
       "      <th>LoanAmount</th>\n",
       "      <th>Loan_Amount_Term</th>\n",
       "      <th>Credit_History</th>\n",
       "      <th>Property_Area</th>\n",
       "      <th>Loan_Status</th>\n",
       "    </tr>\n",
       "  </thead>\n",
       "  <tbody>\n",
       "    <tr>\n",
       "      <th>0</th>\n",
       "      <td>LP001002</td>\n",
       "      <td>Male</td>\n",
       "      <td>No</td>\n",
       "      <td>0</td>\n",
       "      <td>Graduate</td>\n",
       "      <td>No</td>\n",
       "      <td>5849</td>\n",
       "      <td>0.0</td>\n",
       "      <td>NaN</td>\n",
       "      <td>360.0</td>\n",
       "      <td>1.0</td>\n",
       "      <td>Urban</td>\n",
       "      <td>Y</td>\n",
       "    </tr>\n",
       "    <tr>\n",
       "      <th>1</th>\n",
       "      <td>LP001003</td>\n",
       "      <td>Male</td>\n",
       "      <td>Yes</td>\n",
       "      <td>1</td>\n",
       "      <td>Graduate</td>\n",
       "      <td>No</td>\n",
       "      <td>4583</td>\n",
       "      <td>1508.0</td>\n",
       "      <td>128.0</td>\n",
       "      <td>360.0</td>\n",
       "      <td>1.0</td>\n",
       "      <td>Rural</td>\n",
       "      <td>N</td>\n",
       "    </tr>\n",
       "    <tr>\n",
       "      <th>2</th>\n",
       "      <td>LP001005</td>\n",
       "      <td>Male</td>\n",
       "      <td>Yes</td>\n",
       "      <td>0</td>\n",
       "      <td>Graduate</td>\n",
       "      <td>Yes</td>\n",
       "      <td>3000</td>\n",
       "      <td>0.0</td>\n",
       "      <td>66.0</td>\n",
       "      <td>360.0</td>\n",
       "      <td>1.0</td>\n",
       "      <td>Urban</td>\n",
       "      <td>Y</td>\n",
       "    </tr>\n",
       "    <tr>\n",
       "      <th>3</th>\n",
       "      <td>LP001006</td>\n",
       "      <td>Male</td>\n",
       "      <td>Yes</td>\n",
       "      <td>0</td>\n",
       "      <td>Not Graduate</td>\n",
       "      <td>No</td>\n",
       "      <td>2583</td>\n",
       "      <td>2358.0</td>\n",
       "      <td>120.0</td>\n",
       "      <td>360.0</td>\n",
       "      <td>1.0</td>\n",
       "      <td>Urban</td>\n",
       "      <td>Y</td>\n",
       "    </tr>\n",
       "    <tr>\n",
       "      <th>4</th>\n",
       "      <td>LP001008</td>\n",
       "      <td>Male</td>\n",
       "      <td>No</td>\n",
       "      <td>0</td>\n",
       "      <td>Graduate</td>\n",
       "      <td>No</td>\n",
       "      <td>6000</td>\n",
       "      <td>0.0</td>\n",
       "      <td>141.0</td>\n",
       "      <td>360.0</td>\n",
       "      <td>1.0</td>\n",
       "      <td>Urban</td>\n",
       "      <td>Y</td>\n",
       "    </tr>\n",
       "    <tr>\n",
       "      <th>...</th>\n",
       "      <td>...</td>\n",
       "      <td>...</td>\n",
       "      <td>...</td>\n",
       "      <td>...</td>\n",
       "      <td>...</td>\n",
       "      <td>...</td>\n",
       "      <td>...</td>\n",
       "      <td>...</td>\n",
       "      <td>...</td>\n",
       "      <td>...</td>\n",
       "      <td>...</td>\n",
       "      <td>...</td>\n",
       "      <td>...</td>\n",
       "    </tr>\n",
       "    <tr>\n",
       "      <th>609</th>\n",
       "      <td>LP002978</td>\n",
       "      <td>Female</td>\n",
       "      <td>No</td>\n",
       "      <td>0</td>\n",
       "      <td>Graduate</td>\n",
       "      <td>No</td>\n",
       "      <td>2900</td>\n",
       "      <td>0.0</td>\n",
       "      <td>71.0</td>\n",
       "      <td>360.0</td>\n",
       "      <td>1.0</td>\n",
       "      <td>Rural</td>\n",
       "      <td>Y</td>\n",
       "    </tr>\n",
       "    <tr>\n",
       "      <th>610</th>\n",
       "      <td>LP002979</td>\n",
       "      <td>Male</td>\n",
       "      <td>Yes</td>\n",
       "      <td>3+</td>\n",
       "      <td>Graduate</td>\n",
       "      <td>No</td>\n",
       "      <td>4106</td>\n",
       "      <td>0.0</td>\n",
       "      <td>40.0</td>\n",
       "      <td>180.0</td>\n",
       "      <td>1.0</td>\n",
       "      <td>Rural</td>\n",
       "      <td>Y</td>\n",
       "    </tr>\n",
       "    <tr>\n",
       "      <th>611</th>\n",
       "      <td>LP002983</td>\n",
       "      <td>Male</td>\n",
       "      <td>Yes</td>\n",
       "      <td>1</td>\n",
       "      <td>Graduate</td>\n",
       "      <td>No</td>\n",
       "      <td>8072</td>\n",
       "      <td>240.0</td>\n",
       "      <td>253.0</td>\n",
       "      <td>360.0</td>\n",
       "      <td>1.0</td>\n",
       "      <td>Urban</td>\n",
       "      <td>Y</td>\n",
       "    </tr>\n",
       "    <tr>\n",
       "      <th>612</th>\n",
       "      <td>LP002984</td>\n",
       "      <td>Male</td>\n",
       "      <td>Yes</td>\n",
       "      <td>2</td>\n",
       "      <td>Graduate</td>\n",
       "      <td>No</td>\n",
       "      <td>7583</td>\n",
       "      <td>0.0</td>\n",
       "      <td>187.0</td>\n",
       "      <td>360.0</td>\n",
       "      <td>1.0</td>\n",
       "      <td>Urban</td>\n",
       "      <td>Y</td>\n",
       "    </tr>\n",
       "    <tr>\n",
       "      <th>613</th>\n",
       "      <td>LP002990</td>\n",
       "      <td>Female</td>\n",
       "      <td>No</td>\n",
       "      <td>0</td>\n",
       "      <td>Graduate</td>\n",
       "      <td>Yes</td>\n",
       "      <td>4583</td>\n",
       "      <td>0.0</td>\n",
       "      <td>133.0</td>\n",
       "      <td>360.0</td>\n",
       "      <td>0.0</td>\n",
       "      <td>Semiurban</td>\n",
       "      <td>N</td>\n",
       "    </tr>\n",
       "  </tbody>\n",
       "</table>\n",
       "<p>614 rows × 13 columns</p>\n",
       "</div>"
      ],
      "text/plain": [
       "      Loan_ID  Gender Married Dependents     Education Self_Employed  \\\n",
       "0    LP001002    Male      No          0      Graduate            No   \n",
       "1    LP001003    Male     Yes          1      Graduate            No   \n",
       "2    LP001005    Male     Yes          0      Graduate           Yes   \n",
       "3    LP001006    Male     Yes          0  Not Graduate            No   \n",
       "4    LP001008    Male      No          0      Graduate            No   \n",
       "..        ...     ...     ...        ...           ...           ...   \n",
       "609  LP002978  Female      No          0      Graduate            No   \n",
       "610  LP002979    Male     Yes         3+      Graduate            No   \n",
       "611  LP002983    Male     Yes          1      Graduate            No   \n",
       "612  LP002984    Male     Yes          2      Graduate            No   \n",
       "613  LP002990  Female      No          0      Graduate           Yes   \n",
       "\n",
       "     ApplicantIncome  CoapplicantIncome  LoanAmount  Loan_Amount_Term  \\\n",
       "0               5849                0.0         NaN             360.0   \n",
       "1               4583             1508.0       128.0             360.0   \n",
       "2               3000                0.0        66.0             360.0   \n",
       "3               2583             2358.0       120.0             360.0   \n",
       "4               6000                0.0       141.0             360.0   \n",
       "..               ...                ...         ...               ...   \n",
       "609             2900                0.0        71.0             360.0   \n",
       "610             4106                0.0        40.0             180.0   \n",
       "611             8072              240.0       253.0             360.0   \n",
       "612             7583                0.0       187.0             360.0   \n",
       "613             4583                0.0       133.0             360.0   \n",
       "\n",
       "     Credit_History Property_Area Loan_Status  \n",
       "0               1.0         Urban           Y  \n",
       "1               1.0         Rural           N  \n",
       "2               1.0         Urban           Y  \n",
       "3               1.0         Urban           Y  \n",
       "4               1.0         Urban           Y  \n",
       "..              ...           ...         ...  \n",
       "609             1.0         Rural           Y  \n",
       "610             1.0         Rural           Y  \n",
       "611             1.0         Urban           Y  \n",
       "612             1.0         Urban           Y  \n",
       "613             0.0     Semiurban           N  \n",
       "\n",
       "[614 rows x 13 columns]"
      ]
     },
     "execution_count": 37,
     "metadata": {},
     "output_type": "execute_result"
    }
   ],
   "source": [
    "df = pd.read_csv('simple_loan_data.csv')\n",
    "df"
   ]
  },
  {
   "cell_type": "code",
   "execution_count": 38,
   "id": "8e751fbb",
   "metadata": {},
   "outputs": [],
   "source": [
    "# df.dropna(inplace=True)"
   ]
  },
  {
   "cell_type": "code",
   "execution_count": 39,
   "id": "3ae549d9",
   "metadata": {},
   "outputs": [
    {
     "data": {
      "text/plain": [
       "Loan_ID               0\n",
       "Gender               13\n",
       "Married               3\n",
       "Dependents           15\n",
       "Education             0\n",
       "Self_Employed        32\n",
       "ApplicantIncome       0\n",
       "CoapplicantIncome     0\n",
       "LoanAmount           22\n",
       "Loan_Amount_Term     14\n",
       "Credit_History       50\n",
       "Property_Area         0\n",
       "Loan_Status           0\n",
       "dtype: int64"
      ]
     },
     "execution_count": 39,
     "metadata": {},
     "output_type": "execute_result"
    }
   ],
   "source": [
    "df.isna().sum()"
   ]
  },
  {
   "cell_type": "code",
   "execution_count": 40,
   "id": "baf429d4",
   "metadata": {},
   "outputs": [
    {
     "data": {
      "text/plain": [
       "Loan_ID              0.000000\n",
       "Gender               2.117264\n",
       "Married              0.488599\n",
       "Dependents           2.442997\n",
       "Education            0.000000\n",
       "Self_Employed        5.211726\n",
       "ApplicantIncome      0.000000\n",
       "CoapplicantIncome    0.000000\n",
       "LoanAmount           3.583062\n",
       "Loan_Amount_Term     2.280130\n",
       "Credit_History       8.143322\n",
       "Property_Area        0.000000\n",
       "Loan_Status          0.000000\n",
       "dtype: float64"
      ]
     },
     "execution_count": 40,
     "metadata": {},
     "output_type": "execute_result"
    }
   ],
   "source": [
    "percentage_missing = df.isna().sum()*100/len(df)\n",
    "percentage_missing"
   ]
  },
  {
   "cell_type": "code",
   "execution_count": 41,
   "id": "ad34dc68",
   "metadata": {},
   "outputs": [
    {
     "data": {
      "text/html": [
       "<div>\n",
       "<style scoped>\n",
       "    .dataframe tbody tr th:only-of-type {\n",
       "        vertical-align: middle;\n",
       "    }\n",
       "\n",
       "    .dataframe tbody tr th {\n",
       "        vertical-align: top;\n",
       "    }\n",
       "\n",
       "    .dataframe thead th {\n",
       "        text-align: right;\n",
       "    }\n",
       "</style>\n",
       "<table border=\"1\" class=\"dataframe\">\n",
       "  <thead>\n",
       "    <tr style=\"text-align: right;\">\n",
       "      <th></th>\n",
       "      <th>column_name</th>\n",
       "      <th>percentage_missing</th>\n",
       "      <th>No_missing_values</th>\n",
       "    </tr>\n",
       "  </thead>\n",
       "  <tbody>\n",
       "    <tr>\n",
       "      <th>Loan_ID</th>\n",
       "      <td>Loan_ID</td>\n",
       "      <td>0.000000</td>\n",
       "      <td>0</td>\n",
       "    </tr>\n",
       "    <tr>\n",
       "      <th>Gender</th>\n",
       "      <td>Gender</td>\n",
       "      <td>2.117264</td>\n",
       "      <td>13</td>\n",
       "    </tr>\n",
       "    <tr>\n",
       "      <th>Married</th>\n",
       "      <td>Married</td>\n",
       "      <td>0.488599</td>\n",
       "      <td>3</td>\n",
       "    </tr>\n",
       "    <tr>\n",
       "      <th>Dependents</th>\n",
       "      <td>Dependents</td>\n",
       "      <td>2.442997</td>\n",
       "      <td>15</td>\n",
       "    </tr>\n",
       "    <tr>\n",
       "      <th>Education</th>\n",
       "      <td>Education</td>\n",
       "      <td>0.000000</td>\n",
       "      <td>0</td>\n",
       "    </tr>\n",
       "    <tr>\n",
       "      <th>Self_Employed</th>\n",
       "      <td>Self_Employed</td>\n",
       "      <td>5.211726</td>\n",
       "      <td>32</td>\n",
       "    </tr>\n",
       "    <tr>\n",
       "      <th>ApplicantIncome</th>\n",
       "      <td>ApplicantIncome</td>\n",
       "      <td>0.000000</td>\n",
       "      <td>0</td>\n",
       "    </tr>\n",
       "    <tr>\n",
       "      <th>CoapplicantIncome</th>\n",
       "      <td>CoapplicantIncome</td>\n",
       "      <td>0.000000</td>\n",
       "      <td>0</td>\n",
       "    </tr>\n",
       "    <tr>\n",
       "      <th>LoanAmount</th>\n",
       "      <td>LoanAmount</td>\n",
       "      <td>3.583062</td>\n",
       "      <td>22</td>\n",
       "    </tr>\n",
       "    <tr>\n",
       "      <th>Loan_Amount_Term</th>\n",
       "      <td>Loan_Amount_Term</td>\n",
       "      <td>2.280130</td>\n",
       "      <td>14</td>\n",
       "    </tr>\n",
       "    <tr>\n",
       "      <th>Credit_History</th>\n",
       "      <td>Credit_History</td>\n",
       "      <td>8.143322</td>\n",
       "      <td>50</td>\n",
       "    </tr>\n",
       "    <tr>\n",
       "      <th>Property_Area</th>\n",
       "      <td>Property_Area</td>\n",
       "      <td>0.000000</td>\n",
       "      <td>0</td>\n",
       "    </tr>\n",
       "    <tr>\n",
       "      <th>Loan_Status</th>\n",
       "      <td>Loan_Status</td>\n",
       "      <td>0.000000</td>\n",
       "      <td>0</td>\n",
       "    </tr>\n",
       "  </tbody>\n",
       "</table>\n",
       "</div>"
      ],
      "text/plain": [
       "                         column_name  percentage_missing  No_missing_values\n",
       "Loan_ID                      Loan_ID            0.000000                  0\n",
       "Gender                        Gender            2.117264                 13\n",
       "Married                      Married            0.488599                  3\n",
       "Dependents                Dependents            2.442997                 15\n",
       "Education                  Education            0.000000                  0\n",
       "Self_Employed          Self_Employed            5.211726                 32\n",
       "ApplicantIncome      ApplicantIncome            0.000000                  0\n",
       "CoapplicantIncome  CoapplicantIncome            0.000000                  0\n",
       "LoanAmount                LoanAmount            3.583062                 22\n",
       "Loan_Amount_Term    Loan_Amount_Term            2.280130                 14\n",
       "Credit_History        Credit_History            8.143322                 50\n",
       "Property_Area          Property_Area            0.000000                  0\n",
       "Loan_Status              Loan_Status            0.000000                  0"
      ]
     },
     "execution_count": 41,
     "metadata": {},
     "output_type": "execute_result"
    }
   ],
   "source": [
    "missing_values_df = pd.DataFrame({'column_name':df.columns,\n",
    "                                 'percentage_missing':percentage_missing,\n",
    "                                 'No_missing_values':df.isna().sum()})\n",
    "\n",
    "missing_values_df"
   ]
  },
  {
   "cell_type": "code",
   "execution_count": 42,
   "id": "11fe9ed5",
   "metadata": {},
   "outputs": [
    {
     "data": {
      "text/html": [
       "<div>\n",
       "<style scoped>\n",
       "    .dataframe tbody tr th:only-of-type {\n",
       "        vertical-align: middle;\n",
       "    }\n",
       "\n",
       "    .dataframe tbody tr th {\n",
       "        vertical-align: top;\n",
       "    }\n",
       "\n",
       "    .dataframe thead th {\n",
       "        text-align: right;\n",
       "    }\n",
       "</style>\n",
       "<table border=\"1\" class=\"dataframe\">\n",
       "  <thead>\n",
       "    <tr style=\"text-align: right;\">\n",
       "      <th></th>\n",
       "      <th>column_name</th>\n",
       "      <th>percentage_missing</th>\n",
       "      <th>No_missing_values</th>\n",
       "    </tr>\n",
       "  </thead>\n",
       "  <tbody>\n",
       "    <tr>\n",
       "      <th>Loan_ID</th>\n",
       "      <td>Loan_ID</td>\n",
       "      <td>0.000000</td>\n",
       "      <td>0</td>\n",
       "    </tr>\n",
       "    <tr>\n",
       "      <th>Education</th>\n",
       "      <td>Education</td>\n",
       "      <td>0.000000</td>\n",
       "      <td>0</td>\n",
       "    </tr>\n",
       "    <tr>\n",
       "      <th>ApplicantIncome</th>\n",
       "      <td>ApplicantIncome</td>\n",
       "      <td>0.000000</td>\n",
       "      <td>0</td>\n",
       "    </tr>\n",
       "    <tr>\n",
       "      <th>CoapplicantIncome</th>\n",
       "      <td>CoapplicantIncome</td>\n",
       "      <td>0.000000</td>\n",
       "      <td>0</td>\n",
       "    </tr>\n",
       "    <tr>\n",
       "      <th>Property_Area</th>\n",
       "      <td>Property_Area</td>\n",
       "      <td>0.000000</td>\n",
       "      <td>0</td>\n",
       "    </tr>\n",
       "    <tr>\n",
       "      <th>Loan_Status</th>\n",
       "      <td>Loan_Status</td>\n",
       "      <td>0.000000</td>\n",
       "      <td>0</td>\n",
       "    </tr>\n",
       "    <tr>\n",
       "      <th>Married</th>\n",
       "      <td>Married</td>\n",
       "      <td>0.488599</td>\n",
       "      <td>3</td>\n",
       "    </tr>\n",
       "    <tr>\n",
       "      <th>Gender</th>\n",
       "      <td>Gender</td>\n",
       "      <td>2.117264</td>\n",
       "      <td>13</td>\n",
       "    </tr>\n",
       "    <tr>\n",
       "      <th>Loan_Amount_Term</th>\n",
       "      <td>Loan_Amount_Term</td>\n",
       "      <td>2.280130</td>\n",
       "      <td>14</td>\n",
       "    </tr>\n",
       "    <tr>\n",
       "      <th>Dependents</th>\n",
       "      <td>Dependents</td>\n",
       "      <td>2.442997</td>\n",
       "      <td>15</td>\n",
       "    </tr>\n",
       "    <tr>\n",
       "      <th>LoanAmount</th>\n",
       "      <td>LoanAmount</td>\n",
       "      <td>3.583062</td>\n",
       "      <td>22</td>\n",
       "    </tr>\n",
       "    <tr>\n",
       "      <th>Self_Employed</th>\n",
       "      <td>Self_Employed</td>\n",
       "      <td>5.211726</td>\n",
       "      <td>32</td>\n",
       "    </tr>\n",
       "    <tr>\n",
       "      <th>Credit_History</th>\n",
       "      <td>Credit_History</td>\n",
       "      <td>8.143322</td>\n",
       "      <td>50</td>\n",
       "    </tr>\n",
       "  </tbody>\n",
       "</table>\n",
       "</div>"
      ],
      "text/plain": [
       "                         column_name  percentage_missing  No_missing_values\n",
       "Loan_ID                      Loan_ID            0.000000                  0\n",
       "Education                  Education            0.000000                  0\n",
       "ApplicantIncome      ApplicantIncome            0.000000                  0\n",
       "CoapplicantIncome  CoapplicantIncome            0.000000                  0\n",
       "Property_Area          Property_Area            0.000000                  0\n",
       "Loan_Status              Loan_Status            0.000000                  0\n",
       "Married                      Married            0.488599                  3\n",
       "Gender                        Gender            2.117264                 13\n",
       "Loan_Amount_Term    Loan_Amount_Term            2.280130                 14\n",
       "Dependents                Dependents            2.442997                 15\n",
       "LoanAmount                LoanAmount            3.583062                 22\n",
       "Self_Employed          Self_Employed            5.211726                 32\n",
       "Credit_History        Credit_History            8.143322                 50"
      ]
     },
     "execution_count": 42,
     "metadata": {},
     "output_type": "execute_result"
    }
   ],
   "source": [
    "missing_values_df.sort_values(by ='percentage_missing' )"
   ]
  },
  {
   "cell_type": "code",
   "execution_count": 43,
   "id": "dc13d7f5",
   "metadata": {},
   "outputs": [
    {
     "data": {
      "text/html": [
       "<div>\n",
       "<style scoped>\n",
       "    .dataframe tbody tr th:only-of-type {\n",
       "        vertical-align: middle;\n",
       "    }\n",
       "\n",
       "    .dataframe tbody tr th {\n",
       "        vertical-align: top;\n",
       "    }\n",
       "\n",
       "    .dataframe thead th {\n",
       "        text-align: right;\n",
       "    }\n",
       "</style>\n",
       "<table border=\"1\" class=\"dataframe\">\n",
       "  <thead>\n",
       "    <tr style=\"text-align: right;\">\n",
       "      <th></th>\n",
       "      <th>column_name</th>\n",
       "      <th>percentage_missing</th>\n",
       "      <th>No_missing_values</th>\n",
       "    </tr>\n",
       "  </thead>\n",
       "  <tbody>\n",
       "    <tr>\n",
       "      <th>Credit_History</th>\n",
       "      <td>Credit_History</td>\n",
       "      <td>8.143322</td>\n",
       "      <td>50</td>\n",
       "    </tr>\n",
       "    <tr>\n",
       "      <th>Self_Employed</th>\n",
       "      <td>Self_Employed</td>\n",
       "      <td>5.211726</td>\n",
       "      <td>32</td>\n",
       "    </tr>\n",
       "    <tr>\n",
       "      <th>LoanAmount</th>\n",
       "      <td>LoanAmount</td>\n",
       "      <td>3.583062</td>\n",
       "      <td>22</td>\n",
       "    </tr>\n",
       "    <tr>\n",
       "      <th>Dependents</th>\n",
       "      <td>Dependents</td>\n",
       "      <td>2.442997</td>\n",
       "      <td>15</td>\n",
       "    </tr>\n",
       "    <tr>\n",
       "      <th>Loan_Amount_Term</th>\n",
       "      <td>Loan_Amount_Term</td>\n",
       "      <td>2.280130</td>\n",
       "      <td>14</td>\n",
       "    </tr>\n",
       "    <tr>\n",
       "      <th>Gender</th>\n",
       "      <td>Gender</td>\n",
       "      <td>2.117264</td>\n",
       "      <td>13</td>\n",
       "    </tr>\n",
       "    <tr>\n",
       "      <th>Married</th>\n",
       "      <td>Married</td>\n",
       "      <td>0.488599</td>\n",
       "      <td>3</td>\n",
       "    </tr>\n",
       "    <tr>\n",
       "      <th>Loan_ID</th>\n",
       "      <td>Loan_ID</td>\n",
       "      <td>0.000000</td>\n",
       "      <td>0</td>\n",
       "    </tr>\n",
       "    <tr>\n",
       "      <th>Education</th>\n",
       "      <td>Education</td>\n",
       "      <td>0.000000</td>\n",
       "      <td>0</td>\n",
       "    </tr>\n",
       "    <tr>\n",
       "      <th>ApplicantIncome</th>\n",
       "      <td>ApplicantIncome</td>\n",
       "      <td>0.000000</td>\n",
       "      <td>0</td>\n",
       "    </tr>\n",
       "    <tr>\n",
       "      <th>CoapplicantIncome</th>\n",
       "      <td>CoapplicantIncome</td>\n",
       "      <td>0.000000</td>\n",
       "      <td>0</td>\n",
       "    </tr>\n",
       "    <tr>\n",
       "      <th>Property_Area</th>\n",
       "      <td>Property_Area</td>\n",
       "      <td>0.000000</td>\n",
       "      <td>0</td>\n",
       "    </tr>\n",
       "    <tr>\n",
       "      <th>Loan_Status</th>\n",
       "      <td>Loan_Status</td>\n",
       "      <td>0.000000</td>\n",
       "      <td>0</td>\n",
       "    </tr>\n",
       "  </tbody>\n",
       "</table>\n",
       "</div>"
      ],
      "text/plain": [
       "                         column_name  percentage_missing  No_missing_values\n",
       "Credit_History        Credit_History            8.143322                 50\n",
       "Self_Employed          Self_Employed            5.211726                 32\n",
       "LoanAmount                LoanAmount            3.583062                 22\n",
       "Dependents                Dependents            2.442997                 15\n",
       "Loan_Amount_Term    Loan_Amount_Term            2.280130                 14\n",
       "Gender                        Gender            2.117264                 13\n",
       "Married                      Married            0.488599                  3\n",
       "Loan_ID                      Loan_ID            0.000000                  0\n",
       "Education                  Education            0.000000                  0\n",
       "ApplicantIncome      ApplicantIncome            0.000000                  0\n",
       "CoapplicantIncome  CoapplicantIncome            0.000000                  0\n",
       "Property_Area          Property_Area            0.000000                  0\n",
       "Loan_Status              Loan_Status            0.000000                  0"
      ]
     },
     "execution_count": 43,
     "metadata": {},
     "output_type": "execute_result"
    }
   ],
   "source": [
    "missing_values_df.sort_values(by ='percentage_missing' ,ascending=False)"
   ]
  },
  {
   "cell_type": "code",
   "execution_count": null,
   "id": "605ee0f1",
   "metadata": {},
   "outputs": [],
   "source": []
  },
  {
   "cell_type": "code",
   "execution_count": 9,
   "id": "02c75e5e",
   "metadata": {},
   "outputs": [
    {
     "data": {
      "text/plain": [
       "<AxesSubplot:>"
      ]
     },
     "execution_count": 9,
     "metadata": {},
     "output_type": "execute_result"
    },
    {
     "data": {
      "image/png": "[encoded data removed]",
      "text/plain": [
       "<Figure size 432x288 with 2 Axes>"
      ]
     },
     "metadata": {
      "needs_background": "light"
     },
     "output_type": "display_data"
    }
   ],
   "source": [
    "sns.heatmap(df.isna())"
   ]
  },
  {
   "cell_type": "code",
   "execution_count": 10,
   "id": "721914b5",
   "metadata": {},
   "outputs": [
    {
     "name": "stdout",
     "output_type": "stream",
     "text": [
      "Value_counts of GENDER :\n",
      "Male      489\n",
      "Female    112\n",
      "Name: Gender, dtype: int64\n",
      "\n",
      "Value_counts of MARRIED :\n",
      "Yes    398\n",
      "No     213\n",
      "Name: Married, dtype: int64\n",
      "\n",
      "Value_counts of DEPENDENTS :\n",
      "0     345\n",
      "1     102\n",
      "2     101\n",
      "3+     51\n",
      "Name: Dependents, dtype: int64\n",
      "\n",
      "Value_counts of EDUCATION :\n",
      "Graduate        480\n",
      "Not Graduate    134\n",
      "Name: Education, dtype: int64\n",
      "\n",
      "Value_counts of SELF_EMPLOYED :\n",
      "No     500\n",
      "Yes     82\n",
      "Name: Self_Employed, dtype: int64\n",
      "\n",
      "Value_counts of LOAN_AMOUNT_TERM :\n",
      "360.0    512\n",
      "180.0     44\n",
      "480.0     15\n",
      "300.0     13\n",
      "240.0      4\n",
      "84.0       4\n",
      "120.0      3\n",
      "60.0       2\n",
      "36.0       2\n",
      "12.0       1\n",
      "Name: Loan_Amount_Term, dtype: int64\n",
      "\n",
      "Value_counts of CREDIT_HISTORY :\n",
      "1.0    475\n",
      "0.0     89\n",
      "Name: Credit_History, dtype: int64\n",
      "\n"
     ]
    }
   ],
   "source": [
    "categorical_cols = ['Gender','Married','Dependents','Education','Self_Employed','Loan_Amount_Term','Credit_History']\n",
    "for col in categorical_cols:\n",
    "    print(f'Value_counts of {col.upper()} :')\n",
    "    print(df[col].value_counts())\n",
    "    print()\n",
    "    "
   ]
  },
  {
   "cell_type": "code",
   "execution_count": 11,
   "id": "21bc5c19",
   "metadata": {},
   "outputs": [
    {
     "data": {
      "text/plain": [
       "Index(['Loan_ID', 'Gender', 'Married', 'Dependents', 'Education',\n",
       "       'Self_Employed', 'ApplicantIncome', 'CoapplicantIncome', 'LoanAmount',\n",
       "       'Loan_Amount_Term', 'Credit_History', 'Property_Area', 'Loan_Status'],\n",
       "      dtype='object')"
      ]
     },
     "execution_count": 11,
     "metadata": {},
     "output_type": "execute_result"
    }
   ],
   "source": [
    "df.columns"
   ]
  },
  {
   "cell_type": "markdown",
   "id": "c1299a39",
   "metadata": {},
   "source": [
    "## Handling_null_values"
   ]
  },
  {
   "cell_type": "code",
   "execution_count": 44,
   "id": "ad39491b",
   "metadata": {},
   "outputs": [
    {
     "data": {
      "text/plain": [
       "'Male'"
      ]
     },
     "execution_count": 44,
     "metadata": {},
     "output_type": "execute_result"
    }
   ],
   "source": [
    "df['Gender'].mode()[0]"
   ]
  },
  {
   "cell_type": "code",
   "execution_count": 45,
   "id": "4e0f9631",
   "metadata": {},
   "outputs": [],
   "source": [
    "df['Gender'].fillna(df['Gender'].mode()[0],inplace=True)"
   ]
  },
  {
   "cell_type": "code",
   "execution_count": 46,
   "id": "3e41b535",
   "metadata": {},
   "outputs": [
    {
     "data": {
      "text/plain": [
       "Loan_ID               0\n",
       "Gender                0\n",
       "Married               3\n",
       "Dependents           15\n",
       "Education             0\n",
       "Self_Employed        32\n",
       "ApplicantIncome       0\n",
       "CoapplicantIncome     0\n",
       "LoanAmount           22\n",
       "Loan_Amount_Term     14\n",
       "Credit_History       50\n",
       "Property_Area         0\n",
       "Loan_Status           0\n",
       "dtype: int64"
      ]
     },
     "execution_count": 46,
     "metadata": {},
     "output_type": "execute_result"
    }
   ],
   "source": [
    "df.isna().sum()"
   ]
  },
  {
   "cell_type": "code",
   "execution_count": 47,
   "id": "96c23261",
   "metadata": {},
   "outputs": [
    {
     "data": {
      "text/plain": [
       "'Yes'"
      ]
     },
     "execution_count": 47,
     "metadata": {},
     "output_type": "execute_result"
    }
   ],
   "source": [
    "df['Married'].mode()[0]"
   ]
  },
  {
   "cell_type": "code",
   "execution_count": 48,
   "id": "cdb3025e",
   "metadata": {},
   "outputs": [],
   "source": [
    "df['Married'].fillna(df['Married'].mode()[0],inplace=True)"
   ]
  },
  {
   "cell_type": "code",
   "execution_count": 49,
   "id": "e65a304a",
   "metadata": {},
   "outputs": [
    {
     "data": {
      "text/plain": [
       "'0'"
      ]
     },
     "execution_count": 49,
     "metadata": {},
     "output_type": "execute_result"
    }
   ],
   "source": [
    "df['Dependents'].mode()[0]"
   ]
  },
  {
   "cell_type": "code",
   "execution_count": 50,
   "id": "3a7bf003",
   "metadata": {},
   "outputs": [],
   "source": [
    "df['Dependents'].fillna(df['Dependents'].mode()[0],inplace=True)"
   ]
  },
  {
   "cell_type": "code",
   "execution_count": 51,
   "id": "932425b6",
   "metadata": {},
   "outputs": [
    {
     "data": {
      "text/plain": [
       "'No'"
      ]
     },
     "execution_count": 51,
     "metadata": {},
     "output_type": "execute_result"
    }
   ],
   "source": [
    "df['Self_Employed'].mode()[0]"
   ]
  },
  {
   "cell_type": "code",
   "execution_count": 52,
   "id": "e277ddec",
   "metadata": {},
   "outputs": [],
   "source": [
    "df['Self_Employed'].fillna(df['Self_Employed'].mode()[0],inplace=True)"
   ]
  },
  {
   "cell_type": "code",
   "execution_count": null,
   "id": "95fc641b",
   "metadata": {},
   "outputs": [],
   "source": []
  },
  {
   "cell_type": "code",
   "execution_count": 26,
   "id": "eb601c6e",
   "metadata": {},
   "outputs": [
    {
     "data": {
      "text/plain": [
       "Loan_ID               0\n",
       "Gender                0\n",
       "Married               0\n",
       "Dependents            0\n",
       "Education             0\n",
       "Self_Employed         0\n",
       "ApplicantIncome       0\n",
       "CoapplicantIncome     0\n",
       "LoanAmount           22\n",
       "Loan_Amount_Term     14\n",
       "Credit_History       50\n",
       "Property_Area         0\n",
       "Loan_Status           0\n",
       "dtype: int64"
      ]
     },
     "execution_count": 26,
     "metadata": {},
     "output_type": "execute_result"
    }
   ],
   "source": [
    "df.isna().sum()"
   ]
  },
  {
   "cell_type": "code",
   "execution_count": 53,
   "id": "6bd9e8cd",
   "metadata": {},
   "outputs": [
    {
     "data": {
      "text/plain": [
       "120.0"
      ]
     },
     "execution_count": 53,
     "metadata": {},
     "output_type": "execute_result"
    }
   ],
   "source": [
    "df['LoanAmount'].mode()[0]"
   ]
  },
  {
   "cell_type": "code",
   "execution_count": 54,
   "id": "ee5621b5",
   "metadata": {},
   "outputs": [
    {
     "data": {
      "text/html": [
       "<div>\n",
       "<style scoped>\n",
       "    .dataframe tbody tr th:only-of-type {\n",
       "        vertical-align: middle;\n",
       "    }\n",
       "\n",
       "    .dataframe tbody tr th {\n",
       "        vertical-align: top;\n",
       "    }\n",
       "\n",
       "    .dataframe thead th {\n",
       "        text-align: right;\n",
       "    }\n",
       "</style>\n",
       "<table border=\"1\" class=\"dataframe\">\n",
       "  <thead>\n",
       "    <tr style=\"text-align: right;\">\n",
       "      <th></th>\n",
       "      <th>Loan_ID</th>\n",
       "      <th>Gender</th>\n",
       "      <th>Married</th>\n",
       "      <th>Dependents</th>\n",
       "      <th>Education</th>\n",
       "      <th>Self_Employed</th>\n",
       "      <th>ApplicantIncome</th>\n",
       "      <th>CoapplicantIncome</th>\n",
       "      <th>LoanAmount</th>\n",
       "      <th>Loan_Amount_Term</th>\n",
       "      <th>Credit_History</th>\n",
       "      <th>Property_Area</th>\n",
       "      <th>Loan_Status</th>\n",
       "    </tr>\n",
       "  </thead>\n",
       "  <tbody>\n",
       "    <tr>\n",
       "      <th>1</th>\n",
       "      <td>LP001003</td>\n",
       "      <td>Male</td>\n",
       "      <td>Yes</td>\n",
       "      <td>1</td>\n",
       "      <td>Graduate</td>\n",
       "      <td>No</td>\n",
       "      <td>4583</td>\n",
       "      <td>1508.0</td>\n",
       "      <td>128.0</td>\n",
       "      <td>360.0</td>\n",
       "      <td>1.0</td>\n",
       "      <td>Rural</td>\n",
       "      <td>N</td>\n",
       "    </tr>\n",
       "    <tr>\n",
       "      <th>7</th>\n",
       "      <td>LP001014</td>\n",
       "      <td>Male</td>\n",
       "      <td>Yes</td>\n",
       "      <td>3+</td>\n",
       "      <td>Graduate</td>\n",
       "      <td>No</td>\n",
       "      <td>3036</td>\n",
       "      <td>2504.0</td>\n",
       "      <td>158.0</td>\n",
       "      <td>360.0</td>\n",
       "      <td>0.0</td>\n",
       "      <td>Semiurban</td>\n",
       "      <td>N</td>\n",
       "    </tr>\n",
       "    <tr>\n",
       "      <th>9</th>\n",
       "      <td>LP001020</td>\n",
       "      <td>Male</td>\n",
       "      <td>Yes</td>\n",
       "      <td>1</td>\n",
       "      <td>Graduate</td>\n",
       "      <td>No</td>\n",
       "      <td>12841</td>\n",
       "      <td>10968.0</td>\n",
       "      <td>349.0</td>\n",
       "      <td>360.0</td>\n",
       "      <td>1.0</td>\n",
       "      <td>Semiurban</td>\n",
       "      <td>N</td>\n",
       "    </tr>\n",
       "    <tr>\n",
       "      <th>13</th>\n",
       "      <td>LP001029</td>\n",
       "      <td>Male</td>\n",
       "      <td>No</td>\n",
       "      <td>0</td>\n",
       "      <td>Graduate</td>\n",
       "      <td>No</td>\n",
       "      <td>1853</td>\n",
       "      <td>2840.0</td>\n",
       "      <td>114.0</td>\n",
       "      <td>360.0</td>\n",
       "      <td>1.0</td>\n",
       "      <td>Rural</td>\n",
       "      <td>N</td>\n",
       "    </tr>\n",
       "    <tr>\n",
       "      <th>17</th>\n",
       "      <td>LP001036</td>\n",
       "      <td>Female</td>\n",
       "      <td>No</td>\n",
       "      <td>0</td>\n",
       "      <td>Graduate</td>\n",
       "      <td>No</td>\n",
       "      <td>3510</td>\n",
       "      <td>0.0</td>\n",
       "      <td>76.0</td>\n",
       "      <td>360.0</td>\n",
       "      <td>0.0</td>\n",
       "      <td>Urban</td>\n",
       "      <td>N</td>\n",
       "    </tr>\n",
       "    <tr>\n",
       "      <th>...</th>\n",
       "      <td>...</td>\n",
       "      <td>...</td>\n",
       "      <td>...</td>\n",
       "      <td>...</td>\n",
       "      <td>...</td>\n",
       "      <td>...</td>\n",
       "      <td>...</td>\n",
       "      <td>...</td>\n",
       "      <td>...</td>\n",
       "      <td>...</td>\n",
       "      <td>...</td>\n",
       "      <td>...</td>\n",
       "      <td>...</td>\n",
       "    </tr>\n",
       "    <tr>\n",
       "      <th>596</th>\n",
       "      <td>LP002941</td>\n",
       "      <td>Male</td>\n",
       "      <td>Yes</td>\n",
       "      <td>2</td>\n",
       "      <td>Not Graduate</td>\n",
       "      <td>Yes</td>\n",
       "      <td>6383</td>\n",
       "      <td>1000.0</td>\n",
       "      <td>187.0</td>\n",
       "      <td>360.0</td>\n",
       "      <td>1.0</td>\n",
       "      <td>Rural</td>\n",
       "      <td>N</td>\n",
       "    </tr>\n",
       "    <tr>\n",
       "      <th>597</th>\n",
       "      <td>LP002943</td>\n",
       "      <td>Male</td>\n",
       "      <td>No</td>\n",
       "      <td>0</td>\n",
       "      <td>Graduate</td>\n",
       "      <td>No</td>\n",
       "      <td>2987</td>\n",
       "      <td>0.0</td>\n",
       "      <td>88.0</td>\n",
       "      <td>360.0</td>\n",
       "      <td>0.0</td>\n",
       "      <td>Semiurban</td>\n",
       "      <td>N</td>\n",
       "    </tr>\n",
       "    <tr>\n",
       "      <th>600</th>\n",
       "      <td>LP002949</td>\n",
       "      <td>Female</td>\n",
       "      <td>No</td>\n",
       "      <td>3+</td>\n",
       "      <td>Graduate</td>\n",
       "      <td>No</td>\n",
       "      <td>416</td>\n",
       "      <td>41667.0</td>\n",
       "      <td>350.0</td>\n",
       "      <td>180.0</td>\n",
       "      <td>NaN</td>\n",
       "      <td>Urban</td>\n",
       "      <td>N</td>\n",
       "    </tr>\n",
       "    <tr>\n",
       "      <th>605</th>\n",
       "      <td>LP002960</td>\n",
       "      <td>Male</td>\n",
       "      <td>Yes</td>\n",
       "      <td>0</td>\n",
       "      <td>Not Graduate</td>\n",
       "      <td>No</td>\n",
       "      <td>2400</td>\n",
       "      <td>3800.0</td>\n",
       "      <td>NaN</td>\n",
       "      <td>180.0</td>\n",
       "      <td>1.0</td>\n",
       "      <td>Urban</td>\n",
       "      <td>N</td>\n",
       "    </tr>\n",
       "    <tr>\n",
       "      <th>613</th>\n",
       "      <td>LP002990</td>\n",
       "      <td>Female</td>\n",
       "      <td>No</td>\n",
       "      <td>0</td>\n",
       "      <td>Graduate</td>\n",
       "      <td>Yes</td>\n",
       "      <td>4583</td>\n",
       "      <td>0.0</td>\n",
       "      <td>133.0</td>\n",
       "      <td>360.0</td>\n",
       "      <td>0.0</td>\n",
       "      <td>Semiurban</td>\n",
       "      <td>N</td>\n",
       "    </tr>\n",
       "  </tbody>\n",
       "</table>\n",
       "<p>192 rows × 13 columns</p>\n",
       "</div>"
      ],
      "text/plain": [
       "      Loan_ID  Gender Married Dependents     Education Self_Employed  \\\n",
       "1    LP001003    Male     Yes          1      Graduate            No   \n",
       "7    LP001014    Male     Yes         3+      Graduate            No   \n",
       "9    LP001020    Male     Yes          1      Graduate            No   \n",
       "13   LP001029    Male      No          0      Graduate            No   \n",
       "17   LP001036  Female      No          0      Graduate            No   \n",
       "..        ...     ...     ...        ...           ...           ...   \n",
       "596  LP002941    Male     Yes          2  Not Graduate           Yes   \n",
       "597  LP002943    Male      No          0      Graduate            No   \n",
       "600  LP002949  Female      No         3+      Graduate            No   \n",
       "605  LP002960    Male     Yes          0  Not Graduate            No   \n",
       "613  LP002990  Female      No          0      Graduate           Yes   \n",
       "\n",
       "     ApplicantIncome  CoapplicantIncome  LoanAmount  Loan_Amount_Term  \\\n",
       "1               4583             1508.0       128.0             360.0   \n",
       "7               3036             2504.0       158.0             360.0   \n",
       "9              12841            10968.0       349.0             360.0   \n",
       "13              1853             2840.0       114.0             360.0   \n",
       "17              3510                0.0        76.0             360.0   \n",
       "..               ...                ...         ...               ...   \n",
       "596             6383             1000.0       187.0             360.0   \n",
       "597             2987                0.0        88.0             360.0   \n",
       "600              416            41667.0       350.0             180.0   \n",
       "605             2400             3800.0         NaN             180.0   \n",
       "613             4583                0.0       133.0             360.0   \n",
       "\n",
       "     Credit_History Property_Area Loan_Status  \n",
       "1               1.0         Rural           N  \n",
       "7               0.0     Semiurban           N  \n",
       "9               1.0     Semiurban           N  \n",
       "13              1.0         Rural           N  \n",
       "17              0.0         Urban           N  \n",
       "..              ...           ...         ...  \n",
       "596             1.0         Rural           N  \n",
       "597             0.0     Semiurban           N  \n",
       "600             NaN         Urban           N  \n",
       "605             1.0         Urban           N  \n",
       "613             0.0     Semiurban           N  \n",
       "\n",
       "[192 rows x 13 columns]"
      ]
     },
     "execution_count": 54,
     "metadata": {},
     "output_type": "execute_result"
    }
   ],
   "source": [
    "df.groupby('Loan_Status').get_group('N')"
   ]
  },
  {
   "cell_type": "code",
   "execution_count": null,
   "id": "bc6fd83b",
   "metadata": {},
   "outputs": [],
   "source": []
  },
  {
   "cell_type": "code",
   "execution_count": 55,
   "id": "c4579a34",
   "metadata": {},
   "outputs": [
    {
     "data": {
      "text/plain": [
       "151.22099447513813"
      ]
     },
     "execution_count": 55,
     "metadata": {},
     "output_type": "execute_result"
    }
   ],
   "source": [
    "df.groupby('Loan_Status').get_group('N')['LoanAmount'].mean()"
   ]
  },
  {
   "cell_type": "code",
   "execution_count": 56,
   "id": "0024293b",
   "metadata": {},
   "outputs": [],
   "source": [
    "mean_N =  df.groupby('Loan_Status').get_group('N')['LoanAmount'].mean()"
   ]
  },
  {
   "cell_type": "code",
   "execution_count": 57,
   "id": "7a3adde6",
   "metadata": {},
   "outputs": [
    {
     "data": {
      "text/plain": [
       "144.29440389294405"
      ]
     },
     "execution_count": 57,
     "metadata": {},
     "output_type": "execute_result"
    }
   ],
   "source": [
    "df.groupby('Loan_Status').get_group('Y')['LoanAmount'].mean()"
   ]
  },
  {
   "cell_type": "code",
   "execution_count": 58,
   "id": "465c7f26",
   "metadata": {},
   "outputs": [],
   "source": [
    "mean_Y =  df.groupby('Loan_Status').get_group('Y')['LoanAmount'].mean()"
   ]
  },
  {
   "cell_type": "code",
   "execution_count": null,
   "id": "148ccd9c",
   "metadata": {},
   "outputs": [],
   "source": []
  },
  {
   "cell_type": "code",
   "execution_count": 63,
   "id": "163c568f",
   "metadata": {},
   "outputs": [],
   "source": [
    "df.loc[df['Loan_Status']=='N','LoanAmount'] = df.loc[df['Loan_Status']=='N','LoanAmount'].fillna(df.loc[df['Loan_Status']=='N','LoanAmount'].mean())"
   ]
  },
  {
   "cell_type": "code",
   "execution_count": 64,
   "id": "f773904a",
   "metadata": {},
   "outputs": [],
   "source": [
    "df.loc[df['Loan_Status']=='Y','LoanAmount'] = df.loc[df['Loan_Status']=='Y','LoanAmount'].fillna(df.loc[df['Loan_Status']=='Y','LoanAmount'].mean())"
   ]
  },
  {
   "cell_type": "code",
   "execution_count": 65,
   "id": "cfc80186",
   "metadata": {},
   "outputs": [
    {
     "data": {
      "text/plain": [
       "Loan_ID               0\n",
       "Gender                0\n",
       "Married               0\n",
       "Dependents            0\n",
       "Education             0\n",
       "Self_Employed         0\n",
       "ApplicantIncome       0\n",
       "CoapplicantIncome     0\n",
       "LoanAmount            0\n",
       "Loan_Amount_Term     14\n",
       "Credit_History       50\n",
       "Property_Area         0\n",
       "Loan_Status           0\n",
       "dtype: int64"
      ]
     },
     "execution_count": 65,
     "metadata": {},
     "output_type": "execute_result"
    }
   ],
   "source": []
  },
  {
   "cell_type": "code",
   "execution_count": 67,
   "id": "fddac354",
   "metadata": {},
   "outputs": [
    {
     "data": {
      "text/plain": [
       "array([360., 120., 240.,  nan, 180.,  60., 300., 480.,  36.,  84.,  12.])"
      ]
     },
     "execution_count": 67,
     "metadata": {},
     "output_type": "execute_result"
    }
   ],
   "source": [
    "df['Loan_Amount_Term'].unique()"
   ]
  },
  {
   "cell_type": "code",
   "execution_count": 68,
   "id": "0d30e03f",
   "metadata": {},
   "outputs": [
    {
     "data": {
      "text/plain": [
       "360.0"
      ]
     },
     "execution_count": 68,
     "metadata": {},
     "output_type": "execute_result"
    }
   ],
   "source": [
    "df['Loan_Amount_Term'].mode()[0]"
   ]
  },
  {
   "cell_type": "code",
   "execution_count": 69,
   "id": "f72ea3b0",
   "metadata": {},
   "outputs": [],
   "source": [
    "df['Loan_Amount_Term'].fillna(df['Loan_Amount_Term'].mode()[0],inplace=True)"
   ]
  },
  {
   "cell_type": "code",
   "execution_count": 71,
   "id": "5b584129",
   "metadata": {},
   "outputs": [],
   "source": [
    "df['Credit_History'].fillna(df['Credit_History'].mode()[0],inplace=True)"
   ]
  },
  {
   "cell_type": "code",
   "execution_count": 72,
   "id": "1c041e19",
   "metadata": {},
   "outputs": [
    {
     "data": {
      "text/plain": [
       "Loan_ID              0\n",
       "Gender               0\n",
       "Married              0\n",
       "Dependents           0\n",
       "Education            0\n",
       "Self_Employed        0\n",
       "ApplicantIncome      0\n",
       "CoapplicantIncome    0\n",
       "LoanAmount           0\n",
       "Loan_Amount_Term     0\n",
       "Credit_History       0\n",
       "Property_Area        0\n",
       "Loan_Status          0\n",
       "dtype: int64"
      ]
     },
     "execution_count": 72,
     "metadata": {},
     "output_type": "execute_result"
    }
   ],
   "source": [
    "df.isna().sum()"
   ]
  },
  {
   "cell_type": "code",
   "execution_count": null,
   "id": "4ae233c9",
   "metadata": {},
   "outputs": [],
   "source": []
  },
  {
   "cell_type": "code",
   "execution_count": 16,
   "id": "bc165e5c",
   "metadata": {},
   "outputs": [
    {
     "data": {
      "text/plain": [
       "Index(['Loan_ID', 'Gender', 'Married', 'Dependents', 'Education',\n",
       "       'Self_Employed', 'ApplicantIncome', 'CoapplicantIncome', 'LoanAmount',\n",
       "       'Loan_Amount_Term', 'Credit_History', 'Property_Area', 'Loan_Status'],\n",
       "      dtype='object')"
      ]
     },
     "execution_count": 16,
     "metadata": {},
     "output_type": "execute_result"
    }
   ],
   "source": [
    "df.columns"
   ]
  },
  {
   "cell_type": "code",
   "execution_count": null,
   "id": "515f7cdb",
   "metadata": {},
   "outputs": [],
   "source": []
  },
  {
   "cell_type": "code",
   "execution_count": null,
   "id": "94620451",
   "metadata": {},
   "outputs": [],
   "source": []
  },
  {
   "cell_type": "code",
   "execution_count": 15,
   "id": "30330533",
   "metadata": {},
   "outputs": [
    {
     "data": {
      "text/plain": [
       "<AxesSubplot:>"
      ]
     },
     "execution_count": 15,
     "metadata": {},
     "output_type": "execute_result"
    },
    {
     "data": {
      "image/png": "[encoded data removed]",
      "text/plain": [
       "<Figure size 432x288 with 1 Axes>"
      ]
     },
     "metadata": {
      "needs_background": "light"
     },
     "output_type": "display_data"
    }
   ],
   "source": [
    "df['Loan_Status'].value_counts().plot.bar()"
   ]
  },
  {
   "cell_type": "code",
   "execution_count": 17,
   "id": "f6ccd764",
   "metadata": {},
   "outputs": [
    {
     "data": {
      "text/plain": [
       "<AxesSubplot:>"
      ]
     },
     "execution_count": 17,
     "metadata": {},
     "output_type": "execute_result"
    },
    {
     "data": {
      "image/png": "[encoded data removed]",
      "text/plain": [
       "<Figure size 1440x720 with 1 Axes>"
      ]
     },
     "metadata": {
      "needs_background": "light"
     },
     "output_type": "display_data"
    }
   ],
   "source": [
    "df['Gender'].value_counts().plot.bar(figsize = (20,10))"
   ]
  },
  {
   "cell_type": "code",
   "execution_count": 18,
   "id": "70f574b4",
   "metadata": {},
   "outputs": [
    {
     "data": {
      "text/plain": [
       "<AxesSubplot:title={'center':'Gender'}>"
      ]
     },
     "execution_count": 18,
     "metadata": {},
     "output_type": "execute_result"
    },
    {
     "data": {
      "image/png": "[encoded data removed]",
      "text/plain": [
       "<Figure size 1440x720 with 1 Axes>"
      ]
     },
     "metadata": {
      "needs_background": "light"
     },
     "output_type": "display_data"
    }
   ],
   "source": [
    "df['Gender'].value_counts(normalize=True).plot.bar(figsize = (20,10),title = 'Gender')"
   ]
  },
  {
   "cell_type": "code",
   "execution_count": null,
   "id": "9c55880f",
   "metadata": {},
   "outputs": [],
   "source": []
  },
  {
   "cell_type": "code",
   "execution_count": 21,
   "id": "abcd1ba3",
   "metadata": {},
   "outputs": [
    {
     "data": {
      "text/html": [
       "<div>\n",
       "<style scoped>\n",
       "    .dataframe tbody tr th:only-of-type {\n",
       "        vertical-align: middle;\n",
       "    }\n",
       "\n",
       "    .dataframe tbody tr th {\n",
       "        vertical-align: top;\n",
       "    }\n",
       "\n",
       "    .dataframe thead th {\n",
       "        text-align: right;\n",
       "    }\n",
       "</style>\n",
       "<table border=\"1\" class=\"dataframe\">\n",
       "  <thead>\n",
       "    <tr style=\"text-align: right;\">\n",
       "      <th>Loan_Status</th>\n",
       "      <th>N</th>\n",
       "      <th>Y</th>\n",
       "    </tr>\n",
       "    <tr>\n",
       "      <th>Gender</th>\n",
       "      <th></th>\n",
       "      <th></th>\n",
       "    </tr>\n",
       "  </thead>\n",
       "  <tbody>\n",
       "    <tr>\n",
       "      <th>Female</th>\n",
       "      <td>32</td>\n",
       "      <td>54</td>\n",
       "    </tr>\n",
       "    <tr>\n",
       "      <th>Male</th>\n",
       "      <td>116</td>\n",
       "      <td>278</td>\n",
       "    </tr>\n",
       "  </tbody>\n",
       "</table>\n",
       "</div>"
      ],
      "text/plain": [
       "Loan_Status    N    Y\n",
       "Gender               \n",
       "Female        32   54\n",
       "Male         116  278"
      ]
     },
     "execution_count": 21,
     "metadata": {},
     "output_type": "execute_result"
    }
   ],
   "source": [
    "gender"
   ]
  },
  {
   "cell_type": "code",
   "execution_count": 20,
   "id": "a416c2cc",
   "metadata": {},
   "outputs": [
    {
     "data": {
      "text/plain": [
       "<AxesSubplot:xlabel='Gender'>"
      ]
     },
     "execution_count": 20,
     "metadata": {},
     "output_type": "execute_result"
    },
    {
     "data": {
      "image/png": "[encoded data removed]",
      "text/plain": [
       "<Figure size 1440x720 with 1 Axes>"
      ]
     },
     "metadata": {
      "needs_background": "light"
     },
     "output_type": "display_data"
    }
   ],
   "source": [
    "gender = pd.crosstab(df['Gender'],df['Loan_Status'])\n",
    "gender.div(gender.sum(1).astype(float),axis = 0).plot(kind = 'bar',stacked = True,figsize = (20,10))"
   ]
  },
  {
   "cell_type": "code",
   "execution_count": null,
   "id": "68f945ff",
   "metadata": {},
   "outputs": [],
   "source": []
  },
  {
   "cell_type": "code",
   "execution_count": 22,
   "id": "5edb69c7",
   "metadata": {},
   "outputs": [
    {
     "data": {
      "text/plain": [
       "<AxesSubplot:xlabel='ApplicantIncome', ylabel='Density'>"
      ]
     },
     "execution_count": 22,
     "metadata": {},
     "output_type": "execute_result"
    },
    {
     "data": {
      "image/png": "[encoded data removed]",
      "text/plain": [
       "<Figure size 432x288 with 1 Axes>"
      ]
     },
     "metadata": {
      "needs_background": "light"
     },
     "output_type": "display_data"
    }
   ],
   "source": [
    "sns.kdeplot(x = df['ApplicantIncome'])"
   ]
  },
  {
   "cell_type": "code",
   "execution_count": null,
   "id": "42513223",
   "metadata": {},
   "outputs": [],
   "source": []
  },
  {
   "cell_type": "code",
   "execution_count": 25,
   "id": "83d3a0a2",
   "metadata": {},
   "outputs": [
    {
     "data": {
      "text/plain": [
       "150"
      ]
     },
     "execution_count": 25,
     "metadata": {},
     "output_type": "execute_result"
    }
   ],
   "source": [
    "df['ApplicantIncome'].min()"
   ]
  },
  {
   "cell_type": "code",
   "execution_count": 23,
   "id": "dcef5d46",
   "metadata": {},
   "outputs": [
    {
     "data": {
      "text/plain": [
       "17779.30000000001"
      ]
     },
     "execution_count": 23,
     "metadata": {},
     "output_type": "execute_result"
    }
   ],
   "source": [
    "df['ApplicantIncome'].quantile(.98)"
   ]
  },
  {
   "cell_type": "code",
   "execution_count": 24,
   "id": "432328b9",
   "metadata": {},
   "outputs": [
    {
     "data": {
      "text/plain": [
       "0.9500    14583.0000\n",
       "0.9800    17779.3000\n",
       "0.9900    23091.7300\n",
       "0.9995    71180.2605\n",
       "Name: ApplicantIncome, dtype: float64"
      ]
     },
     "execution_count": 24,
     "metadata": {},
     "output_type": "execute_result"
    }
   ],
   "source": [
    "df['ApplicantIncome'].quantile([0.95,.98,0.99,0.9995])"
   ]
  },
  {
   "cell_type": "code",
   "execution_count": 26,
   "id": "8896966c",
   "metadata": {},
   "outputs": [
    {
     "data": {
      "text/plain": [
       "Index(['Loan_ID', 'Gender', 'Married', 'Dependents', 'Education',\n",
       "       'Self_Employed', 'ApplicantIncome', 'CoapplicantIncome', 'LoanAmount',\n",
       "       'Loan_Amount_Term', 'Credit_History', 'Property_Area', 'Loan_Status'],\n",
       "      dtype='object')"
      ]
     },
     "execution_count": 26,
     "metadata": {},
     "output_type": "execute_result"
    }
   ],
   "source": [
    "df.columns"
   ]
  },
  {
   "cell_type": "code",
   "execution_count": 29,
   "id": "19d06afe",
   "metadata": {},
   "outputs": [],
   "source": [
    "categorical_cols = ['Gender','Married','Dependents','Education','Self_Employed','Loan_Amount_Term','Credit_History']\n",
    "for col in categorical_cols:\n",
    "    print(f'Value_counts of {col.upper()} :')\n",
    "    print(df[col].value_counts())\n",
    "    print()\n",
    "    "
   ]
  },
  {
   "cell_type": "code",
   "execution_count": 31,
   "id": "29f92d98",
   "metadata": {},
   "outputs": [
    {
     "name": "stdout",
     "output_type": "stream",
     "text": [
      "Value_counts of GENDER :\n",
      "Male      394\n",
      "Female     86\n",
      "Name: Gender, dtype: int64\n",
      "\n",
      "Value_counts of MARRIED :\n",
      "Yes    311\n",
      "No     169\n",
      "Name: Married, dtype: int64\n",
      "\n",
      "Value_counts of DEPENDENTS :\n",
      "0     274\n",
      "2      85\n",
      "1      80\n",
      "3+     41\n",
      "Name: Dependents, dtype: int64\n",
      "\n",
      "Value_counts of EDUCATION :\n",
      "Graduate        383\n",
      "Not Graduate     97\n",
      "Name: Education, dtype: int64\n",
      "\n",
      "Value_counts of SELF_EMPLOYED :\n",
      "No     414\n",
      "Yes     66\n",
      "Name: Self_Employed, dtype: int64\n",
      "\n",
      "Value_counts of LOAN_AMOUNT_TERM :\n",
      "360.0    411\n",
      "180.0     36\n",
      "480.0     12\n",
      "300.0      9\n",
      "120.0      3\n",
      "84.0       3\n",
      "60.0       2\n",
      "240.0      2\n",
      "36.0       2\n",
      "Name: Loan_Amount_Term, dtype: int64\n",
      "\n",
      "Value_counts of CREDIT_HISTORY :\n",
      "1.0    410\n",
      "0.0     70\n",
      "Name: Credit_History, dtype: int64\n",
      "\n"
     ]
    }
   ],
   "source": [
    "for col in categorical_cols:\n",
    "    print(f'Value_counts of {col.upper()} :')\n",
    "    print(df[col].value_counts())\n",
    "    print()\n",
    "    "
   ]
  },
  {
   "cell_type": "code",
   "execution_count": 32,
   "id": "9612f0d4",
   "metadata": {},
   "outputs": [
    {
     "name": "stdout",
     "output_type": "stream",
     "text": [
      "nunique of GENDER :\n",
      "2\n",
      "\n",
      "nunique of MARRIED :\n",
      "2\n",
      "\n",
      "nunique of DEPENDENTS :\n",
      "4\n",
      "\n",
      "nunique of EDUCATION :\n",
      "2\n",
      "\n",
      "nunique of SELF_EMPLOYED :\n",
      "2\n",
      "\n",
      "nunique of LOAN_AMOUNT_TERM :\n",
      "9\n",
      "\n",
      "nunique of CREDIT_HISTORY :\n",
      "2\n",
      "\n"
     ]
    }
   ],
   "source": [
    "for col in categorical_cols:\n",
    "    print(f'nunique of {col.upper()} :')\n",
    "    print(df[col].nunique())\n",
    "    print()"
   ]
  },
  {
   "cell_type": "code",
   "execution_count": 73,
   "id": "9cfd24d3",
   "metadata": {},
   "outputs": [
    {
     "name": "stdout",
     "output_type": "stream",
     "text": [
      "unique of GENDER :\n",
      "['Male' 'Female']\n",
      "\n",
      "unique of MARRIED :\n",
      "['No' 'Yes']\n",
      "\n",
      "unique of DEPENDENTS :\n",
      "['0' '1' '2' '3+']\n",
      "\n",
      "unique of EDUCATION :\n",
      "['Graduate' 'Not Graduate']\n",
      "\n",
      "unique of SELF_EMPLOYED :\n",
      "['No' 'Yes']\n",
      "\n",
      "unique of LOAN_AMOUNT_TERM :\n",
      "[360. 120. 240. 180.  60. 300. 480.  36.  84.  12.]\n",
      "\n",
      "unique of CREDIT_HISTORY :\n",
      "[1. 0.]\n",
      "\n"
     ]
    }
   ],
   "source": [
    "for col in categorical_cols:\n",
    "    print(f'unique of {col.upper()} :')\n",
    "    print(df[col].unique())\n",
    "    print()"
   ]
  },
  {
   "cell_type": "code",
   "execution_count": 74,
   "id": "160ca00f",
   "metadata": {},
   "outputs": [
    {
     "name": "stdout",
     "output_type": "stream",
     "text": [
      "<class 'pandas.core.frame.DataFrame'>\n",
      "RangeIndex: 614 entries, 0 to 613\n",
      "Data columns (total 13 columns):\n",
      " #   Column             Non-Null Count  Dtype  \n",
      "---  ------             --------------  -----  \n",
      " 0   Loan_ID            614 non-null    object \n",
      " 1   Gender             614 non-null    object \n",
      " 2   Married            614 non-null    object \n",
      " 3   Dependents         614 non-null    object \n",
      " 4   Education          614 non-null    object \n",
      " 5   Self_Employed      614 non-null    object \n",
      " 6   ApplicantIncome    614 non-null    int64  \n",
      " 7   CoapplicantIncome  614 non-null    float64\n",
      " 8   LoanAmount         614 non-null    float64\n",
      " 9   Loan_Amount_Term   614 non-null    float64\n",
      " 10  Credit_History     614 non-null    float64\n",
      " 11  Property_Area      614 non-null    object \n",
      " 12  Loan_Status        614 non-null    object \n",
      "dtypes: float64(4), int64(1), object(8)\n",
      "memory usage: 62.5+ KB\n"
     ]
    }
   ],
   "source": [
    "df.info()"
   ]
  },
  {
   "cell_type": "markdown",
   "id": "0b461886",
   "metadata": {},
   "source": [
    "## Encoding Variables"
   ]
  },
  {
   "cell_type": "code",
   "execution_count": 75,
   "id": "e9ac12a9",
   "metadata": {},
   "outputs": [
    {
     "data": {
      "text/plain": [
       "Index(['Loan_ID', 'Gender', 'Married', 'Dependents', 'Education',\n",
       "       'Self_Employed', 'ApplicantIncome', 'CoapplicantIncome', 'LoanAmount',\n",
       "       'Loan_Amount_Term', 'Credit_History', 'Property_Area', 'Loan_Status'],\n",
       "      dtype='object')"
      ]
     },
     "execution_count": 75,
     "metadata": {},
     "output_type": "execute_result"
    }
   ],
   "source": [
    "df.columns"
   ]
  },
  {
   "cell_type": "code",
   "execution_count": 76,
   "id": "97f8beb2",
   "metadata": {},
   "outputs": [
    {
     "data": {
      "text/plain": [
       "Male      502\n",
       "Female    112\n",
       "Name: Gender, dtype: int64"
      ]
     },
     "execution_count": 76,
     "metadata": {},
     "output_type": "execute_result"
    }
   ],
   "source": [
    "df['Gender'].value_counts()"
   ]
  },
  {
   "cell_type": "code",
   "execution_count": 77,
   "id": "6ebf147d",
   "metadata": {},
   "outputs": [
    {
     "data": {
      "text/plain": [
       "{'Male': 502, 'Female': 112}"
      ]
     },
     "execution_count": 77,
     "metadata": {},
     "output_type": "execute_result"
    }
   ],
   "source": [
    "df['Gender'].value_counts().to_dict()"
   ]
  },
  {
   "cell_type": "code",
   "execution_count": 79,
   "id": "fa48f3f2",
   "metadata": {},
   "outputs": [],
   "source": [
    "df['Gender'].replace({'Male': 1, 'Female': 0},inplace=True)"
   ]
  },
  {
   "cell_type": "code",
   "execution_count": 100,
   "id": "f8c70be2",
   "metadata": {},
   "outputs": [
    {
     "name": "stdout",
     "output_type": "stream",
     "text": [
      "<class 'pandas.core.frame.DataFrame'>\n",
      "RangeIndex: 614 entries, 0 to 613\n",
      "Data columns (total 13 columns):\n",
      " #   Column             Non-Null Count  Dtype  \n",
      "---  ------             --------------  -----  \n",
      " 0   Loan_ID            614 non-null    object \n",
      " 1   Gender             614 non-null    int64  \n",
      " 2   Married            614 non-null    int64  \n",
      " 3   Dependents         614 non-null    int64  \n",
      " 4   Education          614 non-null    int64  \n",
      " 5   Self_Employed      614 non-null    int64  \n",
      " 6   ApplicantIncome    614 non-null    int64  \n",
      " 7   CoapplicantIncome  614 non-null    float64\n",
      " 8   LoanAmount         614 non-null    float64\n",
      " 9   Loan_Amount_Term   614 non-null    float64\n",
      " 10  Credit_History     614 non-null    float64\n",
      " 11  Property_Area      614 non-null    object \n",
      " 12  Loan_Status        614 non-null    object \n",
      "dtypes: float64(4), int64(6), object(3)\n",
      "memory usage: 62.5+ KB\n"
     ]
    }
   ],
   "source": [
    "df.info()"
   ]
  },
  {
   "cell_type": "code",
   "execution_count": 81,
   "id": "c47151c6",
   "metadata": {},
   "outputs": [
    {
     "data": {
      "text/plain": [
       "{'Yes': 401, 'No': 213}"
      ]
     },
     "execution_count": 81,
     "metadata": {},
     "output_type": "execute_result"
    }
   ],
   "source": [
    "df['Married'].value_counts().to_dict()"
   ]
  },
  {
   "cell_type": "code",
   "execution_count": 84,
   "id": "375fd44c",
   "metadata": {},
   "outputs": [],
   "source": [
    "df['Married'].replace({'Yes': 1, 'No': 0},inplace=True)"
   ]
  },
  {
   "cell_type": "code",
   "execution_count": 86,
   "id": "02c46a7e",
   "metadata": {},
   "outputs": [
    {
     "data": {
      "text/plain": [
       "{'0': 360, '1': 102, '2': 101, '3+': 51}"
      ]
     },
     "execution_count": 86,
     "metadata": {},
     "output_type": "execute_result"
    }
   ],
   "source": [
    "df['Dependents'].value_counts().to_dict()"
   ]
  },
  {
   "cell_type": "code",
   "execution_count": 87,
   "id": "68f70f68",
   "metadata": {},
   "outputs": [],
   "source": [
    "df['Dependents'].replace({'0': 0, '1': 1, '2': 2, '3+': 3},inplace=True)"
   ]
  },
  {
   "cell_type": "code",
   "execution_count": 89,
   "id": "d229a28d",
   "metadata": {},
   "outputs": [
    {
     "data": {
      "text/plain": [
       "{'Graduate': 480, 'Not Graduate': 134}"
      ]
     },
     "execution_count": 89,
     "metadata": {},
     "output_type": "execute_result"
    }
   ],
   "source": [
    "df['Education'].value_counts().to_dict()"
   ]
  },
  {
   "cell_type": "code",
   "execution_count": 92,
   "id": "f1ec8275",
   "metadata": {},
   "outputs": [],
   "source": [
    "df['Education'].replace({'Graduate': 1, 'Not Graduate': 0},inplace=True)"
   ]
  },
  {
   "cell_type": "code",
   "execution_count": 94,
   "id": "39dee11f",
   "metadata": {},
   "outputs": [],
   "source": [
    "# df['Dependents'].value_counts()"
   ]
  },
  {
   "cell_type": "code",
   "execution_count": 96,
   "id": "6fb61076",
   "metadata": {},
   "outputs": [
    {
     "data": {
      "text/plain": [
       "{'No': 532, 'Yes': 82}"
      ]
     },
     "execution_count": 96,
     "metadata": {},
     "output_type": "execute_result"
    }
   ],
   "source": [
    "df['Self_Employed'].value_counts().to_dict()"
   ]
  },
  {
   "cell_type": "code",
   "execution_count": 99,
   "id": "58f21a70",
   "metadata": {},
   "outputs": [],
   "source": [
    "df['Self_Employed'].replace({'No': 0, 'Yes': 1},inplace=True)"
   ]
  },
  {
   "cell_type": "code",
   "execution_count": 101,
   "id": "0efa3b40",
   "metadata": {},
   "outputs": [
    {
     "data": {
      "text/plain": [
       "{'Semiurban': 233, 'Urban': 202, 'Rural': 179}"
      ]
     },
     "execution_count": 101,
     "metadata": {},
     "output_type": "execute_result"
    }
   ],
   "source": [
    "df['Property_Area'].value_counts().to_dict()"
   ]
  },
  {
   "cell_type": "code",
   "execution_count": 102,
   "id": "0eb60a57",
   "metadata": {},
   "outputs": [],
   "source": [
    "df['Property_Area'].replace({'Semiurban': 1, 'Urban': 0, 'Rural': 2},inplace=True)"
   ]
  },
  {
   "cell_type": "code",
   "execution_count": 103,
   "id": "084785bb",
   "metadata": {},
   "outputs": [
    {
     "name": "stdout",
     "output_type": "stream",
     "text": [
      "<class 'pandas.core.frame.DataFrame'>\n",
      "RangeIndex: 614 entries, 0 to 613\n",
      "Data columns (total 13 columns):\n",
      " #   Column             Non-Null Count  Dtype  \n",
      "---  ------             --------------  -----  \n",
      " 0   Loan_ID            614 non-null    object \n",
      " 1   Gender             614 non-null    int64  \n",
      " 2   Married            614 non-null    int64  \n",
      " 3   Dependents         614 non-null    int64  \n",
      " 4   Education          614 non-null    int64  \n",
      " 5   Self_Employed      614 non-null    int64  \n",
      " 6   ApplicantIncome    614 non-null    int64  \n",
      " 7   CoapplicantIncome  614 non-null    float64\n",
      " 8   LoanAmount         614 non-null    float64\n",
      " 9   Loan_Amount_Term   614 non-null    float64\n",
      " 10  Credit_History     614 non-null    float64\n",
      " 11  Property_Area      614 non-null    int64  \n",
      " 12  Loan_Status        614 non-null    object \n",
      "dtypes: float64(4), int64(7), object(2)\n",
      "memory usage: 62.5+ KB\n"
     ]
    }
   ],
   "source": [
    "df.info()"
   ]
  },
  {
   "cell_type": "code",
   "execution_count": null,
   "id": "e7a9e6fc",
   "metadata": {},
   "outputs": [],
   "source": []
  },
  {
   "cell_type": "markdown",
   "id": "fb47ba96",
   "metadata": {},
   "source": [
    "## Train Test split"
   ]
  },
  {
   "cell_type": "code",
   "execution_count": 106,
   "id": "2bd71448",
   "metadata": {},
   "outputs": [],
   "source": [
    "x = df.drop(['Loan_ID','Loan_Status'],axis = 1)\n",
    "y = df['Loan_Status']"
   ]
  },
  {
   "cell_type": "code",
   "execution_count": 107,
   "id": "13ce29fd",
   "metadata": {},
   "outputs": [],
   "source": [
    "x_train , x_test , y_train , y_test = train_test_split(x,y,test_size= 0.2 , random_state=45, stratify=y)"
   ]
  },
  {
   "cell_type": "code",
   "execution_count": 108,
   "id": "443e839e",
   "metadata": {},
   "outputs": [
    {
     "data": {
      "text/plain": [
       "Gender               0\n",
       "Married              0\n",
       "Dependents           0\n",
       "Education            0\n",
       "Self_Employed        0\n",
       "ApplicantIncome      0\n",
       "CoapplicantIncome    0\n",
       "LoanAmount           0\n",
       "Loan_Amount_Term     0\n",
       "Credit_History       0\n",
       "Property_Area        0\n",
       "dtype: int64"
      ]
     },
     "execution_count": 108,
     "metadata": {},
     "output_type": "execute_result"
    }
   ],
   "source": [
    "x_train.isna().sum()"
   ]
  },
  {
   "cell_type": "code",
   "execution_count": 109,
   "id": "77221088",
   "metadata": {},
   "outputs": [
    {
     "data": {
      "text/plain": [
       "491"
      ]
     },
     "execution_count": 109,
     "metadata": {},
     "output_type": "execute_result"
    }
   ],
   "source": [
    "len(x_train)"
   ]
  },
  {
   "cell_type": "code",
   "execution_count": 110,
   "id": "af263448",
   "metadata": {},
   "outputs": [
    {
     "data": {
      "text/plain": [
       "123"
      ]
     },
     "execution_count": 110,
     "metadata": {},
     "output_type": "execute_result"
    }
   ],
   "source": [
    "len(x_test)"
   ]
  },
  {
   "cell_type": "code",
   "execution_count": null,
   "id": "93569321",
   "metadata": {},
   "outputs": [],
   "source": []
  },
  {
   "cell_type": "markdown",
   "id": "23cf40e0",
   "metadata": {},
   "source": [
    "### Train Logistic Regression"
   ]
  },
  {
   "cell_type": "code",
   "execution_count": 111,
   "id": "0d10a43d",
   "metadata": {},
   "outputs": [
    {
     "data": {
      "text/plain": [
       "LogisticRegression()"
      ]
     },
     "execution_count": 111,
     "metadata": {},
     "output_type": "execute_result"
    }
   ],
   "source": [
    "log_clf = LogisticRegression()\n",
    "log_clf.fit(x_train,y_train)"
   ]
  },
  {
   "cell_type": "code",
   "execution_count": null,
   "id": "1fb3dcb5",
   "metadata": {},
   "outputs": [],
   "source": []
  },
  {
   "cell_type": "markdown",
   "id": "df65be93",
   "metadata": {},
   "source": [
    "# Evaluation"
   ]
  },
  {
   "cell_type": "code",
   "execution_count": 115,
   "id": "28bafaf3",
   "metadata": {},
   "outputs": [
    {
     "name": "stdout",
     "output_type": "stream",
     "text": [
      "Confusion Matrix : \n",
      " [[17 21]\n",
      " [ 0 85]]\n",
      "\n",
      "Accuracy Score: 0.8292682926829268\n",
      "classification report :               precision    recall  f1-score   support\n",
      "\n",
      "           N       1.00      0.45      0.62        38\n",
      "           Y       0.80      1.00      0.89        85\n",
      "\n",
      "    accuracy                           0.83       123\n",
      "   macro avg       0.90      0.72      0.75       123\n",
      "weighted avg       0.86      0.83      0.81       123\n",
      "\n"
     ]
    }
   ],
   "source": [
    "## Testing data evalution\n",
    "y_pred_log = log_clf.predict(x_test)\n",
    "\n",
    "cnf_matrix = confusion_matrix(y_test , y_pred_log)\n",
    "print('Confusion Matrix : \\n',cnf_matrix)\n",
    "print()\n",
    "\n",
    "acc_score_LR = accuracy_score(y_test,y_pred_log)\n",
    "print('Accuracy Score:',acc_score_LR)\n",
    "\n",
    "clf_report = classification_report(y_test , y_pred_log)\n",
    "print('classification report :',clf_report)\n"
   ]
  },
  {
   "cell_type": "code",
   "execution_count": 116,
   "id": "b1e27028",
   "metadata": {},
   "outputs": [
    {
     "name": "stdout",
     "output_type": "stream",
     "text": [
      "Confusion Matrix : \n",
      " [[ 65  89]\n",
      " [  8 329]]\n",
      "\n",
      "Accuracy Score: 0.8024439918533605\n",
      "classification report :               precision    recall  f1-score   support\n",
      "\n",
      "           N       0.89      0.42      0.57       154\n",
      "           Y       0.79      0.98      0.87       337\n",
      "\n",
      "    accuracy                           0.80       491\n",
      "   macro avg       0.84      0.70      0.72       491\n",
      "weighted avg       0.82      0.80      0.78       491\n",
      "\n"
     ]
    }
   ],
   "source": [
    "## Training data evalution\n",
    "y_pred_train_log = log_clf.predict(x_train)\n",
    "\n",
    "cnf_matrix = confusion_matrix(y_train , y_pred_train_log)\n",
    "print('Confusion Matrix : \\n',cnf_matrix)\n",
    "print()\n",
    "\n",
    "acc_score_LR_train = accuracy_score(y_train,y_pred_train_log)\n",
    "print('Accuracy Score:',acc_score_LR_train)\n",
    "\n",
    "clf_report = classification_report(y_train , y_pred_train_log)\n",
    "print('classification report :',clf_report)"
   ]
  },
  {
   "cell_type": "code",
   "execution_count": null,
   "id": "efd30987",
   "metadata": {},
   "outputs": [],
   "source": []
  },
  {
   "cell_type": "markdown",
   "id": "7d4edae5",
   "metadata": {},
   "source": [
    "## Knn "
   ]
  },
  {
   "cell_type": "code",
   "execution_count": 117,
   "id": "547d7eff",
   "metadata": {},
   "outputs": [],
   "source": [
    "from sklearn.neighbors import KNeighborsClassifier\n",
    "from sklearn.preprocessing import StandardScaler\n"
   ]
  },
  {
   "cell_type": "code",
   "execution_count": 118,
   "id": "09ae4f1b",
   "metadata": {},
   "outputs": [
    {
     "data": {
      "text/plain": [
       "StandardScaler()"
      ]
     },
     "execution_count": 118,
     "metadata": {},
     "output_type": "execute_result"
    }
   ],
   "source": [
    "std_scaler = StandardScaler()\n",
    "std_scaler.fit(x_train)"
   ]
  },
  {
   "cell_type": "code",
   "execution_count": 119,
   "id": "702adb56",
   "metadata": {},
   "outputs": [],
   "source": [
    "x_train_std = std_scaler.fit_transform(x_train)\n",
    "x_test_std = std_scaler.transform(x_test)"
   ]
  },
  {
   "cell_type": "code",
   "execution_count": 120,
   "id": "bcf272a8",
   "metadata": {},
   "outputs": [
    {
     "data": {
      "text/plain": [
       "KNeighborsClassifier()"
      ]
     },
     "execution_count": 120,
     "metadata": {},
     "output_type": "execute_result"
    }
   ],
   "source": [
    "knn_model = KNeighborsClassifier()\n",
    "knn_model.fit(x_train_std,y_train)"
   ]
  },
  {
   "cell_type": "code",
   "execution_count": 121,
   "id": "dd73259c",
   "metadata": {},
   "outputs": [
    {
     "name": "stdout",
     "output_type": "stream",
     "text": [
      "Confusion Matrix : \n",
      " [[17 21]\n",
      " [ 5 80]]\n",
      "\n",
      "Accuracy Score: 0.7886178861788617\n",
      "classification report :               precision    recall  f1-score   support\n",
      "\n",
      "           N       0.77      0.45      0.57        38\n",
      "           Y       0.79      0.94      0.86        85\n",
      "\n",
      "    accuracy                           0.79       123\n",
      "   macro avg       0.78      0.69      0.71       123\n",
      "weighted avg       0.79      0.79      0.77       123\n",
      "\n"
     ]
    }
   ],
   "source": [
    "## Testing data evalution\n",
    "y_pred_knn = knn_model.predict(x_test_std)\n",
    "\n",
    "cnf_matrix = confusion_matrix(y_test , y_pred_knn)\n",
    "print('Confusion Matrix : \\n',cnf_matrix)\n",
    "print()\n",
    "\n",
    "acc_score_test_knn = accuracy_score(y_test,y_pred_knn)\n",
    "print('Accuracy Score:',acc_score_test_knn)\n",
    "\n",
    "clf_report = classification_report(y_test , y_pred_knn)\n",
    "print('classification report :',clf_report)"
   ]
  },
  {
   "cell_type": "code",
   "execution_count": 122,
   "id": "fc370793",
   "metadata": {},
   "outputs": [
    {
     "name": "stdout",
     "output_type": "stream",
     "text": [
      "Confusion Matrix : \n",
      " [[ 79  75]\n",
      " [ 12 325]]\n",
      "\n",
      "Accuracy Score: 0.8228105906313645\n",
      "classification report :               precision    recall  f1-score   support\n",
      "\n",
      "           N       0.87      0.51      0.64       154\n",
      "           Y       0.81      0.96      0.88       337\n",
      "\n",
      "    accuracy                           0.82       491\n",
      "   macro avg       0.84      0.74      0.76       491\n",
      "weighted avg       0.83      0.82      0.81       491\n",
      "\n"
     ]
    },
    {
     "name": "stderr",
     "output_type": "stream",
     "text": [
      "Exception in callback BaseSelectorEventLoop._read_from_self()\n",
      "handle: <Handle BaseSelectorEventLoop._read_from_self()>\n",
      "Traceback (most recent call last):\n",
      "  File \"C:\\Users\\pc\\anaconda3\\lib\\asyncio\\events.py\", line 80, in _run\n",
      "    self._context.run(self._callback, *self._args)\n",
      "  File \"C:\\Users\\pc\\anaconda3\\lib\\asyncio\\selector_events.py\", line 120, in _read_from_self\n",
      "    data = self._ssock.recv(4096)\n",
      "ConnectionResetError: [WinError 10054] An existing connection was forcibly closed by the remote host\n",
      "Exception in callback BaseSelectorEventLoop._read_from_self()\n",
      "handle: <Handle BaseSelectorEventLoop._read_from_self()>\n",
      "Traceback (most recent call last):\n",
      "  File \"C:\\Users\\pc\\anaconda3\\lib\\asyncio\\events.py\", line 80, in _run\n",
      "    self._context.run(self._callback, *self._args)\n",
      "  File \"C:\\Users\\pc\\anaconda3\\lib\\asyncio\\selector_events.py\", line 120, in _read_from_self\n",
      "    data = self._ssock.recv(4096)\n",
      "ConnectionResetError: [WinError 10054] An existing connection was forcibly closed by the remote host\n",
      "Exception in callback BaseSelectorEventLoop._read_from_self()\n",
      "handle: <Handle BaseSelectorEventLoop._read_from_self()>\n",
      "Traceback (most recent call last):\n",
      "  File \"C:\\Users\\pc\\anaconda3\\lib\\asyncio\\events.py\", line 80, in _run\n",
      "    self._context.run(self._callback, *self._args)\n",
      "  File \"C:\\Users\\pc\\anaconda3\\lib\\asyncio\\selector_events.py\", line 120, in _read_from_self\n",
      "    data = self._ssock.recv(4096)\n",
      "ConnectionResetError: [WinError 10054] An existing connection was forcibly closed by the remote host\n",
      "Exception in callback BaseSelectorEventLoop._read_from_self()\n",
      "handle: <Handle BaseSelectorEventLoop._read_from_self()>\n",
      "Traceback (most recent call last):\n",
      "  File \"C:\\Users\\pc\\anaconda3\\lib\\asyncio\\events.py\", line 80, in _run\n",
      "    self._context.run(self._callback, *self._args)\n",
      "  File \"C:\\Users\\pc\\anaconda3\\lib\\asyncio\\selector_events.py\", line 120, in _read_from_self\n",
      "    data = self._ssock.recv(4096)\n",
      "ConnectionResetError: [WinError 10054] An existing connection was forcibly closed by the remote host\n",
      "Exception in callback BaseSelectorEventLoop._read_from_self()\n",
      "handle: <Handle BaseSelectorEventLoop._read_from_self()>\n",
      "Traceback (most recent call last):\n",
      "  File \"C:\\Users\\pc\\anaconda3\\lib\\asyncio\\events.py\", line 80, in _run\n",
      "    self._context.run(self._callback, *self._args)\n",
      "  File \"C:\\Users\\pc\\anaconda3\\lib\\asyncio\\selector_events.py\", line 120, in _read_from_self\n",
      "    data = self._ssock.recv(4096)\n",
      "ConnectionResetError: [WinError 10054] An existing connection was forcibly closed by the remote host\n",
      "Exception in callback BaseSelectorEventLoop._read_from_self()\n",
      "handle: <Handle BaseSelectorEventLoop._read_from_self()>\n",
      "Traceback (most recent call last):\n",
      "  File \"C:\\Users\\pc\\anaconda3\\lib\\asyncio\\events.py\", line 80, in _run\n",
      "    self._context.run(self._callback, *self._args)\n",
      "  File \"C:\\Users\\pc\\anaconda3\\lib\\asyncio\\selector_events.py\", line 120, in _read_from_self\n",
      "    data = self._ssock.recv(4096)\n",
      "ConnectionResetError: [WinError 10054] An existing connection was forcibly closed by the remote host\n",
      "Exception in callback BaseSelectorEventLoop._read_from_self()\n",
      "handle: <Handle BaseSelectorEventLoop._read_from_self()>\n",
      "Traceback (most recent call last):\n",
      "  File \"C:\\Users\\pc\\anaconda3\\lib\\asyncio\\events.py\", line 80, in _run\n",
      "    self._context.run(self._callback, *self._args)\n",
      "  File \"C:\\Users\\pc\\anaconda3\\lib\\asyncio\\selector_events.py\", line 120, in _read_from_self\n",
      "    data = self._ssock.recv(4096)\n",
      "ConnectionResetError: [WinError 10054] An existing connection was forcibly closed by the remote host\n",
      "Exception in callback BaseSelectorEventLoop._read_from_self()\n",
      "handle: <Handle BaseSelectorEventLoop._read_from_self()>\n",
      "Traceback (most recent call last):\n",
      "  File \"C:\\Users\\pc\\anaconda3\\lib\\asyncio\\events.py\", line 80, in _run\n",
      "    self._context.run(self._callback, *self._args)\n",
      "  File \"C:\\Users\\pc\\anaconda3\\lib\\asyncio\\selector_events.py\", line 120, in _read_from_self\n",
      "    data = self._ssock.recv(4096)\n",
      "ConnectionResetError: [WinError 10054] An existing connection was forcibly closed by the remote host\n",
      "Exception in callback BaseSelectorEventLoop._read_from_self()\n",
      "handle: <Handle BaseSelectorEventLoop._read_from_self()>\n",
      "Traceback (most recent call last):\n",
      "  File \"C:\\Users\\pc\\anaconda3\\lib\\asyncio\\events.py\", line 80, in _run\n",
      "    self._context.run(self._callback, *self._args)\n",
      "  File \"C:\\Users\\pc\\anaconda3\\lib\\asyncio\\selector_events.py\", line 120, in _read_from_self\n",
      "    data = self._ssock.recv(4096)\n",
      "ConnectionResetError: [WinError 10054] An existing connection was forcibly closed by the remote host\n",
      "Exception in callback BaseSelectorEventLoop._read_from_self()\n",
      "handle: <Handle BaseSelectorEventLoop._read_from_self()>\n",
      "Traceback (most recent call last):\n",
      "  File \"C:\\Users\\pc\\anaconda3\\lib\\asyncio\\events.py\", line 80, in _run\n",
      "    self._context.run(self._callback, *self._args)\n",
      "  File \"C:\\Users\\pc\\anaconda3\\lib\\asyncio\\selector_events.py\", line 120, in _read_from_self\n",
      "    data = self._ssock.recv(4096)\n",
      "ConnectionResetError: [WinError 10054] An existing connection was forcibly closed by the remote host\n",
      "Exception in callback BaseSelectorEventLoop._read_from_self()\n",
      "handle: <Handle BaseSelectorEventLoop._read_from_self()>\n",
      "Traceback (most recent call last):\n",
      "  File \"C:\\Users\\pc\\anaconda3\\lib\\asyncio\\events.py\", line 80, in _run\n",
      "    self._context.run(self._callback, *self._args)\n",
      "  File \"C:\\Users\\pc\\anaconda3\\lib\\asyncio\\selector_events.py\", line 120, in _read_from_self\n",
      "    data = self._ssock.recv(4096)\n",
      "ConnectionResetError: [WinError 10054] An existing connection was forcibly closed by the remote host\n",
      "Exception in callback BaseSelectorEventLoop._read_from_self()\n",
      "handle: <Handle BaseSelectorEventLoop._read_from_self()>\n",
      "Traceback (most recent call last):\n",
      "  File \"C:\\Users\\pc\\anaconda3\\lib\\asyncio\\events.py\", line 80, in _run\n",
      "    self._context.run(self._callback, *self._args)\n",
      "  File \"C:\\Users\\pc\\anaconda3\\lib\\asyncio\\selector_events.py\", line 120, in _read_from_self\n",
      "    data = self._ssock.recv(4096)\n",
      "ConnectionResetError: [WinError 10054] An existing connection was forcibly closed by the remote host\n",
      "Exception in callback BaseSelectorEventLoop._read_from_self()\n",
      "handle: <Handle BaseSelectorEventLoop._read_from_self()>\n",
      "Traceback (most recent call last):\n",
      "  File \"C:\\Users\\pc\\anaconda3\\lib\\asyncio\\events.py\", line 80, in _run\n",
      "    self._context.run(self._callback, *self._args)\n",
      "  File \"C:\\Users\\pc\\anaconda3\\lib\\asyncio\\selector_events.py\", line 120, in _read_from_self\n",
      "    data = self._ssock.recv(4096)\n",
      "ConnectionResetError: [WinError 10054] An existing connection was forcibly closed by the remote host\n",
      "Exception in callback BaseSelectorEventLoop._read_from_self()\n",
      "handle: <Handle BaseSelectorEventLoop._read_from_self()>\n",
      "Traceback (most recent call last):\n",
      "  File \"C:\\Users\\pc\\anaconda3\\lib\\asyncio\\events.py\", line 80, in _run\n",
      "    self._context.run(self._callback, *self._args)\n",
      "  File \"C:\\Users\\pc\\anaconda3\\lib\\asyncio\\selector_events.py\", line 120, in _read_from_self\n",
      "    data = self._ssock.recv(4096)\n",
      "ConnectionResetError: [WinError 10054] An existing connection was forcibly closed by the remote host\n",
      "Exception in callback BaseSelectorEventLoop._read_from_self()\n",
      "handle: <Handle BaseSelectorEventLoop._read_from_self()>\n",
      "Traceback (most recent call last):\n",
      "  File \"C:\\Users\\pc\\anaconda3\\lib\\asyncio\\events.py\", line 80, in _run\n",
      "    self._context.run(self._callback, *self._args)\n",
      "  File \"C:\\Users\\pc\\anaconda3\\lib\\asyncio\\selector_events.py\", line 120, in _read_from_self\n",
      "    data = self._ssock.recv(4096)\n",
      "ConnectionResetError: [WinError 10054] An existing connection was forcibly closed by the remote host\n",
      "Exception in callback BaseSelectorEventLoop._read_from_self()\n",
      "handle: <Handle BaseSelectorEventLoop._read_from_self()>\n",
      "Traceback (most recent call last):\n",
      "  File \"C:\\Users\\pc\\anaconda3\\lib\\asyncio\\events.py\", line 80, in _run\n",
      "    self._context.run(self._callback, *self._args)\n",
      "  File \"C:\\Users\\pc\\anaconda3\\lib\\asyncio\\selector_events.py\", line 120, in _read_from_self\n",
      "    data = self._ssock.recv(4096)\n",
      "ConnectionResetError: [WinError 10054] An existing connection was forcibly closed by the remote host\n",
      "Exception in callback BaseSelectorEventLoop._read_from_self()\n",
      "handle: <Handle BaseSelectorEventLoop._read_from_self()>\n",
      "Traceback (most recent call last):\n",
      "  File \"C:\\Users\\pc\\anaconda3\\lib\\asyncio\\events.py\", line 80, in _run\n",
      "    self._context.run(self._callback, *self._args)\n",
      "  File \"C:\\Users\\pc\\anaconda3\\lib\\asyncio\\selector_events.py\", line 120, in _read_from_self\n",
      "    data = self._ssock.recv(4096)\n",
      "ConnectionResetError: [WinError 10054] An existing connection was forcibly closed by the remote host\n"
     ]
    },
    {
     "name": "stderr",
     "output_type": "stream",
     "text": [
      "Exception in callback BaseSelectorEventLoop._read_from_self()\n",
      "handle: <Handle BaseSelectorEventLoop._read_from_self()>\n",
      "Traceback (most recent call last):\n",
      "  File \"C:\\Users\\pc\\anaconda3\\lib\\asyncio\\events.py\", line 80, in _run\n",
      "    self._context.run(self._callback, *self._args)\n",
      "  File \"C:\\Users\\pc\\anaconda3\\lib\\asyncio\\selector_events.py\", line 120, in _read_from_self\n",
      "    data = self._ssock.recv(4096)\n",
      "ConnectionResetError: [WinError 10054] An existing connection was forcibly closed by the remote host\n",
      "Exception in callback BaseSelectorEventLoop._read_from_self()\n",
      "handle: <Handle BaseSelectorEventLoop._read_from_self()>\n",
      "Traceback (most recent call last):\n",
      "  File \"C:\\Users\\pc\\anaconda3\\lib\\asyncio\\events.py\", line 80, in _run\n",
      "    self._context.run(self._callback, *self._args)\n",
      "  File \"C:\\Users\\pc\\anaconda3\\lib\\asyncio\\selector_events.py\", line 120, in _read_from_self\n",
      "    data = self._ssock.recv(4096)\n",
      "ConnectionResetError: [WinError 10054] An existing connection was forcibly closed by the remote host\n",
      "Exception in callback BaseSelectorEventLoop._read_from_self()\n",
      "handle: <Handle BaseSelectorEventLoop._read_from_self()>\n",
      "Traceback (most recent call last):\n",
      "  File \"C:\\Users\\pc\\anaconda3\\lib\\asyncio\\events.py\", line 80, in _run\n",
      "    self._context.run(self._callback, *self._args)\n",
      "  File \"C:\\Users\\pc\\anaconda3\\lib\\asyncio\\selector_events.py\", line 120, in _read_from_self\n",
      "    data = self._ssock.recv(4096)\n",
      "ConnectionResetError: [WinError 10054] An existing connection was forcibly closed by the remote host\n",
      "Exception in callback BaseSelectorEventLoop._read_from_self()\n",
      "handle: <Handle BaseSelectorEventLoop._read_from_self()>\n",
      "Traceback (most recent call last):\n",
      "  File \"C:\\Users\\pc\\anaconda3\\lib\\asyncio\\events.py\", line 80, in _run\n",
      "    self._context.run(self._callback, *self._args)\n",
      "  File \"C:\\Users\\pc\\anaconda3\\lib\\asyncio\\selector_events.py\", line 120, in _read_from_self\n",
      "    data = self._ssock.recv(4096)\n",
      "ConnectionResetError: [WinError 10054] An existing connection was forcibly closed by the remote host\n",
      "Exception in callback BaseSelectorEventLoop._read_from_self()\n",
      "handle: <Handle BaseSelectorEventLoop._read_from_self()>\n",
      "Traceback (most recent call last):\n",
      "  File \"C:\\Users\\pc\\anaconda3\\lib\\asyncio\\events.py\", line 80, in _run\n",
      "    self._context.run(self._callback, *self._args)\n",
      "  File \"C:\\Users\\pc\\anaconda3\\lib\\asyncio\\selector_events.py\", line 120, in _read_from_self\n",
      "    data = self._ssock.recv(4096)\n",
      "ConnectionResetError: [WinError 10054] An existing connection was forcibly closed by the remote host\n",
      "Exception in callback BaseSelectorEventLoop._read_from_self()\n",
      "handle: <Handle BaseSelectorEventLoop._read_from_self()>\n",
      "Traceback (most recent call last):\n",
      "  File \"C:\\Users\\pc\\anaconda3\\lib\\asyncio\\events.py\", line 80, in _run\n",
      "    self._context.run(self._callback, *self._args)\n",
      "  File \"C:\\Users\\pc\\anaconda3\\lib\\asyncio\\selector_events.py\", line 120, in _read_from_self\n",
      "    data = self._ssock.recv(4096)\n",
      "ConnectionResetError: [WinError 10054] An existing connection was forcibly closed by the remote host\n",
      "Exception in callback BaseSelectorEventLoop._read_from_self()\n",
      "handle: <Handle BaseSelectorEventLoop._read_from_self()>\n",
      "Traceback (most recent call last):\n",
      "  File \"C:\\Users\\pc\\anaconda3\\lib\\asyncio\\events.py\", line 80, in _run\n",
      "    self._context.run(self._callback, *self._args)\n",
      "  File \"C:\\Users\\pc\\anaconda3\\lib\\asyncio\\selector_events.py\", line 120, in _read_from_self\n",
      "    data = self._ssock.recv(4096)\n",
      "ConnectionResetError: [WinError 10054] An existing connection was forcibly closed by the remote host\n",
      "Exception in callback BaseSelectorEventLoop._read_from_self()\n",
      "handle: <Handle BaseSelectorEventLoop._read_from_self()>\n",
      "Traceback (most recent call last):\n",
      "  File \"C:\\Users\\pc\\anaconda3\\lib\\asyncio\\events.py\", line 80, in _run\n",
      "    self._context.run(self._callback, *self._args)\n",
      "  File \"C:\\Users\\pc\\anaconda3\\lib\\asyncio\\selector_events.py\", line 120, in _read_from_self\n",
      "    data = self._ssock.recv(4096)\n",
      "ConnectionResetError: [WinError 10054] An existing connection was forcibly closed by the remote host\n",
      "Exception in callback BaseSelectorEventLoop._read_from_self()\n",
      "handle: <Handle BaseSelectorEventLoop._read_from_self()>\n",
      "Traceback (most recent call last):\n",
      "  File \"C:\\Users\\pc\\anaconda3\\lib\\asyncio\\events.py\", line 80, in _run\n",
      "    self._context.run(self._callback, *self._args)\n",
      "  File \"C:\\Users\\pc\\anaconda3\\lib\\asyncio\\selector_events.py\", line 120, in _read_from_self\n",
      "    data = self._ssock.recv(4096)\n",
      "ConnectionResetError: [WinError 10054] An existing connection was forcibly closed by the remote host\n",
      "Exception in callback BaseSelectorEventLoop._read_from_self()\n",
      "handle: <Handle BaseSelectorEventLoop._read_from_self()>\n",
      "Traceback (most recent call last):\n",
      "  File \"C:\\Users\\pc\\anaconda3\\lib\\asyncio\\events.py\", line 80, in _run\n",
      "    self._context.run(self._callback, *self._args)\n",
      "  File \"C:\\Users\\pc\\anaconda3\\lib\\asyncio\\selector_events.py\", line 120, in _read_from_self\n",
      "    data = self._ssock.recv(4096)\n",
      "ConnectionResetError: [WinError 10054] An existing connection was forcibly closed by the remote host\n",
      "Exception in callback BaseSelectorEventLoop._read_from_self()\n",
      "handle: <Handle BaseSelectorEventLoop._read_from_self()>\n",
      "Traceback (most recent call last):\n",
      "  File \"C:\\Users\\pc\\anaconda3\\lib\\asyncio\\events.py\", line 80, in _run\n",
      "    self._context.run(self._callback, *self._args)\n",
      "  File \"C:\\Users\\pc\\anaconda3\\lib\\asyncio\\selector_events.py\", line 120, in _read_from_self\n",
      "    data = self._ssock.recv(4096)\n",
      "ConnectionResetError: [WinError 10054] An existing connection was forcibly closed by the remote host\n",
      "Exception in callback BaseSelectorEventLoop._read_from_self()\n",
      "handle: <Handle BaseSelectorEventLoop._read_from_self()>\n",
      "Traceback (most recent call last):\n",
      "  File \"C:\\Users\\pc\\anaconda3\\lib\\asyncio\\events.py\", line 80, in _run\n",
      "    self._context.run(self._callback, *self._args)\n",
      "  File \"C:\\Users\\pc\\anaconda3\\lib\\asyncio\\selector_events.py\", line 120, in _read_from_self\n",
      "    data = self._ssock.recv(4096)\n",
      "ConnectionResetError: [WinError 10054] An existing connection was forcibly closed by the remote host\n",
      "Exception in callback BaseSelectorEventLoop._read_from_self()\n",
      "handle: <Handle BaseSelectorEventLoop._read_from_self()>\n",
      "Traceback (most recent call last):\n",
      "  File \"C:\\Users\\pc\\anaconda3\\lib\\asyncio\\events.py\", line 80, in _run\n",
      "    self._context.run(self._callback, *self._args)\n",
      "  File \"C:\\Users\\pc\\anaconda3\\lib\\asyncio\\selector_events.py\", line 120, in _read_from_self\n",
      "    data = self._ssock.recv(4096)\n",
      "ConnectionResetError: [WinError 10054] An existing connection was forcibly closed by the remote host\n",
      "Exception in callback BaseSelectorEventLoop._read_from_self()\n",
      "handle: <Handle BaseSelectorEventLoop._read_from_self()>\n",
      "Traceback (most recent call last):\n",
      "  File \"C:\\Users\\pc\\anaconda3\\lib\\asyncio\\events.py\", line 80, in _run\n",
      "    self._context.run(self._callback, *self._args)\n",
      "  File \"C:\\Users\\pc\\anaconda3\\lib\\asyncio\\selector_events.py\", line 120, in _read_from_self\n",
      "    data = self._ssock.recv(4096)\n",
      "ConnectionResetError: [WinError 10054] An existing connection was forcibly closed by the remote host\n",
      "Exception in callback BaseSelectorEventLoop._read_from_self()\n",
      "handle: <Handle BaseSelectorEventLoop._read_from_self()>\n",
      "Traceback (most recent call last):\n",
      "  File \"C:\\Users\\pc\\anaconda3\\lib\\asyncio\\events.py\", line 80, in _run\n",
      "    self._context.run(self._callback, *self._args)\n",
      "  File \"C:\\Users\\pc\\anaconda3\\lib\\asyncio\\selector_events.py\", line 120, in _read_from_self\n",
      "    data = self._ssock.recv(4096)\n",
      "ConnectionResetError: [WinError 10054] An existing connection was forcibly closed by the remote host\n",
      "Exception in callback BaseSelectorEventLoop._read_from_self()\n",
      "handle: <Handle BaseSelectorEventLoop._read_from_self()>\n",
      "Traceback (most recent call last):\n",
      "  File \"C:\\Users\\pc\\anaconda3\\lib\\asyncio\\events.py\", line 80, in _run\n",
      "    self._context.run(self._callback, *self._args)\n",
      "  File \"C:\\Users\\pc\\anaconda3\\lib\\asyncio\\selector_events.py\", line 120, in _read_from_self\n",
      "    data = self._ssock.recv(4096)\n",
      "ConnectionResetError: [WinError 10054] An existing connection was forcibly closed by the remote host\n",
      "Exception in callback BaseSelectorEventLoop._read_from_self()\n",
      "handle: <Handle BaseSelectorEventLoop._read_from_self()>\n",
      "Traceback (most recent call last):\n",
      "  File \"C:\\Users\\pc\\anaconda3\\lib\\asyncio\\events.py\", line 80, in _run\n",
      "    self._context.run(self._callback, *self._args)\n",
      "  File \"C:\\Users\\pc\\anaconda3\\lib\\asyncio\\selector_events.py\", line 120, in _read_from_self\n",
      "    data = self._ssock.recv(4096)\n",
      "ConnectionResetError: [WinError 10054] An existing connection was forcibly closed by the remote host\n"
     ]
    },
    {
     "name": "stderr",
     "output_type": "stream",
     "text": [
      "Exception in callback BaseSelectorEventLoop._read_from_self()\n",
      "handle: <Handle BaseSelectorEventLoop._read_from_self()>\n",
      "Traceback (most recent call last):\n",
      "  File \"C:\\Users\\pc\\anaconda3\\lib\\asyncio\\events.py\", line 80, in _run\n",
      "    self._context.run(self._callback, *self._args)\n",
      "  File \"C:\\Users\\pc\\anaconda3\\lib\\asyncio\\selector_events.py\", line 120, in _read_from_self\n",
      "    data = self._ssock.recv(4096)\n",
      "ConnectionResetError: [WinError 10054] An existing connection was forcibly closed by the remote host\n",
      "Exception in callback BaseSelectorEventLoop._read_from_self()\n",
      "handle: <Handle BaseSelectorEventLoop._read_from_self()>\n",
      "Traceback (most recent call last):\n",
      "  File \"C:\\Users\\pc\\anaconda3\\lib\\asyncio\\events.py\", line 80, in _run\n",
      "    self._context.run(self._callback, *self._args)\n",
      "  File \"C:\\Users\\pc\\anaconda3\\lib\\asyncio\\selector_events.py\", line 120, in _read_from_self\n",
      "    data = self._ssock.recv(4096)\n",
      "ConnectionResetError: [WinError 10054] An existing connection was forcibly closed by the remote host\n",
      "Exception in callback BaseSelectorEventLoop._read_from_self()\n",
      "handle: <Handle BaseSelectorEventLoop._read_from_self()>\n",
      "Traceback (most recent call last):\n",
      "  File \"C:\\Users\\pc\\anaconda3\\lib\\asyncio\\events.py\", line 80, in _run\n",
      "    self._context.run(self._callback, *self._args)\n",
      "  File \"C:\\Users\\pc\\anaconda3\\lib\\asyncio\\selector_events.py\", line 120, in _read_from_self\n",
      "    data = self._ssock.recv(4096)\n",
      "ConnectionResetError: [WinError 10054] An existing connection was forcibly closed by the remote host\n",
      "Exception in callback BaseSelectorEventLoop._read_from_self()\n",
      "handle: <Handle BaseSelectorEventLoop._read_from_self()>\n",
      "Traceback (most recent call last):\n",
      "  File \"C:\\Users\\pc\\anaconda3\\lib\\asyncio\\events.py\", line 80, in _run\n",
      "    self._context.run(self._callback, *self._args)\n",
      "  File \"C:\\Users\\pc\\anaconda3\\lib\\asyncio\\selector_events.py\", line 120, in _read_from_self\n",
      "    data = self._ssock.recv(4096)\n",
      "ConnectionResetError: [WinError 10054] An existing connection was forcibly closed by the remote host\n",
      "Exception in callback BaseSelectorEventLoop._read_from_self()\n",
      "handle: <Handle BaseSelectorEventLoop._read_from_self()>\n",
      "Traceback (most recent call last):\n",
      "  File \"C:\\Users\\pc\\anaconda3\\lib\\asyncio\\events.py\", line 80, in _run\n",
      "    self._context.run(self._callback, *self._args)\n",
      "  File \"C:\\Users\\pc\\anaconda3\\lib\\asyncio\\selector_events.py\", line 120, in _read_from_self\n",
      "    data = self._ssock.recv(4096)\n",
      "ConnectionResetError: [WinError 10054] An existing connection was forcibly closed by the remote host\n",
      "Exception in callback BaseSelectorEventLoop._read_from_self()\n",
      "handle: <Handle BaseSelectorEventLoop._read_from_self()>\n",
      "Traceback (most recent call last):\n",
      "  File \"C:\\Users\\pc\\anaconda3\\lib\\asyncio\\events.py\", line 80, in _run\n",
      "    self._context.run(self._callback, *self._args)\n",
      "  File \"C:\\Users\\pc\\anaconda3\\lib\\asyncio\\selector_events.py\", line 120, in _read_from_self\n",
      "    data = self._ssock.recv(4096)\n",
      "ConnectionResetError: [WinError 10054] An existing connection was forcibly closed by the remote host\n",
      "Exception in callback BaseSelectorEventLoop._read_from_self()\n",
      "handle: <Handle BaseSelectorEventLoop._read_from_self()>\n",
      "Traceback (most recent call last):\n",
      "  File \"C:\\Users\\pc\\anaconda3\\lib\\asyncio\\events.py\", line 80, in _run\n",
      "    self._context.run(self._callback, *self._args)\n",
      "  File \"C:\\Users\\pc\\anaconda3\\lib\\asyncio\\selector_events.py\", line 120, in _read_from_self\n",
      "    data = self._ssock.recv(4096)\n",
      "ConnectionResetError: [WinError 10054] An existing connection was forcibly closed by the remote host\n",
      "Exception in callback BaseSelectorEventLoop._read_from_self()\n",
      "handle: <Handle BaseSelectorEventLoop._read_from_self()>\n",
      "Traceback (most recent call last):\n",
      "  File \"C:\\Users\\pc\\anaconda3\\lib\\asyncio\\events.py\", line 80, in _run\n",
      "    self._context.run(self._callback, *self._args)\n",
      "  File \"C:\\Users\\pc\\anaconda3\\lib\\asyncio\\selector_events.py\", line 120, in _read_from_self\n",
      "    data = self._ssock.recv(4096)\n",
      "ConnectionResetError: [WinError 10054] An existing connection was forcibly closed by the remote host\n",
      "Exception in callback BaseSelectorEventLoop._read_from_self()\n",
      "handle: <Handle BaseSelectorEventLoop._read_from_self()>\n",
      "Traceback (most recent call last):\n",
      "  File \"C:\\Users\\pc\\anaconda3\\lib\\asyncio\\events.py\", line 80, in _run\n",
      "    self._context.run(self._callback, *self._args)\n",
      "  File \"C:\\Users\\pc\\anaconda3\\lib\\asyncio\\selector_events.py\", line 120, in _read_from_self\n",
      "    data = self._ssock.recv(4096)\n",
      "ConnectionResetError: [WinError 10054] An existing connection was forcibly closed by the remote host\n",
      "Exception in callback BaseSelectorEventLoop._read_from_self()\n",
      "handle: <Handle BaseSelectorEventLoop._read_from_self()>\n",
      "Traceback (most recent call last):\n",
      "  File \"C:\\Users\\pc\\anaconda3\\lib\\asyncio\\events.py\", line 80, in _run\n",
      "    self._context.run(self._callback, *self._args)\n",
      "  File \"C:\\Users\\pc\\anaconda3\\lib\\asyncio\\selector_events.py\", line 120, in _read_from_self\n",
      "    data = self._ssock.recv(4096)\n",
      "ConnectionResetError: [WinError 10054] An existing connection was forcibly closed by the remote host\n",
      "Exception in callback BaseSelectorEventLoop._read_from_self()\n",
      "handle: <Handle BaseSelectorEventLoop._read_from_self()>\n",
      "Traceback (most recent call last):\n",
      "  File \"C:\\Users\\pc\\anaconda3\\lib\\asyncio\\events.py\", line 80, in _run\n",
      "    self._context.run(self._callback, *self._args)\n",
      "  File \"C:\\Users\\pc\\anaconda3\\lib\\asyncio\\selector_events.py\", line 120, in _read_from_self\n",
      "    data = self._ssock.recv(4096)\n",
      "ConnectionResetError: [WinError 10054] An existing connection was forcibly closed by the remote host\n",
      "Exception in callback BaseSelectorEventLoop._read_from_self()\n",
      "handle: <Handle BaseSelectorEventLoop._read_from_self()>\n",
      "Traceback (most recent call last):\n",
      "  File \"C:\\Users\\pc\\anaconda3\\lib\\asyncio\\events.py\", line 80, in _run\n",
      "    self._context.run(self._callback, *self._args)\n",
      "  File \"C:\\Users\\pc\\anaconda3\\lib\\asyncio\\selector_events.py\", line 120, in _read_from_self\n",
      "    data = self._ssock.recv(4096)\n",
      "ConnectionResetError: [WinError 10054] An existing connection was forcibly closed by the remote host\n",
      "Exception in callback BaseSelectorEventLoop._read_from_self()\n",
      "handle: <Handle BaseSelectorEventLoop._read_from_self()>\n",
      "Traceback (most recent call last):\n",
      "  File \"C:\\Users\\pc\\anaconda3\\lib\\asyncio\\events.py\", line 80, in _run\n",
      "    self._context.run(self._callback, *self._args)\n",
      "  File \"C:\\Users\\pc\\anaconda3\\lib\\asyncio\\selector_events.py\", line 120, in _read_from_self\n",
      "    data = self._ssock.recv(4096)\n",
      "ConnectionResetError: [WinError 10054] An existing connection was forcibly closed by the remote host\n",
      "Exception in callback BaseSelectorEventLoop._read_from_self()\n",
      "handle: <Handle BaseSelectorEventLoop._read_from_self()>\n",
      "Traceback (most recent call last):\n",
      "  File \"C:\\Users\\pc\\anaconda3\\lib\\asyncio\\events.py\", line 80, in _run\n",
      "    self._context.run(self._callback, *self._args)\n",
      "  File \"C:\\Users\\pc\\anaconda3\\lib\\asyncio\\selector_events.py\", line 120, in _read_from_self\n",
      "    data = self._ssock.recv(4096)\n",
      "ConnectionResetError: [WinError 10054] An existing connection was forcibly closed by the remote host\n",
      "Exception in callback BaseSelectorEventLoop._read_from_self()\n",
      "handle: <Handle BaseSelectorEventLoop._read_from_self()>\n",
      "Traceback (most recent call last):\n",
      "  File \"C:\\Users\\pc\\anaconda3\\lib\\asyncio\\events.py\", line 80, in _run\n",
      "    self._context.run(self._callback, *self._args)\n",
      "  File \"C:\\Users\\pc\\anaconda3\\lib\\asyncio\\selector_events.py\", line 120, in _read_from_self\n",
      "    data = self._ssock.recv(4096)\n",
      "ConnectionResetError: [WinError 10054] An existing connection was forcibly closed by the remote host\n",
      "Exception in callback BaseSelectorEventLoop._read_from_self()\n",
      "handle: <Handle BaseSelectorEventLoop._read_from_self()>\n",
      "Traceback (most recent call last):\n",
      "  File \"C:\\Users\\pc\\anaconda3\\lib\\asyncio\\events.py\", line 80, in _run\n",
      "    self._context.run(self._callback, *self._args)\n",
      "  File \"C:\\Users\\pc\\anaconda3\\lib\\asyncio\\selector_events.py\", line 120, in _read_from_self\n",
      "    data = self._ssock.recv(4096)\n",
      "ConnectionResetError: [WinError 10054] An existing connection was forcibly closed by the remote host\n",
      "Exception in callback BaseSelectorEventLoop._read_from_self()\n",
      "handle: <Handle BaseSelectorEventLoop._read_from_self()>\n",
      "Traceback (most recent call last):\n",
      "  File \"C:\\Users\\pc\\anaconda3\\lib\\asyncio\\events.py\", line 80, in _run\n",
      "    self._context.run(self._callback, *self._args)\n",
      "  File \"C:\\Users\\pc\\anaconda3\\lib\\asyncio\\selector_events.py\", line 120, in _read_from_self\n",
      "    data = self._ssock.recv(4096)\n",
      "ConnectionResetError: [WinError 10054] An existing connection was forcibly closed by the remote host\n"
     ]
    },
    {
     "name": "stderr",
     "output_type": "stream",
     "text": [
      "Exception in callback BaseSelectorEventLoop._read_from_self()\n",
      "handle: <Handle BaseSelectorEventLoop._read_from_self()>\n",
      "Traceback (most recent call last):\n",
      "  File \"C:\\Users\\pc\\anaconda3\\lib\\asyncio\\events.py\", line 80, in _run\n",
      "    self._context.run(self._callback, *self._args)\n",
      "  File \"C:\\Users\\pc\\anaconda3\\lib\\asyncio\\selector_events.py\", line 120, in _read_from_self\n",
      "    data = self._ssock.recv(4096)\n",
      "ConnectionResetError: [WinError 10054] An existing connection was forcibly closed by the remote host\n",
      "Exception in callback BaseSelectorEventLoop._read_from_self()\n",
      "handle: <Handle BaseSelectorEventLoop._read_from_self()>\n",
      "Traceback (most recent call last):\n",
      "  File \"C:\\Users\\pc\\anaconda3\\lib\\asyncio\\events.py\", line 80, in _run\n",
      "    self._context.run(self._callback, *self._args)\n",
      "  File \"C:\\Users\\pc\\anaconda3\\lib\\asyncio\\selector_events.py\", line 120, in _read_from_self\n",
      "    data = self._ssock.recv(4096)\n",
      "ConnectionResetError: [WinError 10054] An existing connection was forcibly closed by the remote host\n",
      "Exception in callback BaseSelectorEventLoop._read_from_self()\n",
      "handle: <Handle BaseSelectorEventLoop._read_from_self()>\n",
      "Traceback (most recent call last):\n",
      "  File \"C:\\Users\\pc\\anaconda3\\lib\\asyncio\\events.py\", line 80, in _run\n",
      "    self._context.run(self._callback, *self._args)\n",
      "  File \"C:\\Users\\pc\\anaconda3\\lib\\asyncio\\selector_events.py\", line 120, in _read_from_self\n",
      "    data = self._ssock.recv(4096)\n",
      "ConnectionResetError: [WinError 10054] An existing connection was forcibly closed by the remote host\n",
      "Exception in callback BaseSelectorEventLoop._read_from_self()\n",
      "handle: <Handle BaseSelectorEventLoop._read_from_self()>\n",
      "Traceback (most recent call last):\n",
      "  File \"C:\\Users\\pc\\anaconda3\\lib\\asyncio\\events.py\", line 80, in _run\n",
      "    self._context.run(self._callback, *self._args)\n",
      "  File \"C:\\Users\\pc\\anaconda3\\lib\\asyncio\\selector_events.py\", line 120, in _read_from_self\n",
      "    data = self._ssock.recv(4096)\n",
      "ConnectionResetError: [WinError 10054] An existing connection was forcibly closed by the remote host\n",
      "Exception in callback BaseSelectorEventLoop._read_from_self()\n",
      "handle: <Handle BaseSelectorEventLoop._read_from_self()>\n",
      "Traceback (most recent call last):\n",
      "  File \"C:\\Users\\pc\\anaconda3\\lib\\asyncio\\events.py\", line 80, in _run\n",
      "    self._context.run(self._callback, *self._args)\n",
      "  File \"C:\\Users\\pc\\anaconda3\\lib\\asyncio\\selector_events.py\", line 120, in _read_from_self\n",
      "    data = self._ssock.recv(4096)\n",
      "ConnectionResetError: [WinError 10054] An existing connection was forcibly closed by the remote host\n",
      "Exception in callback BaseSelectorEventLoop._read_from_self()\n",
      "handle: <Handle BaseSelectorEventLoop._read_from_self()>\n",
      "Traceback (most recent call last):\n",
      "  File \"C:\\Users\\pc\\anaconda3\\lib\\asyncio\\events.py\", line 80, in _run\n",
      "    self._context.run(self._callback, *self._args)\n",
      "  File \"C:\\Users\\pc\\anaconda3\\lib\\asyncio\\selector_events.py\", line 120, in _read_from_self\n",
      "    data = self._ssock.recv(4096)\n",
      "ConnectionResetError: [WinError 10054] An existing connection was forcibly closed by the remote host\n",
      "Exception in callback BaseSelectorEventLoop._read_from_self()\n",
      "handle: <Handle BaseSelectorEventLoop._read_from_self()>\n",
      "Traceback (most recent call last):\n",
      "  File \"C:\\Users\\pc\\anaconda3\\lib\\asyncio\\events.py\", line 80, in _run\n",
      "    self._context.run(self._callback, *self._args)\n",
      "  File \"C:\\Users\\pc\\anaconda3\\lib\\asyncio\\selector_events.py\", line 120, in _read_from_self\n",
      "    data = self._ssock.recv(4096)\n",
      "ConnectionResetError: [WinError 10054] An existing connection was forcibly closed by the remote host\n",
      "Exception in callback BaseSelectorEventLoop._read_from_self()\n",
      "handle: <Handle BaseSelectorEventLoop._read_from_self()>\n",
      "Traceback (most recent call last):\n",
      "  File \"C:\\Users\\pc\\anaconda3\\lib\\asyncio\\events.py\", line 80, in _run\n",
      "    self._context.run(self._callback, *self._args)\n",
      "  File \"C:\\Users\\pc\\anaconda3\\lib\\asyncio\\selector_events.py\", line 120, in _read_from_self\n",
      "    data = self._ssock.recv(4096)\n",
      "ConnectionResetError: [WinError 10054] An existing connection was forcibly closed by the remote host\n",
      "Exception in callback BaseSelectorEventLoop._read_from_self()\n",
      "handle: <Handle BaseSelectorEventLoop._read_from_self()>\n",
      "Traceback (most recent call last):\n",
      "  File \"C:\\Users\\pc\\anaconda3\\lib\\asyncio\\events.py\", line 80, in _run\n",
      "    self._context.run(self._callback, *self._args)\n",
      "  File \"C:\\Users\\pc\\anaconda3\\lib\\asyncio\\selector_events.py\", line 120, in _read_from_self\n",
      "    data = self._ssock.recv(4096)\n",
      "ConnectionResetError: [WinError 10054] An existing connection was forcibly closed by the remote host\n",
      "Exception in callback BaseSelectorEventLoop._read_from_self()\n",
      "handle: <Handle BaseSelectorEventLoop._read_from_self()>\n",
      "Traceback (most recent call last):\n",
      "  File \"C:\\Users\\pc\\anaconda3\\lib\\asyncio\\events.py\", line 80, in _run\n",
      "    self._context.run(self._callback, *self._args)\n",
      "  File \"C:\\Users\\pc\\anaconda3\\lib\\asyncio\\selector_events.py\", line 120, in _read_from_self\n",
      "    data = self._ssock.recv(4096)\n",
      "ConnectionResetError: [WinError 10054] An existing connection was forcibly closed by the remote host\n",
      "Exception in callback BaseSelectorEventLoop._read_from_self()\n",
      "handle: <Handle BaseSelectorEventLoop._read_from_self()>\n",
      "Traceback (most recent call last):\n",
      "  File \"C:\\Users\\pc\\anaconda3\\lib\\asyncio\\events.py\", line 80, in _run\n",
      "    self._context.run(self._callback, *self._args)\n",
      "  File \"C:\\Users\\pc\\anaconda3\\lib\\asyncio\\selector_events.py\", line 120, in _read_from_self\n",
      "    data = self._ssock.recv(4096)\n",
      "ConnectionResetError: [WinError 10054] An existing connection was forcibly closed by the remote host\n",
      "Exception in callback BaseSelectorEventLoop._read_from_self()\n",
      "handle: <Handle BaseSelectorEventLoop._read_from_self()>\n",
      "Traceback (most recent call last):\n",
      "  File \"C:\\Users\\pc\\anaconda3\\lib\\asyncio\\events.py\", line 80, in _run\n",
      "    self._context.run(self._callback, *self._args)\n",
      "  File \"C:\\Users\\pc\\anaconda3\\lib\\asyncio\\selector_events.py\", line 120, in _read_from_self\n",
      "    data = self._ssock.recv(4096)\n",
      "ConnectionResetError: [WinError 10054] An existing connection was forcibly closed by the remote host\n",
      "Exception in callback BaseSelectorEventLoop._read_from_self()\n",
      "handle: <Handle BaseSelectorEventLoop._read_from_self()>\n",
      "Traceback (most recent call last):\n",
      "  File \"C:\\Users\\pc\\anaconda3\\lib\\asyncio\\events.py\", line 80, in _run\n",
      "    self._context.run(self._callback, *self._args)\n",
      "  File \"C:\\Users\\pc\\anaconda3\\lib\\asyncio\\selector_events.py\", line 120, in _read_from_self\n",
      "    data = self._ssock.recv(4096)\n",
      "ConnectionResetError: [WinError 10054] An existing connection was forcibly closed by the remote host\n",
      "Exception in callback BaseSelectorEventLoop._read_from_self()\n",
      "handle: <Handle BaseSelectorEventLoop._read_from_self()>\n",
      "Traceback (most recent call last):\n",
      "  File \"C:\\Users\\pc\\anaconda3\\lib\\asyncio\\events.py\", line 80, in _run\n",
      "    self._context.run(self._callback, *self._args)\n",
      "  File \"C:\\Users\\pc\\anaconda3\\lib\\asyncio\\selector_events.py\", line 120, in _read_from_self\n",
      "    data = self._ssock.recv(4096)\n",
      "ConnectionResetError: [WinError 10054] An existing connection was forcibly closed by the remote host\n",
      "Exception in callback BaseSelectorEventLoop._read_from_self()\n",
      "handle: <Handle BaseSelectorEventLoop._read_from_self()>\n",
      "Traceback (most recent call last):\n",
      "  File \"C:\\Users\\pc\\anaconda3\\lib\\asyncio\\events.py\", line 80, in _run\n",
      "    self._context.run(self._callback, *self._args)\n",
      "  File \"C:\\Users\\pc\\anaconda3\\lib\\asyncio\\selector_events.py\", line 120, in _read_from_self\n",
      "    data = self._ssock.recv(4096)\n",
      "ConnectionResetError: [WinError 10054] An existing connection was forcibly closed by the remote host\n",
      "Exception in callback BaseSelectorEventLoop._read_from_self()\n",
      "handle: <Handle BaseSelectorEventLoop._read_from_self()>\n",
      "Traceback (most recent call last):\n",
      "  File \"C:\\Users\\pc\\anaconda3\\lib\\asyncio\\events.py\", line 80, in _run\n",
      "    self._context.run(self._callback, *self._args)\n",
      "  File \"C:\\Users\\pc\\anaconda3\\lib\\asyncio\\selector_events.py\", line 120, in _read_from_self\n",
      "    data = self._ssock.recv(4096)\n",
      "ConnectionResetError: [WinError 10054] An existing connection was forcibly closed by the remote host\n",
      "Exception in callback BaseSelectorEventLoop._read_from_self()\n",
      "handle: <Handle BaseSelectorEventLoop._read_from_self()>\n",
      "Traceback (most recent call last):\n",
      "  File \"C:\\Users\\pc\\anaconda3\\lib\\asyncio\\events.py\", line 80, in _run\n",
      "    self._context.run(self._callback, *self._args)\n",
      "  File \"C:\\Users\\pc\\anaconda3\\lib\\asyncio\\selector_events.py\", line 120, in _read_from_self\n",
      "    data = self._ssock.recv(4096)\n",
      "ConnectionResetError: [WinError 10054] An existing connection was forcibly closed by the remote host\n"
     ]
    },
    {
     "name": "stderr",
     "output_type": "stream",
     "text": [
      "Exception in callback BaseSelectorEventLoop._read_from_self()\n",
      "handle: <Handle BaseSelectorEventLoop._read_from_self()>\n",
      "Traceback (most recent call last):\n",
      "  File \"C:\\Users\\pc\\anaconda3\\lib\\asyncio\\events.py\", line 80, in _run\n",
      "    self._context.run(self._callback, *self._args)\n",
      "  File \"C:\\Users\\pc\\anaconda3\\lib\\asyncio\\selector_events.py\", line 120, in _read_from_self\n",
      "    data = self._ssock.recv(4096)\n",
      "ConnectionResetError: [WinError 10054] An existing connection was forcibly closed by the remote host\n",
      "Exception in callback BaseSelectorEventLoop._read_from_self()\n",
      "handle: <Handle BaseSelectorEventLoop._read_from_self()>\n",
      "Traceback (most recent call last):\n",
      "  File \"C:\\Users\\pc\\anaconda3\\lib\\asyncio\\events.py\", line 80, in _run\n",
      "    self._context.run(self._callback, *self._args)\n",
      "  File \"C:\\Users\\pc\\anaconda3\\lib\\asyncio\\selector_events.py\", line 120, in _read_from_self\n",
      "    data = self._ssock.recv(4096)\n",
      "ConnectionResetError: [WinError 10054] An existing connection was forcibly closed by the remote host\n",
      "Exception in callback BaseSelectorEventLoop._read_from_self()\n",
      "handle: <Handle BaseSelectorEventLoop._read_from_self()>\n",
      "Traceback (most recent call last):\n",
      "  File \"C:\\Users\\pc\\anaconda3\\lib\\asyncio\\events.py\", line 80, in _run\n",
      "    self._context.run(self._callback, *self._args)\n",
      "  File \"C:\\Users\\pc\\anaconda3\\lib\\asyncio\\selector_events.py\", line 120, in _read_from_self\n",
      "    data = self._ssock.recv(4096)\n",
      "ConnectionResetError: [WinError 10054] An existing connection was forcibly closed by the remote host\n",
      "Exception in callback BaseSelectorEventLoop._read_from_self()\n",
      "handle: <Handle BaseSelectorEventLoop._read_from_self()>\n",
      "Traceback (most recent call last):\n",
      "  File \"C:\\Users\\pc\\anaconda3\\lib\\asyncio\\events.py\", line 80, in _run\n",
      "    self._context.run(self._callback, *self._args)\n",
      "  File \"C:\\Users\\pc\\anaconda3\\lib\\asyncio\\selector_events.py\", line 120, in _read_from_self\n",
      "    data = self._ssock.recv(4096)\n",
      "ConnectionResetError: [WinError 10054] An existing connection was forcibly closed by the remote host\n",
      "Exception in callback BaseSelectorEventLoop._read_from_self()\n",
      "handle: <Handle BaseSelectorEventLoop._read_from_self()>\n",
      "Traceback (most recent call last):\n",
      "  File \"C:\\Users\\pc\\anaconda3\\lib\\asyncio\\events.py\", line 80, in _run\n",
      "    self._context.run(self._callback, *self._args)\n",
      "  File \"C:\\Users\\pc\\anaconda3\\lib\\asyncio\\selector_events.py\", line 120, in _read_from_self\n",
      "    data = self._ssock.recv(4096)\n",
      "ConnectionResetError: [WinError 10054] An existing connection was forcibly closed by the remote host\n",
      "Exception in callback BaseSelectorEventLoop._read_from_self()\n",
      "handle: <Handle BaseSelectorEventLoop._read_from_self()>\n",
      "Traceback (most recent call last):\n",
      "  File \"C:\\Users\\pc\\anaconda3\\lib\\asyncio\\events.py\", line 80, in _run\n",
      "    self._context.run(self._callback, *self._args)\n",
      "  File \"C:\\Users\\pc\\anaconda3\\lib\\asyncio\\selector_events.py\", line 120, in _read_from_self\n",
      "    data = self._ssock.recv(4096)\n",
      "ConnectionResetError: [WinError 10054] An existing connection was forcibly closed by the remote host\n",
      "Exception in callback BaseSelectorEventLoop._read_from_self()\n",
      "handle: <Handle BaseSelectorEventLoop._read_from_self()>\n",
      "Traceback (most recent call last):\n",
      "  File \"C:\\Users\\pc\\anaconda3\\lib\\asyncio\\events.py\", line 80, in _run\n",
      "    self._context.run(self._callback, *self._args)\n",
      "  File \"C:\\Users\\pc\\anaconda3\\lib\\asyncio\\selector_events.py\", line 120, in _read_from_self\n",
      "    data = self._ssock.recv(4096)\n",
      "ConnectionResetError: [WinError 10054] An existing connection was forcibly closed by the remote host\n",
      "Exception in callback BaseSelectorEventLoop._read_from_self()\n",
      "handle: <Handle BaseSelectorEventLoop._read_from_self()>\n",
      "Traceback (most recent call last):\n",
      "  File \"C:\\Users\\pc\\anaconda3\\lib\\asyncio\\events.py\", line 80, in _run\n",
      "    self._context.run(self._callback, *self._args)\n",
      "  File \"C:\\Users\\pc\\anaconda3\\lib\\asyncio\\selector_events.py\", line 120, in _read_from_self\n",
      "    data = self._ssock.recv(4096)\n",
      "ConnectionResetError: [WinError 10054] An existing connection was forcibly closed by the remote host\n",
      "Exception in callback BaseSelectorEventLoop._read_from_self()\n",
      "handle: <Handle BaseSelectorEventLoop._read_from_self()>\n",
      "Traceback (most recent call last):\n",
      "  File \"C:\\Users\\pc\\anaconda3\\lib\\asyncio\\events.py\", line 80, in _run\n",
      "    self._context.run(self._callback, *self._args)\n",
      "  File \"C:\\Users\\pc\\anaconda3\\lib\\asyncio\\selector_events.py\", line 120, in _read_from_self\n",
      "    data = self._ssock.recv(4096)\n",
      "ConnectionResetError: [WinError 10054] An existing connection was forcibly closed by the remote host\n"
     ]
    }
   ],
   "source": [
    "## Training data evalution\n",
    "y_pred_knn_train = knn_model.predict(x_train_std)\n",
    "\n",
    "cnf_matrix = confusion_matrix(y_train , y_pred_knn_train)\n",
    "print('Confusion Matrix : \\n',cnf_matrix)\n",
    "print()\n",
    "\n",
    "acc_score_train_knn = accuracy_score(y_train,y_pred_knn_train)\n",
    "print('Accuracy Score:',acc_score_train_knn)\n",
    "\n",
    "clf_report = classification_report(y_train , y_pred_knn_train)\n",
    "print('classification report :',clf_report)"
   ]
  },
  {
   "cell_type": "code",
   "execution_count": null,
   "id": "1baca476",
   "metadata": {},
   "outputs": [],
   "source": []
  },
  {
   "cell_type": "code",
   "execution_count": null,
   "id": "710fdf74",
   "metadata": {},
   "outputs": [],
   "source": []
  },
  {
   "cell_type": "code",
   "execution_count": null,
   "id": "3e4aa3e6",
   "metadata": {},
   "outputs": [],
   "source": []
  },
  {
   "cell_type": "code",
   "execution_count": null,
   "id": "43157d38",
   "metadata": {},
   "outputs": [],
   "source": []
  },
  {
   "cell_type": "code",
   "execution_count": null,
   "id": "6802eccc",
   "metadata": {},
   "outputs": [],
   "source": []
  },
  {
   "cell_type": "code",
   "execution_count": null,
   "id": "6a12019a",
   "metadata": {},
   "outputs": [],
   "source": []
  }
 ],
 "metadata": {
  "kernelspec": {
   "display_name": "Python 3 (ipykernel)",
   "language": "python",
   "name": "python3"
  },
  "language_info": {
   "codemirror_mode": {
    "name": "ipython",
    "version": 3
   },
   "file_extension": ".py",
   "mimetype": "text/x-python",
   "name": "python",
   "nbconvert_exporter": "python",
   "pygments_lexer": "ipython3",
   "version": "3.9.7"
  }
 },
 "nbformat": 4,
 "nbformat_minor": 5
}
